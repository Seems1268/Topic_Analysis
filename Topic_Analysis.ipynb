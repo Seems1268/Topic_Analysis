{
  "nbformat": 4,
  "nbformat_minor": 0,
  "metadata": {
    "colab": {
      "provenance": []
    },
    "kernelspec": {
      "name": "python3",
      "display_name": "Python 3"
    },
    "language_info": {
      "name": "python"
    }
  },
  "cells": [
    {
      "cell_type": "markdown",
      "source": [
        "# DSE Dissertation\n",
        "\n",
        "## Topic Analysis"
      ],
      "metadata": {
        "id": "0kotEyV9qPiV"
      }
    },
    {
      "cell_type": "markdown",
      "source": [
        "#### Load Packages"
      ],
      "metadata": {
        "id": "mlqTSL_W1dsQ"
      }
    },
    {
      "cell_type": "code",
      "execution_count": 1,
      "metadata": {
        "id": "vwV5lNR3qJXD"
      },
      "outputs": [],
      "source": [
        "import pandas as pd\n",
        "import seaborn as sns\n",
        "import matplotlib.pyplot as plt\n",
        "import numpy as np\n",
        "import datetime as dt\n",
        "import seaborn as sn"
      ]
    },
    {
      "cell_type": "markdown",
      "source": [
        "#### Load Dataset"
      ],
      "metadata": {
        "id": "A1SkQhB8GKLx"
      }
    },
    {
      "cell_type": "code",
      "source": [
        "\"\"\"\n",
        "\n",
        "Loading dataset\n",
        "\n",
        "\"\"\"\n",
        "\n",
        "class UtteranceExample:\n",
        "    def __init__(self, text, label, do_lower_case):\n",
        "        self.original_text = text\n",
        "        self.text = text\n",
        "        self.label = label\n",
        "\n",
        "        if do_lower_case:\n",
        "            self.text = self.text.lower()\n",
        "\n",
        "    def to_dict(self):\n",
        "      return {\n",
        "          'utterance': self.original_text,\n",
        "          'intent': self.label,\n",
        "      }\n",
        "        \n",
        "def load_utterance_examples(file_path, do_lower_case=True):\n",
        "    examples = []\n",
        "\n",
        "    with open('{}/seq.in'.format(file_path), 'r', encoding=\"utf-8\") as f_text, open('{}/label'.format(file_path), 'r', encoding=\"utf-8\") as f_label:\n",
        "        for text, label in zip(f_text, f_label):\n",
        "            e = UtteranceExample(text.strip(), label.strip(), do_lower_case)\n",
        "            examples.append(e)\n",
        "\n",
        "    return examples\n",
        "\n"
      ],
      "metadata": {
        "id": "Y_b0qBJr2k0o"
      },
      "execution_count": 2,
      "outputs": []
    },
    {
      "cell_type": "code",
      "source": [
        "data = load_utterance_examples(\"/content/sample_data\")\n",
        "\n",
        "utterances= pd.DataFrame.from_records([d.to_dict() for d in data])\n",
        "\n",
        "print(utterances)"
      ],
      "metadata": {
        "colab": {
          "base_uri": "https://localhost:8080/"
        },
        "id": "bqmfSCtEtgLt",
        "outputId": "3b6a8857-1325-43fc-c2f7-603321aa1bfa"
      },
      "execution_count": 4,
      "outputs": [
        {
          "output_type": "stream",
          "name": "stdout",
          "text": [
            "                                              utterance           intent\n",
            "0                        i am still waiting on my card?     card_arrival\n",
            "1     what can i do if my card still hasn't arrived ...     card_arrival\n",
            "2     i have been waiting over a week. is the card s...     card_arrival\n",
            "3     can i track my card while it is in the process...     card_arrival\n",
            "4     how do i know if i will get my card, or if it ...     card_arrival\n",
            "...                                                 ...              ...\n",
            "8617             you provide support in what countries?  country_support\n",
            "8618                 what countries are you supporting?  country_support\n",
            "8619                what countries are getting support?  country_support\n",
            "8620                     are cards available in the eu?  country_support\n",
            "8621                   which countries are represented?  country_support\n",
            "\n",
            "[8622 rows x 2 columns]\n"
          ]
        }
      ]
    },
    {
      "cell_type": "markdown",
      "source": [
        "### Exploratory Data Analysis"
      ],
      "metadata": {
        "id": "XJ5ZmILI0NWV"
      }
    },
    {
      "cell_type": "code",
      "source": [
        "utterances.shape"
      ],
      "metadata": {
        "colab": {
          "base_uri": "https://localhost:8080/"
        },
        "id": "5-dZp7NU71bx",
        "outputId": "15dd5d7f-694e-4575-8f04-4b0e8df2b51e"
      },
      "execution_count": 5,
      "outputs": [
        {
          "output_type": "execute_result",
          "data": {
            "text/plain": [
              "(8622, 2)"
            ]
          },
          "metadata": {},
          "execution_count": 5
        }
      ]
    },
    {
      "cell_type": "code",
      "source": [
        "utterances.dropna(axis=0,inplace=True)#dropping na\n",
        "utterances.shape"
      ],
      "metadata": {
        "colab": {
          "base_uri": "https://localhost:8080/"
        },
        "id": "TfHxbunC8FBJ",
        "outputId": "831d314d-3ef2-4e66-f2c9-0d8339d324d4"
      },
      "execution_count": 6,
      "outputs": [
        {
          "output_type": "execute_result",
          "data": {
            "text/plain": [
              "(8622, 2)"
            ]
          },
          "metadata": {},
          "execution_count": 6
        }
      ]
    },
    {
      "cell_type": "code",
      "source": [
        "utterances.drop_duplicates(subset=['utterance'],inplace=True)#dropping duplicates\n",
        "utterances.shape"
      ],
      "metadata": {
        "colab": {
          "base_uri": "https://localhost:8080/"
        },
        "id": "ETmKKgTr8KyO",
        "outputId": "01da1c13-cac4-41d4-ac4c-a18e669a46c2"
      },
      "execution_count": 7,
      "outputs": [
        {
          "output_type": "execute_result",
          "data": {
            "text/plain": [
              "(8618, 2)"
            ]
          },
          "metadata": {},
          "execution_count": 7
        }
      ]
    },
    {
      "cell_type": "code",
      "source": [
        "type_counts_train = utterances['intent'].value_counts()\n",
        "\n",
        "print(type_counts_train)\n",
        "\n",
        "\"\"\"\n",
        "\n",
        "THIS SHOWS THE SENTENCES PER INTENT ARE IMBALANCED.\n",
        "\n",
        "TOTAL OF 77 INTENT CLASSES\n",
        "\n",
        "\"\"\""
      ],
      "metadata": {
        "colab": {
          "base_uri": "https://localhost:8080/",
          "height": 250
        },
        "id": "Yyx_8S7X0TRe",
        "outputId": "b250d004-eaf4-48b2-b67d-08501ede4a31"
      },
      "execution_count": 8,
      "outputs": [
        {
          "output_type": "stream",
          "name": "stdout",
          "text": [
            "card_payment_fee_charged                            167\n",
            "direct_debit_payment_not_recognised                 162\n",
            "balance_not_updated_after_cheque_or_cash_deposit    162\n",
            "wrong_amount_of_cash_received                       160\n",
            "transaction_charged_twice                           158\n",
            "                                                   ... \n",
            "lost_or_stolen_card                                  66\n",
            "card_acceptance                                      47\n",
            "card_swallowed                                       45\n",
            "virtual_card_not_working                             32\n",
            "contactless_not_working                              30\n",
            "Name: intent, Length: 77, dtype: int64\n"
          ]
        },
        {
          "output_type": "execute_result",
          "data": {
            "text/plain": [
              "'\\n\\nTHIS SHOWS THE SENTENCES PER INTENT ARE IMBALANCED.\\n\\nTOTAL OF 77 INTENT CLASSES\\n\\n'"
            ],
            "application/vnd.google.colaboratory.intrinsic+json": {
              "type": "string"
            }
          },
          "metadata": {},
          "execution_count": 8
        }
      ]
    },
    {
      "cell_type": "code",
      "source": [
        "utterances.info()"
      ],
      "metadata": {
        "colab": {
          "base_uri": "https://localhost:8080/"
        },
        "id": "V1Adofg526Qp",
        "outputId": "d7ad5c61-0e60-4f30-e5f8-059e06ba170d"
      },
      "execution_count": 9,
      "outputs": [
        {
          "output_type": "stream",
          "name": "stdout",
          "text": [
            "<class 'pandas.core.frame.DataFrame'>\n",
            "Int64Index: 8618 entries, 0 to 8621\n",
            "Data columns (total 2 columns):\n",
            " #   Column     Non-Null Count  Dtype \n",
            "---  ------     --------------  ----- \n",
            " 0   utterance  8618 non-null   object\n",
            " 1   intent     8618 non-null   object\n",
            "dtypes: object(2)\n",
            "memory usage: 202.0+ KB\n"
          ]
        }
      ]
    },
    {
      "cell_type": "code",
      "source": [
        "utterances.describe()"
      ],
      "metadata": {
        "colab": {
          "base_uri": "https://localhost:8080/",
          "height": 175
        },
        "id": "e-kuT6Jp6f6i",
        "outputId": "1f90b581-a26a-4db3-e75e-74d2d95b1bd1"
      },
      "execution_count": 10,
      "outputs": [
        {
          "output_type": "execute_result",
          "data": {
            "text/plain": [
              "                             utterance                    intent\n",
              "count                             8618                      8618\n",
              "unique                            8618                        77\n",
              "top     i am still waiting on my card?  card_payment_fee_charged\n",
              "freq                                 1                       167"
            ],
            "text/html": [
              "\n",
              "  <div id=\"df-9c1d663c-73d7-48d2-8a78-2fe4daea6c1f\">\n",
              "    <div class=\"colab-df-container\">\n",
              "      <div>\n",
              "<style scoped>\n",
              "    .dataframe tbody tr th:only-of-type {\n",
              "        vertical-align: middle;\n",
              "    }\n",
              "\n",
              "    .dataframe tbody tr th {\n",
              "        vertical-align: top;\n",
              "    }\n",
              "\n",
              "    .dataframe thead th {\n",
              "        text-align: right;\n",
              "    }\n",
              "</style>\n",
              "<table border=\"1\" class=\"dataframe\">\n",
              "  <thead>\n",
              "    <tr style=\"text-align: right;\">\n",
              "      <th></th>\n",
              "      <th>utterance</th>\n",
              "      <th>intent</th>\n",
              "    </tr>\n",
              "  </thead>\n",
              "  <tbody>\n",
              "    <tr>\n",
              "      <th>count</th>\n",
              "      <td>8618</td>\n",
              "      <td>8618</td>\n",
              "    </tr>\n",
              "    <tr>\n",
              "      <th>unique</th>\n",
              "      <td>8618</td>\n",
              "      <td>77</td>\n",
              "    </tr>\n",
              "    <tr>\n",
              "      <th>top</th>\n",
              "      <td>i am still waiting on my card?</td>\n",
              "      <td>card_payment_fee_charged</td>\n",
              "    </tr>\n",
              "    <tr>\n",
              "      <th>freq</th>\n",
              "      <td>1</td>\n",
              "      <td>167</td>\n",
              "    </tr>\n",
              "  </tbody>\n",
              "</table>\n",
              "</div>\n",
              "      <button class=\"colab-df-convert\" onclick=\"convertToInteractive('df-9c1d663c-73d7-48d2-8a78-2fe4daea6c1f')\"\n",
              "              title=\"Convert this dataframe to an interactive table.\"\n",
              "              style=\"display:none;\">\n",
              "        \n",
              "  <svg xmlns=\"http://www.w3.org/2000/svg\" height=\"24px\"viewBox=\"0 0 24 24\"\n",
              "       width=\"24px\">\n",
              "    <path d=\"M0 0h24v24H0V0z\" fill=\"none\"/>\n",
              "    <path d=\"M18.56 5.44l.94 2.06.94-2.06 2.06-.94-2.06-.94-.94-2.06-.94 2.06-2.06.94zm-11 1L8.5 8.5l.94-2.06 2.06-.94-2.06-.94L8.5 2.5l-.94 2.06-2.06.94zm10 10l.94 2.06.94-2.06 2.06-.94-2.06-.94-.94-2.06-.94 2.06-2.06.94z\"/><path d=\"M17.41 7.96l-1.37-1.37c-.4-.4-.92-.59-1.43-.59-.52 0-1.04.2-1.43.59L10.3 9.45l-7.72 7.72c-.78.78-.78 2.05 0 2.83L4 21.41c.39.39.9.59 1.41.59.51 0 1.02-.2 1.41-.59l7.78-7.78 2.81-2.81c.8-.78.8-2.07 0-2.86zM5.41 20L4 18.59l7.72-7.72 1.47 1.35L5.41 20z\"/>\n",
              "  </svg>\n",
              "      </button>\n",
              "      \n",
              "  <style>\n",
              "    .colab-df-container {\n",
              "      display:flex;\n",
              "      flex-wrap:wrap;\n",
              "      gap: 12px;\n",
              "    }\n",
              "\n",
              "    .colab-df-convert {\n",
              "      background-color: #E8F0FE;\n",
              "      border: none;\n",
              "      border-radius: 50%;\n",
              "      cursor: pointer;\n",
              "      display: none;\n",
              "      fill: #1967D2;\n",
              "      height: 32px;\n",
              "      padding: 0 0 0 0;\n",
              "      width: 32px;\n",
              "    }\n",
              "\n",
              "    .colab-df-convert:hover {\n",
              "      background-color: #E2EBFA;\n",
              "      box-shadow: 0px 1px 2px rgba(60, 64, 67, 0.3), 0px 1px 3px 1px rgba(60, 64, 67, 0.15);\n",
              "      fill: #174EA6;\n",
              "    }\n",
              "\n",
              "    [theme=dark] .colab-df-convert {\n",
              "      background-color: #3B4455;\n",
              "      fill: #D2E3FC;\n",
              "    }\n",
              "\n",
              "    [theme=dark] .colab-df-convert:hover {\n",
              "      background-color: #434B5C;\n",
              "      box-shadow: 0px 1px 3px 1px rgba(0, 0, 0, 0.15);\n",
              "      filter: drop-shadow(0px 1px 2px rgba(0, 0, 0, 0.3));\n",
              "      fill: #FFFFFF;\n",
              "    }\n",
              "  </style>\n",
              "\n",
              "      <script>\n",
              "        const buttonEl =\n",
              "          document.querySelector('#df-9c1d663c-73d7-48d2-8a78-2fe4daea6c1f button.colab-df-convert');\n",
              "        buttonEl.style.display =\n",
              "          google.colab.kernel.accessAllowed ? 'block' : 'none';\n",
              "\n",
              "        async function convertToInteractive(key) {\n",
              "          const element = document.querySelector('#df-9c1d663c-73d7-48d2-8a78-2fe4daea6c1f');\n",
              "          const dataTable =\n",
              "            await google.colab.kernel.invokeFunction('convertToInteractive',\n",
              "                                                     [key], {});\n",
              "          if (!dataTable) return;\n",
              "\n",
              "          const docLinkHtml = 'Like what you see? Visit the ' +\n",
              "            '<a target=\"_blank\" href=https://colab.research.google.com/notebooks/data_table.ipynb>data table notebook</a>'\n",
              "            + ' to learn more about interactive tables.';\n",
              "          element.innerHTML = '';\n",
              "          dataTable['output_type'] = 'display_data';\n",
              "          await google.colab.output.renderOutput(dataTable, element);\n",
              "          const docLink = document.createElement('div');\n",
              "          docLink.innerHTML = docLinkHtml;\n",
              "          element.appendChild(docLink);\n",
              "        }\n",
              "      </script>\n",
              "    </div>\n",
              "  </div>\n",
              "  "
            ]
          },
          "metadata": {},
          "execution_count": 10
        }
      ]
    },
    {
      "cell_type": "code",
      "source": [
        "\"\"\"\n",
        "\n",
        "Few samples of the dataset.\n",
        "\n",
        "\"\"\"\n",
        "\n",
        "utterances.head()"
      ],
      "metadata": {
        "colab": {
          "base_uri": "https://localhost:8080/",
          "height": 206
        },
        "id": "ujIcPPXO3WD7",
        "outputId": "f441dcc7-ee4e-49bd-8b37-757d5afc9eb4"
      },
      "execution_count": 11,
      "outputs": [
        {
          "output_type": "execute_result",
          "data": {
            "text/plain": [
              "                                           utterance        intent\n",
              "0                     i am still waiting on my card?  card_arrival\n",
              "1  what can i do if my card still hasn't arrived ...  card_arrival\n",
              "2  i have been waiting over a week. is the card s...  card_arrival\n",
              "3  can i track my card while it is in the process...  card_arrival\n",
              "4  how do i know if i will get my card, or if it ...  card_arrival"
            ],
            "text/html": [
              "\n",
              "  <div id=\"df-bf3ae470-83ea-4af2-8c7a-af95ff91a987\">\n",
              "    <div class=\"colab-df-container\">\n",
              "      <div>\n",
              "<style scoped>\n",
              "    .dataframe tbody tr th:only-of-type {\n",
              "        vertical-align: middle;\n",
              "    }\n",
              "\n",
              "    .dataframe tbody tr th {\n",
              "        vertical-align: top;\n",
              "    }\n",
              "\n",
              "    .dataframe thead th {\n",
              "        text-align: right;\n",
              "    }\n",
              "</style>\n",
              "<table border=\"1\" class=\"dataframe\">\n",
              "  <thead>\n",
              "    <tr style=\"text-align: right;\">\n",
              "      <th></th>\n",
              "      <th>utterance</th>\n",
              "      <th>intent</th>\n",
              "    </tr>\n",
              "  </thead>\n",
              "  <tbody>\n",
              "    <tr>\n",
              "      <th>0</th>\n",
              "      <td>i am still waiting on my card?</td>\n",
              "      <td>card_arrival</td>\n",
              "    </tr>\n",
              "    <tr>\n",
              "      <th>1</th>\n",
              "      <td>what can i do if my card still hasn't arrived ...</td>\n",
              "      <td>card_arrival</td>\n",
              "    </tr>\n",
              "    <tr>\n",
              "      <th>2</th>\n",
              "      <td>i have been waiting over a week. is the card s...</td>\n",
              "      <td>card_arrival</td>\n",
              "    </tr>\n",
              "    <tr>\n",
              "      <th>3</th>\n",
              "      <td>can i track my card while it is in the process...</td>\n",
              "      <td>card_arrival</td>\n",
              "    </tr>\n",
              "    <tr>\n",
              "      <th>4</th>\n",
              "      <td>how do i know if i will get my card, or if it ...</td>\n",
              "      <td>card_arrival</td>\n",
              "    </tr>\n",
              "  </tbody>\n",
              "</table>\n",
              "</div>\n",
              "      <button class=\"colab-df-convert\" onclick=\"convertToInteractive('df-bf3ae470-83ea-4af2-8c7a-af95ff91a987')\"\n",
              "              title=\"Convert this dataframe to an interactive table.\"\n",
              "              style=\"display:none;\">\n",
              "        \n",
              "  <svg xmlns=\"http://www.w3.org/2000/svg\" height=\"24px\"viewBox=\"0 0 24 24\"\n",
              "       width=\"24px\">\n",
              "    <path d=\"M0 0h24v24H0V0z\" fill=\"none\"/>\n",
              "    <path d=\"M18.56 5.44l.94 2.06.94-2.06 2.06-.94-2.06-.94-.94-2.06-.94 2.06-2.06.94zm-11 1L8.5 8.5l.94-2.06 2.06-.94-2.06-.94L8.5 2.5l-.94 2.06-2.06.94zm10 10l.94 2.06.94-2.06 2.06-.94-2.06-.94-.94-2.06-.94 2.06-2.06.94z\"/><path d=\"M17.41 7.96l-1.37-1.37c-.4-.4-.92-.59-1.43-.59-.52 0-1.04.2-1.43.59L10.3 9.45l-7.72 7.72c-.78.78-.78 2.05 0 2.83L4 21.41c.39.39.9.59 1.41.59.51 0 1.02-.2 1.41-.59l7.78-7.78 2.81-2.81c.8-.78.8-2.07 0-2.86zM5.41 20L4 18.59l7.72-7.72 1.47 1.35L5.41 20z\"/>\n",
              "  </svg>\n",
              "      </button>\n",
              "      \n",
              "  <style>\n",
              "    .colab-df-container {\n",
              "      display:flex;\n",
              "      flex-wrap:wrap;\n",
              "      gap: 12px;\n",
              "    }\n",
              "\n",
              "    .colab-df-convert {\n",
              "      background-color: #E8F0FE;\n",
              "      border: none;\n",
              "      border-radius: 50%;\n",
              "      cursor: pointer;\n",
              "      display: none;\n",
              "      fill: #1967D2;\n",
              "      height: 32px;\n",
              "      padding: 0 0 0 0;\n",
              "      width: 32px;\n",
              "    }\n",
              "\n",
              "    .colab-df-convert:hover {\n",
              "      background-color: #E2EBFA;\n",
              "      box-shadow: 0px 1px 2px rgba(60, 64, 67, 0.3), 0px 1px 3px 1px rgba(60, 64, 67, 0.15);\n",
              "      fill: #174EA6;\n",
              "    }\n",
              "\n",
              "    [theme=dark] .colab-df-convert {\n",
              "      background-color: #3B4455;\n",
              "      fill: #D2E3FC;\n",
              "    }\n",
              "\n",
              "    [theme=dark] .colab-df-convert:hover {\n",
              "      background-color: #434B5C;\n",
              "      box-shadow: 0px 1px 3px 1px rgba(0, 0, 0, 0.15);\n",
              "      filter: drop-shadow(0px 1px 2px rgba(0, 0, 0, 0.3));\n",
              "      fill: #FFFFFF;\n",
              "    }\n",
              "  </style>\n",
              "\n",
              "      <script>\n",
              "        const buttonEl =\n",
              "          document.querySelector('#df-bf3ae470-83ea-4af2-8c7a-af95ff91a987 button.colab-df-convert');\n",
              "        buttonEl.style.display =\n",
              "          google.colab.kernel.accessAllowed ? 'block' : 'none';\n",
              "\n",
              "        async function convertToInteractive(key) {\n",
              "          const element = document.querySelector('#df-bf3ae470-83ea-4af2-8c7a-af95ff91a987');\n",
              "          const dataTable =\n",
              "            await google.colab.kernel.invokeFunction('convertToInteractive',\n",
              "                                                     [key], {});\n",
              "          if (!dataTable) return;\n",
              "\n",
              "          const docLinkHtml = 'Like what you see? Visit the ' +\n",
              "            '<a target=\"_blank\" href=https://colab.research.google.com/notebooks/data_table.ipynb>data table notebook</a>'\n",
              "            + ' to learn more about interactive tables.';\n",
              "          element.innerHTML = '';\n",
              "          dataTable['output_type'] = 'display_data';\n",
              "          await google.colab.output.renderOutput(dataTable, element);\n",
              "          const docLink = document.createElement('div');\n",
              "          docLink.innerHTML = docLinkHtml;\n",
              "          element.appendChild(docLink);\n",
              "        }\n",
              "      </script>\n",
              "    </div>\n",
              "  </div>\n",
              "  "
            ]
          },
          "metadata": {},
          "execution_count": 11
        }
      ]
    },
    {
      "cell_type": "code",
      "source": [
        "utterances.groupby('intent').describe()"
      ],
      "metadata": {
        "colab": {
          "base_uri": "https://localhost:8080/",
          "height": 486
        },
        "id": "5SOeIqpq7JC5",
        "outputId": "f230c4d1-316f-4b11-ef3a-bf9d5ea94d46"
      },
      "execution_count": 12,
      "outputs": [
        {
          "output_type": "execute_result",
          "data": {
            "text/plain": [
              "                                        utterance         \\\n",
              "                                            count unique   \n",
              "intent                                                     \n",
              "Refund_not_showing_up                         143    143   \n",
              "activate_my_card                              141    141   \n",
              "age_limit                                      92     92   \n",
              "apple_pay_or_google_pay                       108    108   \n",
              "atm_support                                    68     68   \n",
              "...                                           ...    ...   \n",
              "virtual_card_not_working                       32     32   \n",
              "visa_or_mastercard                            115    115   \n",
              "why_verify_identity                           102    102   \n",
              "wrong_amount_of_cash_received                 160    160   \n",
              "wrong_exchange_rate_for_cash_withdrawal       145    145   \n",
              "\n",
              "                                                                                            \\\n",
              "                                                                                       top   \n",
              "intent                                                                                       \n",
              "Refund_not_showing_up                    i don't see my refund money yet in my account....   \n",
              "activate_my_card                          please help me with my card.  it won't activate.   \n",
              "age_limit                                how old do you need to be to use the banks ser...   \n",
              "apple_pay_or_google_pay                  hi, i have an apple watch. how do i use it to ...   \n",
              "atm_support                                             i can use this card at which atms?   \n",
              "...                                                                                    ...   \n",
              "virtual_card_not_working                     why isn't my disposable virtual card working?   \n",
              "visa_or_mastercard                                 is there a way i can have a mastercard?   \n",
              "why_verify_identity                                     why do you have an identity check?   \n",
              "wrong_amount_of_cash_received            why did i only receive a partial amount of wha...   \n",
              "wrong_exchange_rate_for_cash_withdrawal  the wrong exchange rate was applied to me whil...   \n",
              "\n",
              "                                              \n",
              "                                        freq  \n",
              "intent                                        \n",
              "Refund_not_showing_up                      1  \n",
              "activate_my_card                           1  \n",
              "age_limit                                  1  \n",
              "apple_pay_or_google_pay                    1  \n",
              "atm_support                                1  \n",
              "...                                      ...  \n",
              "virtual_card_not_working                   1  \n",
              "visa_or_mastercard                         1  \n",
              "why_verify_identity                        1  \n",
              "wrong_amount_of_cash_received              1  \n",
              "wrong_exchange_rate_for_cash_withdrawal    1  \n",
              "\n",
              "[77 rows x 4 columns]"
            ],
            "text/html": [
              "\n",
              "  <div id=\"df-a66398ed-2ba8-4428-af4b-31fa7d3f1c04\">\n",
              "    <div class=\"colab-df-container\">\n",
              "      <div>\n",
              "<style scoped>\n",
              "    .dataframe tbody tr th:only-of-type {\n",
              "        vertical-align: middle;\n",
              "    }\n",
              "\n",
              "    .dataframe tbody tr th {\n",
              "        vertical-align: top;\n",
              "    }\n",
              "\n",
              "    .dataframe thead tr th {\n",
              "        text-align: left;\n",
              "    }\n",
              "\n",
              "    .dataframe thead tr:last-of-type th {\n",
              "        text-align: right;\n",
              "    }\n",
              "</style>\n",
              "<table border=\"1\" class=\"dataframe\">\n",
              "  <thead>\n",
              "    <tr>\n",
              "      <th></th>\n",
              "      <th colspan=\"4\" halign=\"left\">utterance</th>\n",
              "    </tr>\n",
              "    <tr>\n",
              "      <th></th>\n",
              "      <th>count</th>\n",
              "      <th>unique</th>\n",
              "      <th>top</th>\n",
              "      <th>freq</th>\n",
              "    </tr>\n",
              "    <tr>\n",
              "      <th>intent</th>\n",
              "      <th></th>\n",
              "      <th></th>\n",
              "      <th></th>\n",
              "      <th></th>\n",
              "    </tr>\n",
              "  </thead>\n",
              "  <tbody>\n",
              "    <tr>\n",
              "      <th>Refund_not_showing_up</th>\n",
              "      <td>143</td>\n",
              "      <td>143</td>\n",
              "      <td>i don't see my refund money yet in my account....</td>\n",
              "      <td>1</td>\n",
              "    </tr>\n",
              "    <tr>\n",
              "      <th>activate_my_card</th>\n",
              "      <td>141</td>\n",
              "      <td>141</td>\n",
              "      <td>please help me with my card.  it won't activate.</td>\n",
              "      <td>1</td>\n",
              "    </tr>\n",
              "    <tr>\n",
              "      <th>age_limit</th>\n",
              "      <td>92</td>\n",
              "      <td>92</td>\n",
              "      <td>how old do you need to be to use the banks ser...</td>\n",
              "      <td>1</td>\n",
              "    </tr>\n",
              "    <tr>\n",
              "      <th>apple_pay_or_google_pay</th>\n",
              "      <td>108</td>\n",
              "      <td>108</td>\n",
              "      <td>hi, i have an apple watch. how do i use it to ...</td>\n",
              "      <td>1</td>\n",
              "    </tr>\n",
              "    <tr>\n",
              "      <th>atm_support</th>\n",
              "      <td>68</td>\n",
              "      <td>68</td>\n",
              "      <td>i can use this card at which atms?</td>\n",
              "      <td>1</td>\n",
              "    </tr>\n",
              "    <tr>\n",
              "      <th>...</th>\n",
              "      <td>...</td>\n",
              "      <td>...</td>\n",
              "      <td>...</td>\n",
              "      <td>...</td>\n",
              "    </tr>\n",
              "    <tr>\n",
              "      <th>virtual_card_not_working</th>\n",
              "      <td>32</td>\n",
              "      <td>32</td>\n",
              "      <td>why isn't my disposable virtual card working?</td>\n",
              "      <td>1</td>\n",
              "    </tr>\n",
              "    <tr>\n",
              "      <th>visa_or_mastercard</th>\n",
              "      <td>115</td>\n",
              "      <td>115</td>\n",
              "      <td>is there a way i can have a mastercard?</td>\n",
              "      <td>1</td>\n",
              "    </tr>\n",
              "    <tr>\n",
              "      <th>why_verify_identity</th>\n",
              "      <td>102</td>\n",
              "      <td>102</td>\n",
              "      <td>why do you have an identity check?</td>\n",
              "      <td>1</td>\n",
              "    </tr>\n",
              "    <tr>\n",
              "      <th>wrong_amount_of_cash_received</th>\n",
              "      <td>160</td>\n",
              "      <td>160</td>\n",
              "      <td>why did i only receive a partial amount of wha...</td>\n",
              "      <td>1</td>\n",
              "    </tr>\n",
              "    <tr>\n",
              "      <th>wrong_exchange_rate_for_cash_withdrawal</th>\n",
              "      <td>145</td>\n",
              "      <td>145</td>\n",
              "      <td>the wrong exchange rate was applied to me whil...</td>\n",
              "      <td>1</td>\n",
              "    </tr>\n",
              "  </tbody>\n",
              "</table>\n",
              "<p>77 rows × 4 columns</p>\n",
              "</div>\n",
              "      <button class=\"colab-df-convert\" onclick=\"convertToInteractive('df-a66398ed-2ba8-4428-af4b-31fa7d3f1c04')\"\n",
              "              title=\"Convert this dataframe to an interactive table.\"\n",
              "              style=\"display:none;\">\n",
              "        \n",
              "  <svg xmlns=\"http://www.w3.org/2000/svg\" height=\"24px\"viewBox=\"0 0 24 24\"\n",
              "       width=\"24px\">\n",
              "    <path d=\"M0 0h24v24H0V0z\" fill=\"none\"/>\n",
              "    <path d=\"M18.56 5.44l.94 2.06.94-2.06 2.06-.94-2.06-.94-.94-2.06-.94 2.06-2.06.94zm-11 1L8.5 8.5l.94-2.06 2.06-.94-2.06-.94L8.5 2.5l-.94 2.06-2.06.94zm10 10l.94 2.06.94-2.06 2.06-.94-2.06-.94-.94-2.06-.94 2.06-2.06.94z\"/><path d=\"M17.41 7.96l-1.37-1.37c-.4-.4-.92-.59-1.43-.59-.52 0-1.04.2-1.43.59L10.3 9.45l-7.72 7.72c-.78.78-.78 2.05 0 2.83L4 21.41c.39.39.9.59 1.41.59.51 0 1.02-.2 1.41-.59l7.78-7.78 2.81-2.81c.8-.78.8-2.07 0-2.86zM5.41 20L4 18.59l7.72-7.72 1.47 1.35L5.41 20z\"/>\n",
              "  </svg>\n",
              "      </button>\n",
              "      \n",
              "  <style>\n",
              "    .colab-df-container {\n",
              "      display:flex;\n",
              "      flex-wrap:wrap;\n",
              "      gap: 12px;\n",
              "    }\n",
              "\n",
              "    .colab-df-convert {\n",
              "      background-color: #E8F0FE;\n",
              "      border: none;\n",
              "      border-radius: 50%;\n",
              "      cursor: pointer;\n",
              "      display: none;\n",
              "      fill: #1967D2;\n",
              "      height: 32px;\n",
              "      padding: 0 0 0 0;\n",
              "      width: 32px;\n",
              "    }\n",
              "\n",
              "    .colab-df-convert:hover {\n",
              "      background-color: #E2EBFA;\n",
              "      box-shadow: 0px 1px 2px rgba(60, 64, 67, 0.3), 0px 1px 3px 1px rgba(60, 64, 67, 0.15);\n",
              "      fill: #174EA6;\n",
              "    }\n",
              "\n",
              "    [theme=dark] .colab-df-convert {\n",
              "      background-color: #3B4455;\n",
              "      fill: #D2E3FC;\n",
              "    }\n",
              "\n",
              "    [theme=dark] .colab-df-convert:hover {\n",
              "      background-color: #434B5C;\n",
              "      box-shadow: 0px 1px 3px 1px rgba(0, 0, 0, 0.15);\n",
              "      filter: drop-shadow(0px 1px 2px rgba(0, 0, 0, 0.3));\n",
              "      fill: #FFFFFF;\n",
              "    }\n",
              "  </style>\n",
              "\n",
              "      <script>\n",
              "        const buttonEl =\n",
              "          document.querySelector('#df-a66398ed-2ba8-4428-af4b-31fa7d3f1c04 button.colab-df-convert');\n",
              "        buttonEl.style.display =\n",
              "          google.colab.kernel.accessAllowed ? 'block' : 'none';\n",
              "\n",
              "        async function convertToInteractive(key) {\n",
              "          const element = document.querySelector('#df-a66398ed-2ba8-4428-af4b-31fa7d3f1c04');\n",
              "          const dataTable =\n",
              "            await google.colab.kernel.invokeFunction('convertToInteractive',\n",
              "                                                     [key], {});\n",
              "          if (!dataTable) return;\n",
              "\n",
              "          const docLinkHtml = 'Like what you see? Visit the ' +\n",
              "            '<a target=\"_blank\" href=https://colab.research.google.com/notebooks/data_table.ipynb>data table notebook</a>'\n",
              "            + ' to learn more about interactive tables.';\n",
              "          element.innerHTML = '';\n",
              "          dataTable['output_type'] = 'display_data';\n",
              "          await google.colab.output.renderOutput(dataTable, element);\n",
              "          const docLink = document.createElement('div');\n",
              "          docLink.innerHTML = docLinkHtml;\n",
              "          element.appendChild(docLink);\n",
              "        }\n",
              "      </script>\n",
              "    </div>\n",
              "  </div>\n",
              "  "
            ]
          },
          "metadata": {},
          "execution_count": 12
        }
      ]
    },
    {
      "cell_type": "code",
      "source": [
        "#Look for missing intents\n",
        "utterances['intent'].isnull().sum()"
      ],
      "metadata": {
        "colab": {
          "base_uri": "https://localhost:8080/"
        },
        "id": "9uCJzraI7cJN",
        "outputId": "79cd7f83-ead5-4067-d207-3be2c31b69ea"
      },
      "execution_count": 13,
      "outputs": [
        {
          "output_type": "execute_result",
          "data": {
            "text/plain": [
              "0"
            ]
          },
          "metadata": {},
          "execution_count": 13
        }
      ]
    },
    {
      "cell_type": "markdown",
      "source": [
        "### Data Pre-processing.\n",
        "- Spelling correction.\n",
        "- Remove Punctuation.\n",
        "- Remove stop words.\n",
        "- Tokenization.\n",
        "- Lemmatization.\n"
      ],
      "metadata": {
        "id": "imPvzQxJuvlJ"
      }
    },
    {
      "cell_type": "code",
      "source": [
        "! pip install -U symspellpy"
      ],
      "metadata": {
        "colab": {
          "base_uri": "https://localhost:8080/"
        },
        "id": "pp4M69_7cCDx",
        "outputId": "85a00567-22c1-4af6-87c6-5a71f1e15a9b"
      },
      "execution_count": 14,
      "outputs": [
        {
          "output_type": "stream",
          "name": "stdout",
          "text": [
            "Looking in indexes: https://pypi.org/simple, https://us-python.pkg.dev/colab-wheels/public/simple/\n",
            "Collecting symspellpy\n",
            "  Downloading symspellpy-6.7.7-py3-none-any.whl (2.6 MB)\n",
            "\u001b[2K     \u001b[90m━━━━━━━━━━━━━━━━━━━━━━━━━━━━━━━━━━━━━━━━\u001b[0m \u001b[32m2.6/2.6 MB\u001b[0m \u001b[31m24.0 MB/s\u001b[0m eta \u001b[36m0:00:00\u001b[0m\n",
            "\u001b[?25hCollecting editdistpy>=0.1.3\n",
            "  Downloading editdistpy-0.1.3-cp38-cp38-manylinux_2_5_x86_64.manylinux1_x86_64.manylinux_2_17_x86_64.manylinux2014_x86_64.whl (126 kB)\n",
            "\u001b[2K     \u001b[90m━━━━━━━━━━━━━━━━━━━━━━━━━━━━━━━━━━━━━━\u001b[0m \u001b[32m126.9/126.9 KB\u001b[0m \u001b[31m11.2 MB/s\u001b[0m eta \u001b[36m0:00:00\u001b[0m\n",
            "\u001b[?25hInstalling collected packages: editdistpy, symspellpy\n",
            "Successfully installed editdistpy-0.1.3 symspellpy-6.7.7\n"
          ]
        }
      ]
    },
    {
      "cell_type": "code",
      "source": [
        "\"\"\"\n",
        "\n",
        "Spelling correction using Symspell.\n",
        "\n",
        "\n",
        "\"\"\"\n",
        "from symspellpy import SymSpell\n",
        "import pkg_resources\n",
        "from itertools import islice\n",
        "\n",
        "sym_spell = SymSpell(max_dictionary_edit_distance=2, prefix_length=7)\n",
        "\n",
        "dictionary_path = pkg_resources.resource_filename(\"symspellpy\", \"frequency_dictionary_en_82_765.txt\")\n",
        "bigram_path = pkg_resources.resource_filename(\"symspellpy\", \"frequency_bigramdictionary_en_243_342.txt\")\n",
        "\n",
        "# term_index is the column of the term and count_index is the\n",
        "# column of the term frequency\n",
        "sym_spell.load_dictionary(dictionary_path, term_index=0, count_index=1)\n",
        "sym_spell.load_bigram_dictionary(bigram_path, term_index=0, count_index=2)\n",
        "\n",
        "# Print out first 5 elements to demonstrate that dictionary is\n",
        "# successfully loaded\n",
        "print(list(islice(sym_spell.bigrams.items(), 5)))\n",
        "print(list(islice(sym_spell.words.items(), 5)))\n",
        "\n",
        "# lookup suggestions for multi-word input strings (supports compound\n",
        "# splitting & merging)\n",
        "input_term = (\n",
        "    \"how do i loacte my card?\"\n",
        ")\n",
        "# max edit distance per lookup (per single word, not per whole input string)\n",
        "suggestions = sym_spell.lookup_compound(input_term, max_edit_distance=2)\n",
        "# display suggestion term, edit distance, and term frequency\n",
        "for suggestion in suggestions:\n",
        "    print(suggestion)\n",
        "\n",
        "def correction(input_term, max_edit_distance=2):\n",
        "  suggestions = sym_spell.lookup_compound(input_term, max_edit_distance=2)\n",
        "  #for suggestion in suggestions:\n",
        "  #  print(suggestion.term)\n",
        "  return suggestions[0].term"
      ],
      "metadata": {
        "id": "WAhixI0Ev7HQ",
        "colab": {
          "base_uri": "https://localhost:8080/"
        },
        "outputId": "2d29066d-f743-41e3-d9d8-b95910f2baab"
      },
      "execution_count": 15,
      "outputs": [
        {
          "output_type": "stream",
          "name": "stdout",
          "text": [
            "[('abcs of', 10956800), ('aaron and', 10721728), ('abbott and', 7861376), ('abbreviations and', 13518272), ('aberdeen and', 7347776)]\n",
            "[('the', 23135851162), ('of', 13151942776), ('and', 12997637966), ('to', 12136980858), ('a', 9081174698)]\n",
            "how do i locate my card, 2, 0\n"
          ]
        }
      ]
    },
    {
      "cell_type": "code",
      "source": [
        "# call the function\n",
        "\n",
        "corrected_utterances = []\n",
        "\n",
        "for t in utterances['utterance']:\n",
        "    corrected_utterances.append(correction(t)) \n",
        "\n",
        "corrected_utterances[:5]\n",
        "utterances['utterance'] = corrected_utterances\n",
        "utterances.head()"
      ],
      "metadata": {
        "colab": {
          "base_uri": "https://localhost:8080/",
          "height": 206
        },
        "id": "6sFNsLvX3r88",
        "outputId": "9779261b-606e-44b7-8b57-6067c7f7d26c"
      },
      "execution_count": 16,
      "outputs": [
        {
          "output_type": "execute_result",
          "data": {
            "text/plain": [
              "                                           utterance        intent\n",
              "0                      i am still waiting on my card  card_arrival\n",
              "1  what can i do if my card still hasn't arrived ...  card_arrival\n",
              "2  i have been waiting over a week is the card st...  card_arrival\n",
              "3  can i track my card while it is in the process...  card_arrival\n",
              "4  how do i know if i will get my card or if it i...  card_arrival"
            ],
            "text/html": [
              "\n",
              "  <div id=\"df-608e7346-ca96-44c1-90f3-432667dda187\">\n",
              "    <div class=\"colab-df-container\">\n",
              "      <div>\n",
              "<style scoped>\n",
              "    .dataframe tbody tr th:only-of-type {\n",
              "        vertical-align: middle;\n",
              "    }\n",
              "\n",
              "    .dataframe tbody tr th {\n",
              "        vertical-align: top;\n",
              "    }\n",
              "\n",
              "    .dataframe thead th {\n",
              "        text-align: right;\n",
              "    }\n",
              "</style>\n",
              "<table border=\"1\" class=\"dataframe\">\n",
              "  <thead>\n",
              "    <tr style=\"text-align: right;\">\n",
              "      <th></th>\n",
              "      <th>utterance</th>\n",
              "      <th>intent</th>\n",
              "    </tr>\n",
              "  </thead>\n",
              "  <tbody>\n",
              "    <tr>\n",
              "      <th>0</th>\n",
              "      <td>i am still waiting on my card</td>\n",
              "      <td>card_arrival</td>\n",
              "    </tr>\n",
              "    <tr>\n",
              "      <th>1</th>\n",
              "      <td>what can i do if my card still hasn't arrived ...</td>\n",
              "      <td>card_arrival</td>\n",
              "    </tr>\n",
              "    <tr>\n",
              "      <th>2</th>\n",
              "      <td>i have been waiting over a week is the card st...</td>\n",
              "      <td>card_arrival</td>\n",
              "    </tr>\n",
              "    <tr>\n",
              "      <th>3</th>\n",
              "      <td>can i track my card while it is in the process...</td>\n",
              "      <td>card_arrival</td>\n",
              "    </tr>\n",
              "    <tr>\n",
              "      <th>4</th>\n",
              "      <td>how do i know if i will get my card or if it i...</td>\n",
              "      <td>card_arrival</td>\n",
              "    </tr>\n",
              "  </tbody>\n",
              "</table>\n",
              "</div>\n",
              "      <button class=\"colab-df-convert\" onclick=\"convertToInteractive('df-608e7346-ca96-44c1-90f3-432667dda187')\"\n",
              "              title=\"Convert this dataframe to an interactive table.\"\n",
              "              style=\"display:none;\">\n",
              "        \n",
              "  <svg xmlns=\"http://www.w3.org/2000/svg\" height=\"24px\"viewBox=\"0 0 24 24\"\n",
              "       width=\"24px\">\n",
              "    <path d=\"M0 0h24v24H0V0z\" fill=\"none\"/>\n",
              "    <path d=\"M18.56 5.44l.94 2.06.94-2.06 2.06-.94-2.06-.94-.94-2.06-.94 2.06-2.06.94zm-11 1L8.5 8.5l.94-2.06 2.06-.94-2.06-.94L8.5 2.5l-.94 2.06-2.06.94zm10 10l.94 2.06.94-2.06 2.06-.94-2.06-.94-.94-2.06-.94 2.06-2.06.94z\"/><path d=\"M17.41 7.96l-1.37-1.37c-.4-.4-.92-.59-1.43-.59-.52 0-1.04.2-1.43.59L10.3 9.45l-7.72 7.72c-.78.78-.78 2.05 0 2.83L4 21.41c.39.39.9.59 1.41.59.51 0 1.02-.2 1.41-.59l7.78-7.78 2.81-2.81c.8-.78.8-2.07 0-2.86zM5.41 20L4 18.59l7.72-7.72 1.47 1.35L5.41 20z\"/>\n",
              "  </svg>\n",
              "      </button>\n",
              "      \n",
              "  <style>\n",
              "    .colab-df-container {\n",
              "      display:flex;\n",
              "      flex-wrap:wrap;\n",
              "      gap: 12px;\n",
              "    }\n",
              "\n",
              "    .colab-df-convert {\n",
              "      background-color: #E8F0FE;\n",
              "      border: none;\n",
              "      border-radius: 50%;\n",
              "      cursor: pointer;\n",
              "      display: none;\n",
              "      fill: #1967D2;\n",
              "      height: 32px;\n",
              "      padding: 0 0 0 0;\n",
              "      width: 32px;\n",
              "    }\n",
              "\n",
              "    .colab-df-convert:hover {\n",
              "      background-color: #E2EBFA;\n",
              "      box-shadow: 0px 1px 2px rgba(60, 64, 67, 0.3), 0px 1px 3px 1px rgba(60, 64, 67, 0.15);\n",
              "      fill: #174EA6;\n",
              "    }\n",
              "\n",
              "    [theme=dark] .colab-df-convert {\n",
              "      background-color: #3B4455;\n",
              "      fill: #D2E3FC;\n",
              "    }\n",
              "\n",
              "    [theme=dark] .colab-df-convert:hover {\n",
              "      background-color: #434B5C;\n",
              "      box-shadow: 0px 1px 3px 1px rgba(0, 0, 0, 0.15);\n",
              "      filter: drop-shadow(0px 1px 2px rgba(0, 0, 0, 0.3));\n",
              "      fill: #FFFFFF;\n",
              "    }\n",
              "  </style>\n",
              "\n",
              "      <script>\n",
              "        const buttonEl =\n",
              "          document.querySelector('#df-608e7346-ca96-44c1-90f3-432667dda187 button.colab-df-convert');\n",
              "        buttonEl.style.display =\n",
              "          google.colab.kernel.accessAllowed ? 'block' : 'none';\n",
              "\n",
              "        async function convertToInteractive(key) {\n",
              "          const element = document.querySelector('#df-608e7346-ca96-44c1-90f3-432667dda187');\n",
              "          const dataTable =\n",
              "            await google.colab.kernel.invokeFunction('convertToInteractive',\n",
              "                                                     [key], {});\n",
              "          if (!dataTable) return;\n",
              "\n",
              "          const docLinkHtml = 'Like what you see? Visit the ' +\n",
              "            '<a target=\"_blank\" href=https://colab.research.google.com/notebooks/data_table.ipynb>data table notebook</a>'\n",
              "            + ' to learn more about interactive tables.';\n",
              "          element.innerHTML = '';\n",
              "          dataTable['output_type'] = 'display_data';\n",
              "          await google.colab.output.renderOutput(dataTable, element);\n",
              "          const docLink = document.createElement('div');\n",
              "          docLink.innerHTML = docLinkHtml;\n",
              "          element.appendChild(docLink);\n",
              "        }\n",
              "      </script>\n",
              "    </div>\n",
              "  </div>\n",
              "  "
            ]
          },
          "metadata": {},
          "execution_count": 16
        }
      ]
    },
    {
      "cell_type": "code",
      "source": [
        "from nltk.corpus import stopwords\n",
        "import re\n",
        "\n",
        "import nltk\n",
        "nltk.download('stopwords')"
      ],
      "metadata": {
        "colab": {
          "base_uri": "https://localhost:8080/"
        },
        "id": "-YDEXs7y2ARt",
        "outputId": "747af28b-8e19-488c-cccf-65779dde84f7"
      },
      "execution_count": 17,
      "outputs": [
        {
          "output_type": "stream",
          "name": "stderr",
          "text": [
            "[nltk_data] Downloading package stopwords to /root/nltk_data...\n",
            "[nltk_data]   Unzipping corpora/stopwords.zip.\n"
          ]
        },
        {
          "output_type": "execute_result",
          "data": {
            "text/plain": [
              "True"
            ]
          },
          "metadata": {},
          "execution_count": 17
        }
      ]
    },
    {
      "cell_type": "code",
      "source": [
        "contraction_mapping = {\"ain't\": \"is not\", \"aren't\": \"are not\",\"can't\": \"cannot\", \"'cause\": \"because\", \"could've\": \"could have\", \"couldn't\": \"could not\",\n",
        "                           \"didn't\": \"did not\",  \"doesn't\": \"does not\", \"don't\": \"do not\", \"hadn't\": \"had not\", \"hasn't\": \"has not\", \"haven't\": \"have not\",\n",
        "                           \"he'd\": \"he would\",\"he'll\": \"he will\", \"he's\": \"he is\", \"how'd\": \"how did\", \"how'd'y\": \"how do you\", \"how'll\": \"how will\", \"how's\": \"how is\",\n",
        "                           \"I'd\": \"I would\", \"I'd've\": \"I would have\", \"I'll\": \"I will\", \"I'll've\": \"I will have\",\"I'm\": \"I am\", \"I've\": \"I have\", \"i'd\": \"i would\",\n",
        "                           \"i'd've\": \"i would have\", \"i'll\": \"i will\",  \"i'll've\": \"i will have\",\"i'm\": \"i am\", \"i've\": \"i have\", \"isn't\": \"is not\", \"it'd\": \"it would\",\n",
        "                           \"it'd've\": \"it would have\", \"it'll\": \"it will\", \"it'll've\": \"it will have\",\"it's\": \"it is\", \"let's\": \"let us\", \"ma'am\": \"madam\",\n",
        "                           \"mayn't\": \"may not\", \"might've\": \"might have\",\"mightn't\": \"might not\",\"mightn't've\": \"might not have\", \"must've\": \"must have\",\n",
        "                           \"mustn't\": \"must not\", \"mustn't've\": \"must not have\", \"needn't\": \"need not\", \"needn't've\": \"need not have\",\"o'clock\": \"of the clock\",\n",
        "                           \"oughtn't\": \"ought not\", \"oughtn't've\": \"ought not have\", \"shan't\": \"shall not\", \"sha'n't\": \"shall not\", \"shan't've\": \"shall not have\",\n",
        "                           \"she'd\": \"she would\", \"she'd've\": \"she would have\", \"she'll\": \"she will\", \"she'll've\": \"she will have\", \"she's\": \"she is\",\n",
        "                           \"should've\": \"should have\", \"shouldn't\": \"should not\", \"shouldn't've\": \"should not have\", \"so've\": \"so have\",\"so's\": \"so as\",\n",
        "                           \"this's\": \"this is\",\"that'd\": \"that would\", \"that'd've\": \"that would have\", \"that's\": \"that is\", \"there'd\": \"there would\",\n",
        "                           \"there'd've\": \"there would have\", \"there's\": \"there is\", \"here's\": \"here is\",\"they'd\": \"they would\", \"they'd've\": \"they would have\",\n",
        "                           \"they'll\": \"they will\", \"they'll've\": \"they will have\", \"they're\": \"they are\", \"they've\": \"they have\", \"to've\": \"to have\",\n",
        "                           \"wasn't\": \"was not\", \"we'd\": \"we would\", \"we'd've\": \"we would have\", \"we'll\": \"we will\", \"we'll've\": \"we will have\", \"we're\": \"we are\",\n",
        "                           \"we've\": \"we have\", \"weren't\": \"were not\", \"what'll\": \"what will\", \"what'll've\": \"what will have\", \"what're\": \"what are\",\n",
        "                           \"what's\": \"what is\", \"what've\": \"what have\", \"when's\": \"when is\", \"when've\": \"when have\", \"where'd\": \"where did\", \"where's\": \"where is\",\n",
        "                           \"where've\": \"where have\", \"who'll\": \"who will\", \"who'll've\": \"who will have\", \"who's\": \"who is\", \"who've\": \"who have\",\n",
        "                           \"why's\": \"why is\", \"why've\": \"why have\", \"will've\": \"will have\", \"won't\": \"will not\", \"won't've\": \"will not have\",\n",
        "                           \"would've\": \"would have\", \"wouldn't\": \"would not\", \"wouldn't've\": \"would not have\", \"y'all\": \"you all\",\n",
        "                           \"y'all'd\": \"you all would\",\"y'all'd've\": \"you all would have\",\"y'all're\": \"you all are\",\"y'all've\": \"you all have\",\n",
        "                           \"you'd\": \"you would\", \"you'd've\": \"you would have\", \"you'll\": \"you will\", \"you'll've\": \"you will have\",\n",
        "                           \"you're\": \"you are\", \"you've\": \"you have\"}"
      ],
      "metadata": {
        "id": "u5gCpWP011Sm"
      },
      "execution_count": 18,
      "outputs": []
    },
    {
      "cell_type": "code",
      "source": [
        "stop_words = set(stopwords.words('english')) \n",
        "\n",
        "def text_cleaner(text):\n",
        "    newString = text.lower()\n",
        "    newString = re.sub(r'\\([^)]*\\)', '', newString)   # removing special characters\n",
        "    newString = re.sub('\"','', newString)              # removing '\"' \n",
        "    newString = ' '.join([contraction_mapping[t] if t in contraction_mapping else t for t in newString.split(\" \")])    # replacing slangs\n",
        "    newString = re.sub(r\"'s\\b\",\"\",newString)    # replacing 's with \"\" '\n",
        "    newString = re.sub(\"[^a-z]\", \" \", newString)    #only keeping letters\n",
        "    newString = re.sub('[m]{2,}', 'mm', newString)    # \"mmmmmm\" -> \"mm\"\n",
        "        \n",
        "    tokens = [w for w in newString.split() if not w in stop_words]     # removing the stopwords\n",
        "\n",
        "    long_words=[]\n",
        "    for i in tokens:\n",
        "        if len(i)>1:                               #removing short word\n",
        "            long_words.append(i)   \n",
        "    return (\" \".join(long_words)).strip()"
      ],
      "metadata": {
        "id": "90diMBdk4mgi"
      },
      "execution_count": 19,
      "outputs": []
    },
    {
      "cell_type": "code",
      "source": [
        "#call the function\n",
        "cleaned_text = []\n",
        "for t in utterances['utterance']:\n",
        "    cleaned_text.append(text_cleaner(t)) \n",
        "\n",
        "cleaned_text[:5]  "
      ],
      "metadata": {
        "colab": {
          "base_uri": "https://localhost:8080/"
        },
        "id": "oYtB4FIE3olQ",
        "outputId": "843a691f-00dc-4cd1-e1ba-887e88648c76"
      },
      "execution_count": 20,
      "outputs": [
        {
          "output_type": "execute_result",
          "data": {
            "text/plain": [
              "['still waiting card',\n",
              " 'card still arrived weeks',\n",
              " 'waiting week card still coming',\n",
              " 'track card process delivery',\n",
              " 'know get card lost']"
            ]
          },
          "metadata": {},
          "execution_count": 20
        }
      ]
    },
    {
      "cell_type": "code",
      "source": [
        "utterances['cleaned_utterance'] = cleaned_text\n",
        "utterances.head()"
      ],
      "metadata": {
        "colab": {
          "base_uri": "https://localhost:8080/",
          "height": 206
        },
        "id": "V9z8kYpLDOr6",
        "outputId": "4f1f976f-1146-4678-efd0-bcc4dfdcb722"
      },
      "execution_count": 21,
      "outputs": [
        {
          "output_type": "execute_result",
          "data": {
            "text/plain": [
              "                                           utterance        intent  \\\n",
              "0                      i am still waiting on my card  card_arrival   \n",
              "1  what can i do if my card still hasn't arrived ...  card_arrival   \n",
              "2  i have been waiting over a week is the card st...  card_arrival   \n",
              "3  can i track my card while it is in the process...  card_arrival   \n",
              "4  how do i know if i will get my card or if it i...  card_arrival   \n",
              "\n",
              "                cleaned_utterance  \n",
              "0              still waiting card  \n",
              "1        card still arrived weeks  \n",
              "2  waiting week card still coming  \n",
              "3     track card process delivery  \n",
              "4              know get card lost  "
            ],
            "text/html": [
              "\n",
              "  <div id=\"df-6fa0cb69-e722-4767-8c07-96e3840848b6\">\n",
              "    <div class=\"colab-df-container\">\n",
              "      <div>\n",
              "<style scoped>\n",
              "    .dataframe tbody tr th:only-of-type {\n",
              "        vertical-align: middle;\n",
              "    }\n",
              "\n",
              "    .dataframe tbody tr th {\n",
              "        vertical-align: top;\n",
              "    }\n",
              "\n",
              "    .dataframe thead th {\n",
              "        text-align: right;\n",
              "    }\n",
              "</style>\n",
              "<table border=\"1\" class=\"dataframe\">\n",
              "  <thead>\n",
              "    <tr style=\"text-align: right;\">\n",
              "      <th></th>\n",
              "      <th>utterance</th>\n",
              "      <th>intent</th>\n",
              "      <th>cleaned_utterance</th>\n",
              "    </tr>\n",
              "  </thead>\n",
              "  <tbody>\n",
              "    <tr>\n",
              "      <th>0</th>\n",
              "      <td>i am still waiting on my card</td>\n",
              "      <td>card_arrival</td>\n",
              "      <td>still waiting card</td>\n",
              "    </tr>\n",
              "    <tr>\n",
              "      <th>1</th>\n",
              "      <td>what can i do if my card still hasn't arrived ...</td>\n",
              "      <td>card_arrival</td>\n",
              "      <td>card still arrived weeks</td>\n",
              "    </tr>\n",
              "    <tr>\n",
              "      <th>2</th>\n",
              "      <td>i have been waiting over a week is the card st...</td>\n",
              "      <td>card_arrival</td>\n",
              "      <td>waiting week card still coming</td>\n",
              "    </tr>\n",
              "    <tr>\n",
              "      <th>3</th>\n",
              "      <td>can i track my card while it is in the process...</td>\n",
              "      <td>card_arrival</td>\n",
              "      <td>track card process delivery</td>\n",
              "    </tr>\n",
              "    <tr>\n",
              "      <th>4</th>\n",
              "      <td>how do i know if i will get my card or if it i...</td>\n",
              "      <td>card_arrival</td>\n",
              "      <td>know get card lost</td>\n",
              "    </tr>\n",
              "  </tbody>\n",
              "</table>\n",
              "</div>\n",
              "      <button class=\"colab-df-convert\" onclick=\"convertToInteractive('df-6fa0cb69-e722-4767-8c07-96e3840848b6')\"\n",
              "              title=\"Convert this dataframe to an interactive table.\"\n",
              "              style=\"display:none;\">\n",
              "        \n",
              "  <svg xmlns=\"http://www.w3.org/2000/svg\" height=\"24px\"viewBox=\"0 0 24 24\"\n",
              "       width=\"24px\">\n",
              "    <path d=\"M0 0h24v24H0V0z\" fill=\"none\"/>\n",
              "    <path d=\"M18.56 5.44l.94 2.06.94-2.06 2.06-.94-2.06-.94-.94-2.06-.94 2.06-2.06.94zm-11 1L8.5 8.5l.94-2.06 2.06-.94-2.06-.94L8.5 2.5l-.94 2.06-2.06.94zm10 10l.94 2.06.94-2.06 2.06-.94-2.06-.94-.94-2.06-.94 2.06-2.06.94z\"/><path d=\"M17.41 7.96l-1.37-1.37c-.4-.4-.92-.59-1.43-.59-.52 0-1.04.2-1.43.59L10.3 9.45l-7.72 7.72c-.78.78-.78 2.05 0 2.83L4 21.41c.39.39.9.59 1.41.59.51 0 1.02-.2 1.41-.59l7.78-7.78 2.81-2.81c.8-.78.8-2.07 0-2.86zM5.41 20L4 18.59l7.72-7.72 1.47 1.35L5.41 20z\"/>\n",
              "  </svg>\n",
              "      </button>\n",
              "      \n",
              "  <style>\n",
              "    .colab-df-container {\n",
              "      display:flex;\n",
              "      flex-wrap:wrap;\n",
              "      gap: 12px;\n",
              "    }\n",
              "\n",
              "    .colab-df-convert {\n",
              "      background-color: #E8F0FE;\n",
              "      border: none;\n",
              "      border-radius: 50%;\n",
              "      cursor: pointer;\n",
              "      display: none;\n",
              "      fill: #1967D2;\n",
              "      height: 32px;\n",
              "      padding: 0 0 0 0;\n",
              "      width: 32px;\n",
              "    }\n",
              "\n",
              "    .colab-df-convert:hover {\n",
              "      background-color: #E2EBFA;\n",
              "      box-shadow: 0px 1px 2px rgba(60, 64, 67, 0.3), 0px 1px 3px 1px rgba(60, 64, 67, 0.15);\n",
              "      fill: #174EA6;\n",
              "    }\n",
              "\n",
              "    [theme=dark] .colab-df-convert {\n",
              "      background-color: #3B4455;\n",
              "      fill: #D2E3FC;\n",
              "    }\n",
              "\n",
              "    [theme=dark] .colab-df-convert:hover {\n",
              "      background-color: #434B5C;\n",
              "      box-shadow: 0px 1px 3px 1px rgba(0, 0, 0, 0.15);\n",
              "      filter: drop-shadow(0px 1px 2px rgba(0, 0, 0, 0.3));\n",
              "      fill: #FFFFFF;\n",
              "    }\n",
              "  </style>\n",
              "\n",
              "      <script>\n",
              "        const buttonEl =\n",
              "          document.querySelector('#df-6fa0cb69-e722-4767-8c07-96e3840848b6 button.colab-df-convert');\n",
              "        buttonEl.style.display =\n",
              "          google.colab.kernel.accessAllowed ? 'block' : 'none';\n",
              "\n",
              "        async function convertToInteractive(key) {\n",
              "          const element = document.querySelector('#df-6fa0cb69-e722-4767-8c07-96e3840848b6');\n",
              "          const dataTable =\n",
              "            await google.colab.kernel.invokeFunction('convertToInteractive',\n",
              "                                                     [key], {});\n",
              "          if (!dataTable) return;\n",
              "\n",
              "          const docLinkHtml = 'Like what you see? Visit the ' +\n",
              "            '<a target=\"_blank\" href=https://colab.research.google.com/notebooks/data_table.ipynb>data table notebook</a>'\n",
              "            + ' to learn more about interactive tables.';\n",
              "          element.innerHTML = '';\n",
              "          dataTable['output_type'] = 'display_data';\n",
              "          await google.colab.output.renderOutput(dataTable, element);\n",
              "          const docLink = document.createElement('div');\n",
              "          docLink.innerHTML = docLinkHtml;\n",
              "          element.appendChild(docLink);\n",
              "        }\n",
              "      </script>\n",
              "    </div>\n",
              "  </div>\n",
              "  "
            ]
          },
          "metadata": {},
          "execution_count": 21
        }
      ]
    },
    {
      "cell_type": "code",
      "source": [
        "#Drop empty rows\n",
        "\n",
        "utterances.replace('', np.nan, inplace=True)\n",
        "utterances.dropna(axis=0,inplace=True)\n",
        "\n",
        "utterances.head()"
      ],
      "metadata": {
        "colab": {
          "base_uri": "https://localhost:8080/",
          "height": 206
        },
        "id": "zdMGLG6G4FfF",
        "outputId": "eb0986e1-6ce5-4f5f-86d7-099aa0561d48"
      },
      "execution_count": 22,
      "outputs": [
        {
          "output_type": "execute_result",
          "data": {
            "text/plain": [
              "                                           utterance        intent  \\\n",
              "0                      i am still waiting on my card  card_arrival   \n",
              "1  what can i do if my card still hasn't arrived ...  card_arrival   \n",
              "2  i have been waiting over a week is the card st...  card_arrival   \n",
              "3  can i track my card while it is in the process...  card_arrival   \n",
              "4  how do i know if i will get my card or if it i...  card_arrival   \n",
              "\n",
              "                cleaned_utterance  \n",
              "0              still waiting card  \n",
              "1        card still arrived weeks  \n",
              "2  waiting week card still coming  \n",
              "3     track card process delivery  \n",
              "4              know get card lost  "
            ],
            "text/html": [
              "\n",
              "  <div id=\"df-4813e592-a8d8-48dc-9497-81b0ac309d32\">\n",
              "    <div class=\"colab-df-container\">\n",
              "      <div>\n",
              "<style scoped>\n",
              "    .dataframe tbody tr th:only-of-type {\n",
              "        vertical-align: middle;\n",
              "    }\n",
              "\n",
              "    .dataframe tbody tr th {\n",
              "        vertical-align: top;\n",
              "    }\n",
              "\n",
              "    .dataframe thead th {\n",
              "        text-align: right;\n",
              "    }\n",
              "</style>\n",
              "<table border=\"1\" class=\"dataframe\">\n",
              "  <thead>\n",
              "    <tr style=\"text-align: right;\">\n",
              "      <th></th>\n",
              "      <th>utterance</th>\n",
              "      <th>intent</th>\n",
              "      <th>cleaned_utterance</th>\n",
              "    </tr>\n",
              "  </thead>\n",
              "  <tbody>\n",
              "    <tr>\n",
              "      <th>0</th>\n",
              "      <td>i am still waiting on my card</td>\n",
              "      <td>card_arrival</td>\n",
              "      <td>still waiting card</td>\n",
              "    </tr>\n",
              "    <tr>\n",
              "      <th>1</th>\n",
              "      <td>what can i do if my card still hasn't arrived ...</td>\n",
              "      <td>card_arrival</td>\n",
              "      <td>card still arrived weeks</td>\n",
              "    </tr>\n",
              "    <tr>\n",
              "      <th>2</th>\n",
              "      <td>i have been waiting over a week is the card st...</td>\n",
              "      <td>card_arrival</td>\n",
              "      <td>waiting week card still coming</td>\n",
              "    </tr>\n",
              "    <tr>\n",
              "      <th>3</th>\n",
              "      <td>can i track my card while it is in the process...</td>\n",
              "      <td>card_arrival</td>\n",
              "      <td>track card process delivery</td>\n",
              "    </tr>\n",
              "    <tr>\n",
              "      <th>4</th>\n",
              "      <td>how do i know if i will get my card or if it i...</td>\n",
              "      <td>card_arrival</td>\n",
              "      <td>know get card lost</td>\n",
              "    </tr>\n",
              "  </tbody>\n",
              "</table>\n",
              "</div>\n",
              "      <button class=\"colab-df-convert\" onclick=\"convertToInteractive('df-4813e592-a8d8-48dc-9497-81b0ac309d32')\"\n",
              "              title=\"Convert this dataframe to an interactive table.\"\n",
              "              style=\"display:none;\">\n",
              "        \n",
              "  <svg xmlns=\"http://www.w3.org/2000/svg\" height=\"24px\"viewBox=\"0 0 24 24\"\n",
              "       width=\"24px\">\n",
              "    <path d=\"M0 0h24v24H0V0z\" fill=\"none\"/>\n",
              "    <path d=\"M18.56 5.44l.94 2.06.94-2.06 2.06-.94-2.06-.94-.94-2.06-.94 2.06-2.06.94zm-11 1L8.5 8.5l.94-2.06 2.06-.94-2.06-.94L8.5 2.5l-.94 2.06-2.06.94zm10 10l.94 2.06.94-2.06 2.06-.94-2.06-.94-.94-2.06-.94 2.06-2.06.94z\"/><path d=\"M17.41 7.96l-1.37-1.37c-.4-.4-.92-.59-1.43-.59-.52 0-1.04.2-1.43.59L10.3 9.45l-7.72 7.72c-.78.78-.78 2.05 0 2.83L4 21.41c.39.39.9.59 1.41.59.51 0 1.02-.2 1.41-.59l7.78-7.78 2.81-2.81c.8-.78.8-2.07 0-2.86zM5.41 20L4 18.59l7.72-7.72 1.47 1.35L5.41 20z\"/>\n",
              "  </svg>\n",
              "      </button>\n",
              "      \n",
              "  <style>\n",
              "    .colab-df-container {\n",
              "      display:flex;\n",
              "      flex-wrap:wrap;\n",
              "      gap: 12px;\n",
              "    }\n",
              "\n",
              "    .colab-df-convert {\n",
              "      background-color: #E8F0FE;\n",
              "      border: none;\n",
              "      border-radius: 50%;\n",
              "      cursor: pointer;\n",
              "      display: none;\n",
              "      fill: #1967D2;\n",
              "      height: 32px;\n",
              "      padding: 0 0 0 0;\n",
              "      width: 32px;\n",
              "    }\n",
              "\n",
              "    .colab-df-convert:hover {\n",
              "      background-color: #E2EBFA;\n",
              "      box-shadow: 0px 1px 2px rgba(60, 64, 67, 0.3), 0px 1px 3px 1px rgba(60, 64, 67, 0.15);\n",
              "      fill: #174EA6;\n",
              "    }\n",
              "\n",
              "    [theme=dark] .colab-df-convert {\n",
              "      background-color: #3B4455;\n",
              "      fill: #D2E3FC;\n",
              "    }\n",
              "\n",
              "    [theme=dark] .colab-df-convert:hover {\n",
              "      background-color: #434B5C;\n",
              "      box-shadow: 0px 1px 3px 1px rgba(0, 0, 0, 0.15);\n",
              "      filter: drop-shadow(0px 1px 2px rgba(0, 0, 0, 0.3));\n",
              "      fill: #FFFFFF;\n",
              "    }\n",
              "  </style>\n",
              "\n",
              "      <script>\n",
              "        const buttonEl =\n",
              "          document.querySelector('#df-4813e592-a8d8-48dc-9497-81b0ac309d32 button.colab-df-convert');\n",
              "        buttonEl.style.display =\n",
              "          google.colab.kernel.accessAllowed ? 'block' : 'none';\n",
              "\n",
              "        async function convertToInteractive(key) {\n",
              "          const element = document.querySelector('#df-4813e592-a8d8-48dc-9497-81b0ac309d32');\n",
              "          const dataTable =\n",
              "            await google.colab.kernel.invokeFunction('convertToInteractive',\n",
              "                                                     [key], {});\n",
              "          if (!dataTable) return;\n",
              "\n",
              "          const docLinkHtml = 'Like what you see? Visit the ' +\n",
              "            '<a target=\"_blank\" href=https://colab.research.google.com/notebooks/data_table.ipynb>data table notebook</a>'\n",
              "            + ' to learn more about interactive tables.';\n",
              "          element.innerHTML = '';\n",
              "          dataTable['output_type'] = 'display_data';\n",
              "          await google.colab.output.renderOutput(dataTable, element);\n",
              "          const docLink = document.createElement('div');\n",
              "          docLink.innerHTML = docLinkHtml;\n",
              "          element.appendChild(docLink);\n",
              "        }\n",
              "      </script>\n",
              "    </div>\n",
              "  </div>\n",
              "  "
            ]
          },
          "metadata": {},
          "execution_count": 22
        }
      ]
    },
    {
      "cell_type": "code",
      "source": [
        "#Lemmatization\n",
        "\n",
        "nltk.download(\"wordnet\")\n",
        "nltk.download('omw-1.4')\n",
        "wordnetLemmatizer = nltk.WordNetLemmatizer()"
      ],
      "metadata": {
        "colab": {
          "base_uri": "https://localhost:8080/"
        },
        "id": "O7uiVgF44ATN",
        "outputId": "ce5f2170-4c33-493f-869b-0e86ad8a06f9"
      },
      "execution_count": 23,
      "outputs": [
        {
          "output_type": "stream",
          "name": "stderr",
          "text": [
            "[nltk_data] Downloading package wordnet to /root/nltk_data...\n",
            "[nltk_data] Downloading package omw-1.4 to /root/nltk_data...\n"
          ]
        }
      ]
    },
    {
      "cell_type": "code",
      "source": [
        "def lemma(tokenized_text):\n",
        "  text = [wordnetLemmatizer.lemmatize(word) for word in tokenized_text]\n",
        "  return (\" \".join(text)).strip()\n",
        "\n",
        "utterances['lemmatized_utterance'] = utterances['cleaned_utterance'].apply(lambda x: lemma(x.split(\" \")))\n",
        "utterances.head()"
      ],
      "metadata": {
        "colab": {
          "base_uri": "https://localhost:8080/",
          "height": 206
        },
        "id": "uK-KfzRm492B",
        "outputId": "68c4fb67-fe90-45e4-efbb-f853bfe84cd2"
      },
      "execution_count": 24,
      "outputs": [
        {
          "output_type": "execute_result",
          "data": {
            "text/plain": [
              "                                           utterance        intent  \\\n",
              "0                      i am still waiting on my card  card_arrival   \n",
              "1  what can i do if my card still hasn't arrived ...  card_arrival   \n",
              "2  i have been waiting over a week is the card st...  card_arrival   \n",
              "3  can i track my card while it is in the process...  card_arrival   \n",
              "4  how do i know if i will get my card or if it i...  card_arrival   \n",
              "\n",
              "                cleaned_utterance            lemmatized_utterance  \n",
              "0              still waiting card              still waiting card  \n",
              "1        card still arrived weeks         card still arrived week  \n",
              "2  waiting week card still coming  waiting week card still coming  \n",
              "3     track card process delivery     track card process delivery  \n",
              "4              know get card lost              know get card lost  "
            ],
            "text/html": [
              "\n",
              "  <div id=\"df-6b11953e-49eb-42ea-8a9c-ec515a02b413\">\n",
              "    <div class=\"colab-df-container\">\n",
              "      <div>\n",
              "<style scoped>\n",
              "    .dataframe tbody tr th:only-of-type {\n",
              "        vertical-align: middle;\n",
              "    }\n",
              "\n",
              "    .dataframe tbody tr th {\n",
              "        vertical-align: top;\n",
              "    }\n",
              "\n",
              "    .dataframe thead th {\n",
              "        text-align: right;\n",
              "    }\n",
              "</style>\n",
              "<table border=\"1\" class=\"dataframe\">\n",
              "  <thead>\n",
              "    <tr style=\"text-align: right;\">\n",
              "      <th></th>\n",
              "      <th>utterance</th>\n",
              "      <th>intent</th>\n",
              "      <th>cleaned_utterance</th>\n",
              "      <th>lemmatized_utterance</th>\n",
              "    </tr>\n",
              "  </thead>\n",
              "  <tbody>\n",
              "    <tr>\n",
              "      <th>0</th>\n",
              "      <td>i am still waiting on my card</td>\n",
              "      <td>card_arrival</td>\n",
              "      <td>still waiting card</td>\n",
              "      <td>still waiting card</td>\n",
              "    </tr>\n",
              "    <tr>\n",
              "      <th>1</th>\n",
              "      <td>what can i do if my card still hasn't arrived ...</td>\n",
              "      <td>card_arrival</td>\n",
              "      <td>card still arrived weeks</td>\n",
              "      <td>card still arrived week</td>\n",
              "    </tr>\n",
              "    <tr>\n",
              "      <th>2</th>\n",
              "      <td>i have been waiting over a week is the card st...</td>\n",
              "      <td>card_arrival</td>\n",
              "      <td>waiting week card still coming</td>\n",
              "      <td>waiting week card still coming</td>\n",
              "    </tr>\n",
              "    <tr>\n",
              "      <th>3</th>\n",
              "      <td>can i track my card while it is in the process...</td>\n",
              "      <td>card_arrival</td>\n",
              "      <td>track card process delivery</td>\n",
              "      <td>track card process delivery</td>\n",
              "    </tr>\n",
              "    <tr>\n",
              "      <th>4</th>\n",
              "      <td>how do i know if i will get my card or if it i...</td>\n",
              "      <td>card_arrival</td>\n",
              "      <td>know get card lost</td>\n",
              "      <td>know get card lost</td>\n",
              "    </tr>\n",
              "  </tbody>\n",
              "</table>\n",
              "</div>\n",
              "      <button class=\"colab-df-convert\" onclick=\"convertToInteractive('df-6b11953e-49eb-42ea-8a9c-ec515a02b413')\"\n",
              "              title=\"Convert this dataframe to an interactive table.\"\n",
              "              style=\"display:none;\">\n",
              "        \n",
              "  <svg xmlns=\"http://www.w3.org/2000/svg\" height=\"24px\"viewBox=\"0 0 24 24\"\n",
              "       width=\"24px\">\n",
              "    <path d=\"M0 0h24v24H0V0z\" fill=\"none\"/>\n",
              "    <path d=\"M18.56 5.44l.94 2.06.94-2.06 2.06-.94-2.06-.94-.94-2.06-.94 2.06-2.06.94zm-11 1L8.5 8.5l.94-2.06 2.06-.94-2.06-.94L8.5 2.5l-.94 2.06-2.06.94zm10 10l.94 2.06.94-2.06 2.06-.94-2.06-.94-.94-2.06-.94 2.06-2.06.94z\"/><path d=\"M17.41 7.96l-1.37-1.37c-.4-.4-.92-.59-1.43-.59-.52 0-1.04.2-1.43.59L10.3 9.45l-7.72 7.72c-.78.78-.78 2.05 0 2.83L4 21.41c.39.39.9.59 1.41.59.51 0 1.02-.2 1.41-.59l7.78-7.78 2.81-2.81c.8-.78.8-2.07 0-2.86zM5.41 20L4 18.59l7.72-7.72 1.47 1.35L5.41 20z\"/>\n",
              "  </svg>\n",
              "      </button>\n",
              "      \n",
              "  <style>\n",
              "    .colab-df-container {\n",
              "      display:flex;\n",
              "      flex-wrap:wrap;\n",
              "      gap: 12px;\n",
              "    }\n",
              "\n",
              "    .colab-df-convert {\n",
              "      background-color: #E8F0FE;\n",
              "      border: none;\n",
              "      border-radius: 50%;\n",
              "      cursor: pointer;\n",
              "      display: none;\n",
              "      fill: #1967D2;\n",
              "      height: 32px;\n",
              "      padding: 0 0 0 0;\n",
              "      width: 32px;\n",
              "    }\n",
              "\n",
              "    .colab-df-convert:hover {\n",
              "      background-color: #E2EBFA;\n",
              "      box-shadow: 0px 1px 2px rgba(60, 64, 67, 0.3), 0px 1px 3px 1px rgba(60, 64, 67, 0.15);\n",
              "      fill: #174EA6;\n",
              "    }\n",
              "\n",
              "    [theme=dark] .colab-df-convert {\n",
              "      background-color: #3B4455;\n",
              "      fill: #D2E3FC;\n",
              "    }\n",
              "\n",
              "    [theme=dark] .colab-df-convert:hover {\n",
              "      background-color: #434B5C;\n",
              "      box-shadow: 0px 1px 3px 1px rgba(0, 0, 0, 0.15);\n",
              "      filter: drop-shadow(0px 1px 2px rgba(0, 0, 0, 0.3));\n",
              "      fill: #FFFFFF;\n",
              "    }\n",
              "  </style>\n",
              "\n",
              "      <script>\n",
              "        const buttonEl =\n",
              "          document.querySelector('#df-6b11953e-49eb-42ea-8a9c-ec515a02b413 button.colab-df-convert');\n",
              "        buttonEl.style.display =\n",
              "          google.colab.kernel.accessAllowed ? 'block' : 'none';\n",
              "\n",
              "        async function convertToInteractive(key) {\n",
              "          const element = document.querySelector('#df-6b11953e-49eb-42ea-8a9c-ec515a02b413');\n",
              "          const dataTable =\n",
              "            await google.colab.kernel.invokeFunction('convertToInteractive',\n",
              "                                                     [key], {});\n",
              "          if (!dataTable) return;\n",
              "\n",
              "          const docLinkHtml = 'Like what you see? Visit the ' +\n",
              "            '<a target=\"_blank\" href=https://colab.research.google.com/notebooks/data_table.ipynb>data table notebook</a>'\n",
              "            + ' to learn more about interactive tables.';\n",
              "          element.innerHTML = '';\n",
              "          dataTable['output_type'] = 'display_data';\n",
              "          await google.colab.output.renderOutput(dataTable, element);\n",
              "          const docLink = document.createElement('div');\n",
              "          docLink.innerHTML = docLinkHtml;\n",
              "          element.appendChild(docLink);\n",
              "        }\n",
              "      </script>\n",
              "    </div>\n",
              "  </div>\n",
              "  "
            ]
          },
          "metadata": {},
          "execution_count": 24
        }
      ]
    },
    {
      "cell_type": "markdown",
      "source": [
        "### Model Building and testing using MultiNomialNB using Count Vectorizer and tf-idf Vectorizer\n"
      ],
      "metadata": {
        "id": "sEha_Kjcv_KN"
      }
    },
    {
      "cell_type": "code",
      "source": [
        "from sklearn.feature_extraction.text import CountVectorizer\n",
        "from sklearn.model_selection import train_test_split\n",
        "from sklearn.feature_extraction.text import TfidfVectorizer\n",
        "from sklearn.naive_bayes import MultinomialNB\n",
        "from sklearn.metrics import classification_report, accuracy_score, f1_score\n"
      ],
      "metadata": {
        "id": "AdBd6AmhyGt2"
      },
      "execution_count": 73,
      "outputs": []
    },
    {
      "cell_type": "markdown",
      "source": [
        "Model building using MultiNomialNB (Naive Bayes) Model and uni-gram CountVectorizer for Classification"
      ],
      "metadata": {
        "id": "u2lqXC3THBYK"
      }
    },
    {
      "cell_type": "code",
      "source": [
        "\"\"\"\n",
        "Now convert each message into a vector that machine learning models can understand.\n",
        "\n",
        "\"\"\"\n",
        "# uni-gram CountVectorizer\n",
        "\n",
        "vectorizer = CountVectorizer().fit_transform(utterances['lemmatized_utterance'])\n",
        "X = np.array(vectorizer.todense())\n",
        "print(\"Shape of X: \", X.shape)\n",
        "y = utterances['intent']\n",
        "X_train, X_test, y_train, y_test = train_test_split(X, y, test_size=0.2, stratify=y)\n",
        "print(\"Shape of X_train: \", X_train.shape)\n",
        "print(\"Shape of X_test: \", X_test.shape)"
      ],
      "metadata": {
        "id": "sgWJgw1rwNYO",
        "colab": {
          "base_uri": "https://localhost:8080/"
        },
        "outputId": "b115e19d-9cb1-4996-bf85-8f47ec975e59"
      },
      "execution_count": 69,
      "outputs": [
        {
          "output_type": "stream",
          "name": "stdout",
          "text": [
            "Shape of X:  (8618, 1811)\n",
            "Shape of X_train:  (6894, 1811)\n",
            "Shape of X_test:  (1724, 1811)\n"
          ]
        }
      ]
    },
    {
      "cell_type": "code",
      "source": [
        "count_vectorizer_unigram_MNB_model = MultinomialNB().fit(X_train, y_train)\n",
        "y_pred = count_vectorizer_unigram_MNB_model.predict(X_test)\n",
        "\n",
        "y_pred"
      ],
      "metadata": {
        "colab": {
          "base_uri": "https://localhost:8080/"
        },
        "id": "Q1KHeFvq5NhL",
        "outputId": "6ef315e2-d5d2-4576-eac2-9321591d6cfd"
      },
      "execution_count": 75,
      "outputs": [
        {
          "output_type": "execute_result",
          "data": {
            "text/plain": [
              "array(['pending_transfer', 'wrong_amount_of_cash_received',\n",
              "       'extra_charge_on_statement', ..., 'get_physical_card',\n",
              "       'card_linking', 'declined_card_payment'], dtype='<U48')"
            ]
          },
          "metadata": {},
          "execution_count": 75
        }
      ]
    },
    {
      "cell_type": "code",
      "source": [
        "print('Accuracy:', accuracy_score(y_test, y_pred))\n",
        "print('F1 score:', f1_score(y_test, y_pred, average=\"macro\"))\n",
        "\n",
        "print (classification_report(y_test, y_pred))"
      ],
      "metadata": {
        "colab": {
          "base_uri": "https://localhost:8080/"
        },
        "id": "Q4PBj4z6Gjqu",
        "outputId": "497c3a11-2693-438f-fe96-ba95caf8f25d"
      },
      "execution_count": 74,
      "outputs": [
        {
          "output_type": "stream",
          "name": "stdout",
          "text": [
            "Accuracy: 0.8022041763341067\n",
            "F1 score: 0.7785680868513859\n",
            "                                                  precision    recall  f1-score   support\n",
            "\n",
            "                           Refund_not_showing_up       1.00      0.90      0.95        29\n",
            "                                activate_my_card       0.79      0.93      0.85        28\n",
            "                                       age_limit       1.00      0.94      0.97        18\n",
            "                         apple_pay_or_google_pay       0.88      1.00      0.94        22\n",
            "                                     atm_support       1.00      0.21      0.35        14\n",
            "                                automatic_top_up       1.00      0.73      0.84        22\n",
            "         balance_not_updated_after_bank_transfer       0.69      0.77      0.73        31\n",
            "balance_not_updated_after_cheque_or_cash_deposit       0.77      0.91      0.83        33\n",
            "                         beneficiary_not_allowed       0.83      0.74      0.78        27\n",
            "                                 cancel_transfer       0.77      0.96      0.86        28\n",
            "                            card_about_to_expire       0.64      0.95      0.76        22\n",
            "                                 card_acceptance       1.00      0.11      0.20         9\n",
            "                                    card_arrival       0.73      0.70      0.72        27\n",
            "                          card_delivery_estimate       0.80      0.63      0.71        19\n",
            "                                    card_linking       0.63      0.79      0.70        24\n",
            "                                card_not_working       0.82      0.50      0.62        18\n",
            "                        card_payment_fee_charged       0.78      0.94      0.85        34\n",
            "                     card_payment_not_recognised       0.80      0.80      0.80        30\n",
            "                card_payment_wrong_exchange_rate       0.67      0.90      0.76        29\n",
            "                                  card_swallowed       1.00      0.56      0.71         9\n",
            "                          cash_withdrawal_charge       0.97      0.94      0.95        32\n",
            "                  cash_withdrawal_not_recognised       0.72      0.82      0.77        28\n",
            "                                      change_pin       0.91      1.00      0.95        21\n",
            "                                compromised_card       0.82      0.64      0.72        14\n",
            "                         contactless_not_working       1.00      0.67      0.80         6\n",
            "                                 country_support       0.94      0.73      0.82        22\n",
            "                           declined_card_payment       0.64      0.93      0.76        27\n",
            "                        declined_cash_withdrawal       0.64      0.90      0.75        31\n",
            "                               declined_transfer       0.80      0.87      0.83        23\n",
            "             direct_debit_payment_not_recognised       0.88      0.88      0.88        33\n",
            "                          disposable_card_limits       0.76      0.95      0.84        20\n",
            "                           edit_personal_details       0.91      1.00      0.95        21\n",
            "                                 exchange_charge       0.86      0.90      0.88        20\n",
            "                                   exchange_rate       0.89      0.42      0.57        19\n",
            "                                exchange_via_app       1.00      0.85      0.92        20\n",
            "                       extra_charge_on_statement       0.86      0.83      0.84        29\n",
            "                                 failed_transfer       0.79      0.62      0.70        24\n",
            "                           fiat_currency_support       1.00      1.00      1.00        21\n",
            "                     get_disposable_virtual_card       0.87      0.81      0.84        16\n",
            "                               get_physical_card       0.93      0.78      0.85        18\n",
            "                              getting_spare_card       0.57      0.77      0.65        22\n",
            "                            getting_virtual_card       0.82      0.88      0.85        16\n",
            "                             lost_or_stolen_card       0.86      0.46      0.60        13\n",
            "                            lost_or_stolen_phone       1.00      0.90      0.95        21\n",
            "                             order_physical_card       0.50      0.15      0.23        20\n",
            "                              passcode_forgotten       0.94      0.94      0.94        17\n",
            "                            pending_card_payment       0.89      0.89      0.89        28\n",
            "                         pending_cash_withdrawal       0.86      1.00      0.93        25\n",
            "                                  pending_top_up       0.83      0.73      0.78        26\n",
            "                                pending_transfer       0.78      0.81      0.79        26\n",
            "                                     pin_blocked       0.94      0.79      0.86        19\n",
            "                                 receiving_money       0.91      0.62      0.74        16\n",
            "                                  request_refund       0.88      0.97      0.92        30\n",
            "                          reverted_card_payment?       0.93      0.89      0.91        28\n",
            "                  supported_cards_and_currencies       0.70      0.86      0.78        22\n",
            "                               terminate_account       1.00      0.83      0.91        18\n",
            "                  top_up_by_bank_transfer_charge       0.90      0.47      0.62        19\n",
            "                           top_up_by_card_charge       0.68      0.89      0.77        19\n",
            "                        top_up_by_cash_or_cheque       1.00      0.84      0.91        19\n",
            "                                   top_up_failed       0.59      0.64      0.62        25\n",
            "                                   top_up_limits       0.92      0.75      0.83        16\n",
            "                                 top_up_reverted       0.75      0.81      0.78        26\n",
            "                              topping_up_by_card       0.89      0.47      0.62        17\n",
            "                       transaction_charged_twice       0.86      0.94      0.90        32\n",
            "                            transfer_fee_charged       0.76      0.84      0.80        31\n",
            "                           transfer_into_account       0.68      0.79      0.73        19\n",
            "              transfer_not_received_by_recipient       0.65      0.80      0.72        30\n",
            "                                 transfer_timing       0.62      0.73      0.67        22\n",
            "                       unable_to_verify_identity       0.82      0.53      0.64        17\n",
            "                              verify_my_identity       0.64      0.53      0.58        17\n",
            "                          verify_source_of_funds       0.94      0.84      0.89        19\n",
            "                                   verify_top_up       0.81      1.00      0.89        21\n",
            "                        virtual_card_not_working       1.00      0.33      0.50         6\n",
            "                              visa_or_mastercard       0.95      0.91      0.93        23\n",
            "                             why_verify_identity       0.67      0.60      0.63        20\n",
            "                   wrong_amount_of_cash_received       0.82      0.84      0.83        32\n",
            "         wrong_exchange_rate_for_cash_withdrawal       0.77      0.83      0.80        29\n",
            "\n",
            "                                        accuracy                           0.80      1724\n",
            "                                       macro avg       0.83      0.77      0.78      1724\n",
            "                                    weighted avg       0.82      0.80      0.79      1724\n",
            "\n"
          ]
        }
      ]
    },
    {
      "cell_type": "markdown",
      "source": [
        "Model building using MultiNomialNB (Naive Bayes) Model and bi-gram CountVectorizer for Classification"
      ],
      "metadata": {
        "id": "1Hel4S1PzCS5"
      }
    },
    {
      "cell_type": "code",
      "source": [
        "# bi-gram CountVectorizer using pipeline approach\n",
        "\n",
        "\n",
        "\n",
        "bigram_vectorizer = CountVectorizer(ngram_range=(2,2)).fit(utterances['lemmatized_utterance'])\n",
        "print(len(bigram_vectorizer.vocabulary_))\n"
      ],
      "metadata": {
        "colab": {
          "base_uri": "https://localhost:8080/"
        },
        "id": "hWCqqUfu20VB",
        "outputId": "fdebe6a6-866b-4b6b-86c7-dc7f78ad0556"
      },
      "execution_count": 37,
      "outputs": [
        {
          "output_type": "stream",
          "name": "stdout",
          "text": [
            "14750\n"
          ]
        }
      ]
    },
    {
      "cell_type": "code",
      "source": [
        "count_vectorizer_bigram_MNB_model = MultinomialNB().fit(X_train, y_train)\n",
        "y_pred = count_vectorizer_bigram_MNB_model.predict(X_test)\n",
        "\n",
        "y_pred"
      ],
      "metadata": {
        "id": "o1yzEeXrzVpw"
      },
      "execution_count": null,
      "outputs": []
    },
    {
      "cell_type": "code",
      "source": [
        "print('Accuracy:', accuracy_score(y_test, y_pred))\n",
        "print('F1 score:', f1_score(y_test, y_pred, average=\"macro\"))\n",
        "\n",
        "print (classification_report(y_test, y_pred))"
      ],
      "metadata": {
        "id": "njW1vlIrHn0u"
      },
      "execution_count": null,
      "outputs": []
    },
    {
      "cell_type": "markdown",
      "source": [
        "Model building using MultiNomialNB (Naive Bayes) Model and uni-gram and bi-gram CountVectorizer for Classification"
      ],
      "metadata": {
        "id": "fmZuwPRFDfzz"
      }
    },
    {
      "cell_type": "code",
      "source": [
        "# uni-gram, bi-gram CountVectorizer\n",
        "\n",
        "ngram_vectorizer = CountVectorizer(ngram_range=(1,2)).fit(utterances['lemmatized_utterance'])\n",
        "print(len(ngram_vectorizer.vocabulary_))"
      ],
      "metadata": {
        "id": "9O1woSmTDMue"
      },
      "execution_count": null,
      "outputs": []
    },
    {
      "cell_type": "code",
      "source": [
        "count_vectorizer_unibigram_MNB_model = MultinomialNB().fit(X_train, y_train)\n",
        "y_pred = count_vectorizer_unibigram_MNB_model.predict(X_test)\n",
        "\n",
        "y_pred"
      ],
      "metadata": {
        "id": "jwcy_r_HDRQY"
      },
      "execution_count": null,
      "outputs": []
    },
    {
      "cell_type": "code",
      "source": [
        "print('Accuracy:', accuracy_score(y_test, y_pred))\n",
        "print('F1 score:', f1_score(y_test, y_pred, average=\"macro\"))\n",
        "\n",
        "print (classification_report(y_test, y_pred))"
      ],
      "metadata": {
        "id": "yvfKsDeSDEdV"
      },
      "execution_count": null,
      "outputs": []
    },
    {
      "cell_type": "markdown",
      "source": [
        "Model building using MultiNomialNB (Naive Bayes) Model and tri-gram CountVectorizer for Classification"
      ],
      "metadata": {
        "id": "3uCjhafHH6cM"
      }
    },
    {
      "cell_type": "code",
      "source": [
        "#tri-gram CountVectorizer\n",
        "\n",
        "\n"
      ],
      "metadata": {
        "id": "enI1_GCIH9SL"
      },
      "execution_count": null,
      "outputs": []
    },
    {
      "cell_type": "code",
      "source": [
        "count_vectorizer_trigram_MNB_model = MultinomialNB().fit(X_train, y_train)\n",
        "y_pred = count_vectorizer_trigram_MNB_model.predict(X_test)\n",
        "\n",
        "y_pred"
      ],
      "metadata": {
        "id": "3BWB0RIDILYd"
      },
      "execution_count": null,
      "outputs": []
    },
    {
      "cell_type": "markdown",
      "source": [
        "###Model building using MultiNomialNB (Naive Bayes) Model and tf-idf (term frequency - inverse document frequency) vectorizer for Classification\n"
      ],
      "metadata": {
        "id": "viNCooOX_g7d"
      }
    },
    {
      "cell_type": "code",
      "source": [
        "\n",
        "# Training TfidfVectorizer\n",
        "\n",
        "tfidfVectorizer = TfidfVectorizer()\n",
        "X = tfidfVectorizer.fit_transform(utterances['lemmatized_utterance'])\n",
        "X = np.array(X.todense())\n",
        "\n",
        "y = utterances['intent']\n",
        "X_train, X_test, y_train, y_test = train_test_split(X, y, test_size=0.2, stratify=y)\n",
        "print(\"Shape of X_train: \", X_train.shape)\n",
        "print(\"Shape of X_test: \", X_test.shape)\n"
      ],
      "metadata": {
        "id": "NPXwPjZj_nkh",
        "colab": {
          "base_uri": "https://localhost:8080/"
        },
        "outputId": "e760993a-02be-4e4f-8aaf-4906af92a56e"
      },
      "execution_count": 65,
      "outputs": [
        {
          "output_type": "stream",
          "name": "stdout",
          "text": [
            "Shape of X_train:  (6894, 1811)\n",
            "Shape of X_test:  (1724, 1811)\n"
          ]
        }
      ]
    },
    {
      "cell_type": "code",
      "source": [
        "X_test"
      ],
      "metadata": {
        "colab": {
          "base_uri": "https://localhost:8080/"
        },
        "id": "beAuzTVqGXcE",
        "outputId": "43f385a5-5f63-4dee-e8e0-1f0bf721e435"
      },
      "execution_count": null,
      "outputs": [
        {
          "output_type": "execute_result",
          "data": {
            "text/plain": [
              "array([[0., 0., 0., ..., 0., 0., 0.],\n",
              "       [0., 0., 0., ..., 0., 0., 0.],\n",
              "       [0., 0., 0., ..., 0., 0., 0.],\n",
              "       ...,\n",
              "       [0., 0., 0., ..., 0., 0., 0.],\n",
              "       [0., 0., 0., ..., 0., 0., 0.],\n",
              "       [0., 0., 0., ..., 0., 0., 0.]])"
            ]
          },
          "metadata": {},
          "execution_count": 85
        }
      ]
    },
    {
      "cell_type": "markdown",
      "source": [
        "### Model building using MultiNomialNB (Naive Bayes) Model and tf-idf vectorizer for Classification"
      ],
      "metadata": {
        "id": "Fpswrq24FRL_"
      }
    },
    {
      "cell_type": "code",
      "source": [
        "\n",
        "intent_classification_model = MultinomialNB().fit(X_train, y_train)"
      ],
      "metadata": {
        "id": "hrUgvjnjFQat"
      },
      "execution_count": null,
      "outputs": []
    },
    {
      "cell_type": "markdown",
      "source": [
        "### Model Testing"
      ],
      "metadata": {
        "id": "hsXhVocywS0B"
      }
    },
    {
      "cell_type": "code",
      "source": [
        "y_pred = intent_classification_model.predict(X_test)\n",
        "\n",
        "y_pred"
      ],
      "metadata": {
        "id": "RvNIhLhMwaDM",
        "colab": {
          "base_uri": "https://localhost:8080/"
        },
        "outputId": "f5d04841-35df-43b2-ed73-fd25c88628ba"
      },
      "execution_count": null,
      "outputs": [
        {
          "output_type": "execute_result",
          "data": {
            "text/plain": [
              "array(['pending_transfer', 'pending_transfer', 'compromised_card', ...,\n",
              "       'declined_cash_withdrawal', 'request_refund',\n",
              "       'direct_debit_payment_not_recognised'], dtype='<U48')"
            ]
          },
          "metadata": {},
          "execution_count": 87
        }
      ]
    },
    {
      "cell_type": "markdown",
      "source": [
        "### Accuracy of the model"
      ],
      "metadata": {
        "id": "_-cJ9ElzwaoB"
      }
    },
    {
      "cell_type": "code",
      "source": [
        "\n",
        "print('Accuracy:', accuracy_score(y_test, y_pred))\n",
        "print('F1 score:', f1_score(y_test, y_pred, average=\"macro\"))\n",
        "\n",
        "print (classification_report(y_test, y_pred))"
      ],
      "metadata": {
        "id": "XS05lFGMwha5",
        "colab": {
          "base_uri": "https://localhost:8080/"
        },
        "outputId": "ef323537-edb6-443f-d80a-a85de05bedb9"
      },
      "execution_count": null,
      "outputs": [
        {
          "output_type": "stream",
          "name": "stdout",
          "text": [
            "Accuracy: 0.7848027842227379\n",
            "F1 score: 0.7497713128916921\n",
            "                                                  precision    recall  f1-score   support\n",
            "\n",
            "                           Refund_not_showing_up       0.93      0.90      0.91        29\n",
            "                                activate_my_card       0.70      0.93      0.80        28\n",
            "                                       age_limit       1.00      0.83      0.91        18\n",
            "                         apple_pay_or_google_pay       0.85      1.00      0.92        22\n",
            "                                     atm_support       1.00      0.36      0.53        14\n",
            "                                automatic_top_up       0.88      0.95      0.91        22\n",
            "         balance_not_updated_after_bank_transfer       0.59      0.77      0.67        31\n",
            "balance_not_updated_after_cheque_or_cash_deposit       0.71      0.97      0.82        33\n",
            "                         beneficiary_not_allowed       0.73      0.81      0.77        27\n",
            "                                 cancel_transfer       0.79      0.96      0.87        28\n",
            "                            card_about_to_expire       0.63      0.86      0.73        22\n",
            "                                 card_acceptance       1.00      0.22      0.36         9\n",
            "                                    card_arrival       0.70      0.78      0.74        27\n",
            "                          card_delivery_estimate       0.89      0.42      0.57        19\n",
            "                                    card_linking       0.85      0.92      0.88        24\n",
            "                                card_not_working       1.00      0.33      0.50        18\n",
            "                        card_payment_fee_charged       0.57      0.85      0.68        34\n",
            "                     card_payment_not_recognised       0.69      0.83      0.76        30\n",
            "                card_payment_wrong_exchange_rate       0.58      0.86      0.69        29\n",
            "                                  card_swallowed       1.00      0.11      0.20         9\n",
            "                          cash_withdrawal_charge       0.81      0.91      0.85        32\n",
            "                  cash_withdrawal_not_recognised       0.74      0.82      0.78        28\n",
            "                                      change_pin       0.78      1.00      0.88        21\n",
            "                                compromised_card       0.90      0.64      0.75        14\n",
            "                         contactless_not_working       1.00      0.50      0.67         6\n",
            "                                 country_support       0.85      0.77      0.81        22\n",
            "                           declined_card_payment       0.73      0.81      0.77        27\n",
            "                        declined_cash_withdrawal       0.58      0.94      0.72        31\n",
            "                               declined_transfer       0.91      0.87      0.89        23\n",
            "             direct_debit_payment_not_recognised       0.91      0.97      0.94        33\n",
            "                          disposable_card_limits       0.70      0.95      0.81        20\n",
            "                           edit_personal_details       1.00      0.86      0.92        21\n",
            "                                 exchange_charge       0.95      0.90      0.92        20\n",
            "                                   exchange_rate       1.00      0.21      0.35        19\n",
            "                                exchange_via_app       0.94      0.85      0.89        20\n",
            "                       extra_charge_on_statement       0.92      0.76      0.83        29\n",
            "                                 failed_transfer       0.86      0.79      0.83        24\n",
            "                           fiat_currency_support       0.95      0.90      0.93        21\n",
            "                     get_disposable_virtual_card       0.79      0.69      0.73        16\n",
            "                               get_physical_card       0.88      0.78      0.82        18\n",
            "                              getting_spare_card       0.70      0.73      0.71        22\n",
            "                            getting_virtual_card       0.81      0.81      0.81        16\n",
            "                             lost_or_stolen_card       0.83      0.38      0.53        13\n",
            "                            lost_or_stolen_phone       0.95      0.90      0.93        21\n",
            "                             order_physical_card       0.73      0.40      0.52        20\n",
            "                              passcode_forgotten       1.00      0.94      0.97        17\n",
            "                            pending_card_payment       0.87      0.96      0.92        28\n",
            "                         pending_cash_withdrawal       0.92      0.88      0.90        25\n",
            "                                  pending_top_up       1.00      0.69      0.82        26\n",
            "                                pending_transfer       0.78      0.69      0.73        26\n",
            "                                     pin_blocked       0.88      0.74      0.80        19\n",
            "                                 receiving_money       1.00      0.62      0.77        16\n",
            "                                  request_refund       0.88      0.97      0.92        30\n",
            "                          reverted_card_payment?       0.84      0.75      0.79        28\n",
            "                  supported_cards_and_currencies       0.61      0.91      0.73        22\n",
            "                               terminate_account       1.00      0.72      0.84        18\n",
            "                  top_up_by_bank_transfer_charge       1.00      0.42      0.59        19\n",
            "                           top_up_by_card_charge       0.81      0.89      0.85        19\n",
            "                        top_up_by_cash_or_cheque       1.00      0.58      0.73        19\n",
            "                                   top_up_failed       0.73      0.64      0.68        25\n",
            "                                   top_up_limits       1.00      0.62      0.77        16\n",
            "                                 top_up_reverted       0.82      0.69      0.75        26\n",
            "                              topping_up_by_card       0.75      0.35      0.48        17\n",
            "                       transaction_charged_twice       0.84      0.97      0.90        32\n",
            "                            transfer_fee_charged       0.72      0.94      0.82        31\n",
            "                           transfer_into_account       0.67      0.53      0.59        19\n",
            "              transfer_not_received_by_recipient       0.71      0.83      0.77        30\n",
            "                                 transfer_timing       0.71      0.68      0.70        22\n",
            "                       unable_to_verify_identity       0.78      0.41      0.54        17\n",
            "                              verify_my_identity       0.73      0.65      0.69        17\n",
            "                          verify_source_of_funds       0.94      0.84      0.89        19\n",
            "                                   verify_top_up       0.75      1.00      0.86        21\n",
            "                        virtual_card_not_working       0.00      0.00      0.00         6\n",
            "                              visa_or_mastercard       0.88      1.00      0.94        23\n",
            "                             why_verify_identity       0.62      0.75      0.68        20\n",
            "                   wrong_amount_of_cash_received       0.71      0.94      0.81        32\n",
            "         wrong_exchange_rate_for_cash_withdrawal       0.70      0.72      0.71        29\n",
            "\n",
            "                                        accuracy                           0.78      1724\n",
            "                                       macro avg       0.82      0.74      0.75      1724\n",
            "                                    weighted avg       0.81      0.78      0.77      1724\n",
            "\n"
          ]
        },
        {
          "output_type": "stream",
          "name": "stderr",
          "text": [
            "/usr/local/lib/python3.8/dist-packages/sklearn/metrics/_classification.py:1318: UndefinedMetricWarning: Precision and F-score are ill-defined and being set to 0.0 in labels with no predicted samples. Use `zero_division` parameter to control this behavior.\n",
            "  _warn_prf(average, modifier, msg_start, len(result))\n",
            "/usr/local/lib/python3.8/dist-packages/sklearn/metrics/_classification.py:1318: UndefinedMetricWarning: Precision and F-score are ill-defined and being set to 0.0 in labels with no predicted samples. Use `zero_division` parameter to control this behavior.\n",
            "  _warn_prf(average, modifier, msg_start, len(result))\n",
            "/usr/local/lib/python3.8/dist-packages/sklearn/metrics/_classification.py:1318: UndefinedMetricWarning: Precision and F-score are ill-defined and being set to 0.0 in labels with no predicted samples. Use `zero_division` parameter to control this behavior.\n",
            "  _warn_prf(average, modifier, msg_start, len(result))\n"
          ]
        }
      ]
    },
    {
      "cell_type": "code",
      "source": [],
      "metadata": {
        "id": "U4ocXDNR_myv"
      },
      "execution_count": null,
      "outputs": []
    },
    {
      "cell_type": "markdown",
      "source": [
        "### Using SVM (Support Vector Machine) Model"
      ],
      "metadata": {
        "id": "vZJQ1mi1Rx_d"
      }
    },
    {
      "cell_type": "code",
      "source": [],
      "metadata": {
        "id": "pFemqt_HRxl-"
      },
      "execution_count": null,
      "outputs": []
    }
  ]
}