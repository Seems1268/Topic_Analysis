{
  "nbformat": 4,
  "nbformat_minor": 0,
  "metadata": {
    "colab": {
      "provenance": []
    },
    "kernelspec": {
      "name": "python3",
      "display_name": "Python 3"
    },
    "language_info": {
      "name": "python"
    }
  },
  "cells": [
    {
      "cell_type": "markdown",
      "source": [
        "# DSE Dissertation\n",
        "\n",
        "## Topic Modelling"
      ],
      "metadata": {
        "id": "0kotEyV9qPiV"
      }
    },
    {
      "cell_type": "markdown",
      "source": [
        "#### Load Packages"
      ],
      "metadata": {
        "id": "mlqTSL_W1dsQ"
      }
    },
    {
      "cell_type": "code",
      "execution_count": 59,
      "metadata": {
        "id": "vwV5lNR3qJXD"
      },
      "outputs": [],
      "source": [
        "import pandas as pd\n",
        "import seaborn as sns\n",
        "import matplotlib.pyplot as plt\n",
        "import numpy as np\n",
        "import datetime as dt\n",
        "import seaborn as sn"
      ]
    },
    {
      "cell_type": "markdown",
      "source": [
        "#### Load Dataset"
      ],
      "metadata": {
        "id": "A1SkQhB8GKLx"
      }
    },
    {
      "cell_type": "code",
      "source": [
        "\"\"\"\n",
        "\n",
        "Loading dataset\n",
        "\n",
        "\"\"\"\n",
        "\n",
        "class UtteranceExample:\n",
        "    def __init__(self, text, label, do_lower_case):\n",
        "        self.original_text = text\n",
        "        self.text = text\n",
        "        self.label = label\n",
        "\n",
        "        if do_lower_case:\n",
        "            self.text = self.text.lower()\n",
        "\n",
        "    def to_dict(self):\n",
        "      return {\n",
        "          'utterance': self.original_text,\n",
        "          'intent': self.label,\n",
        "      }\n",
        "        \n",
        "def load_utterance_examples(file_path, do_lower_case=True):\n",
        "    examples = []\n",
        "\n",
        "    with open('{}/seq.in'.format(file_path), 'r', encoding=\"utf-8\") as f_text, open('{}/label'.format(file_path), 'r', encoding=\"utf-8\") as f_label:\n",
        "        for text, label in zip(f_text, f_label):\n",
        "            e = UtteranceExample(text.strip(), label.strip(), do_lower_case)\n",
        "            examples.append(e)\n",
        "\n",
        "    return examples\n",
        "\n"
      ],
      "metadata": {
        "id": "Y_b0qBJr2k0o"
      },
      "execution_count": 60,
      "outputs": []
    },
    {
      "cell_type": "code",
      "source": [
        "data = load_utterance_examples(\"/content/sample_data\")\n",
        "\n",
        "utterances= pd.DataFrame.from_records([d.to_dict() for d in data])\n",
        "\n",
        "print(utterances)"
      ],
      "metadata": {
        "colab": {
          "base_uri": "https://localhost:8080/"
        },
        "id": "bqmfSCtEtgLt",
        "outputId": "aceec099-6b2b-4a7d-b4a5-311436f6b10c"
      },
      "execution_count": 61,
      "outputs": [
        {
          "output_type": "stream",
          "name": "stdout",
          "text": [
            "                                              utterance           intent\n",
            "0                        i am still waiting on my card?     card_arrival\n",
            "1     what can i do if my card still hasn't arrived ...     card_arrival\n",
            "2     i have been waiting over a week. is the card s...     card_arrival\n",
            "3     can i track my card while it is in the process...     card_arrival\n",
            "4     how do i know if i will get my card, or if it ...     card_arrival\n",
            "...                                                 ...              ...\n",
            "8617             you provide support in what countries?  country_support\n",
            "8618                 what countries are you supporting?  country_support\n",
            "8619                what countries are getting support?  country_support\n",
            "8620                     are cards available in the eu?  country_support\n",
            "8621                   which countries are represented?  country_support\n",
            "\n",
            "[8622 rows x 2 columns]\n"
          ]
        }
      ]
    },
    {
      "cell_type": "markdown",
      "source": [
        "### Exploratory Data Analysis"
      ],
      "metadata": {
        "id": "XJ5ZmILI0NWV"
      }
    },
    {
      "cell_type": "code",
      "source": [
        "utterances.shape"
      ],
      "metadata": {
        "colab": {
          "base_uri": "https://localhost:8080/"
        },
        "id": "5-dZp7NU71bx",
        "outputId": "cb43655f-1e27-49ae-9f40-95a29717cfbb"
      },
      "execution_count": 62,
      "outputs": [
        {
          "output_type": "execute_result",
          "data": {
            "text/plain": [
              "(8622, 2)"
            ]
          },
          "metadata": {},
          "execution_count": 62
        }
      ]
    },
    {
      "cell_type": "code",
      "source": [
        "utterances.dropna(axis=0,inplace=True)#dropping na\n",
        "utterances.shape"
      ],
      "metadata": {
        "colab": {
          "base_uri": "https://localhost:8080/"
        },
        "id": "TfHxbunC8FBJ",
        "outputId": "8a48aa91-a0ea-4be8-a2e7-fbd9d5687221"
      },
      "execution_count": 63,
      "outputs": [
        {
          "output_type": "execute_result",
          "data": {
            "text/plain": [
              "(8622, 2)"
            ]
          },
          "metadata": {},
          "execution_count": 63
        }
      ]
    },
    {
      "cell_type": "code",
      "source": [
        "utterances.drop_duplicates(subset=['utterance'],inplace=True)#dropping duplicates\n",
        "utterances.shape"
      ],
      "metadata": {
        "colab": {
          "base_uri": "https://localhost:8080/"
        },
        "id": "ETmKKgTr8KyO",
        "outputId": "0becbe51-5ff5-4093-b227-b576940da896"
      },
      "execution_count": 64,
      "outputs": [
        {
          "output_type": "execute_result",
          "data": {
            "text/plain": [
              "(8618, 2)"
            ]
          },
          "metadata": {},
          "execution_count": 64
        }
      ]
    },
    {
      "cell_type": "code",
      "source": [
        "type_counts_train = utterances['intent'].value_counts()\n",
        "\n",
        "print(type_counts_train)\n",
        "\n",
        "\"\"\"\n",
        "\n",
        "THIS SHOWS THE SENTENCES PER INTENT ARE IMBALANCED.\n",
        "\n",
        "TOTAL OF 77 INTENT CLASSES\n",
        "\n",
        "\"\"\""
      ],
      "metadata": {
        "colab": {
          "base_uri": "https://localhost:8080/",
          "height": 250
        },
        "id": "Yyx_8S7X0TRe",
        "outputId": "7fe0b6c5-bde1-44fb-d9c4-9d695b671138"
      },
      "execution_count": 65,
      "outputs": [
        {
          "output_type": "stream",
          "name": "stdout",
          "text": [
            "card_payment_fee_charged                            167\n",
            "direct_debit_payment_not_recognised                 162\n",
            "balance_not_updated_after_cheque_or_cash_deposit    162\n",
            "wrong_amount_of_cash_received                       160\n",
            "transaction_charged_twice                           158\n",
            "                                                   ... \n",
            "lost_or_stolen_card                                  66\n",
            "card_acceptance                                      47\n",
            "card_swallowed                                       45\n",
            "virtual_card_not_working                             32\n",
            "contactless_not_working                              30\n",
            "Name: intent, Length: 77, dtype: int64\n"
          ]
        },
        {
          "output_type": "execute_result",
          "data": {
            "text/plain": [
              "'\\n\\nTHIS SHOWS THE SENTENCES PER INTENT ARE IMBALANCED.\\n\\nTOTAL OF 77 INTENT CLASSES\\n\\n'"
            ],
            "application/vnd.google.colaboratory.intrinsic+json": {
              "type": "string"
            }
          },
          "metadata": {},
          "execution_count": 65
        }
      ]
    },
    {
      "cell_type": "code",
      "source": [
        "utterances.info()"
      ],
      "metadata": {
        "colab": {
          "base_uri": "https://localhost:8080/"
        },
        "id": "V1Adofg526Qp",
        "outputId": "159fa80b-c047-490c-ee63-9e6cfd274d4e"
      },
      "execution_count": 66,
      "outputs": [
        {
          "output_type": "stream",
          "name": "stdout",
          "text": [
            "<class 'pandas.core.frame.DataFrame'>\n",
            "Int64Index: 8618 entries, 0 to 8621\n",
            "Data columns (total 2 columns):\n",
            " #   Column     Non-Null Count  Dtype \n",
            "---  ------     --------------  ----- \n",
            " 0   utterance  8618 non-null   object\n",
            " 1   intent     8618 non-null   object\n",
            "dtypes: object(2)\n",
            "memory usage: 202.0+ KB\n"
          ]
        }
      ]
    },
    {
      "cell_type": "code",
      "source": [
        "utterances.describe()"
      ],
      "metadata": {
        "colab": {
          "base_uri": "https://localhost:8080/",
          "height": 175
        },
        "id": "e-kuT6Jp6f6i",
        "outputId": "968e958d-9c71-4202-edbd-5e67be9d772b"
      },
      "execution_count": 67,
      "outputs": [
        {
          "output_type": "execute_result",
          "data": {
            "text/plain": [
              "                             utterance                    intent\n",
              "count                             8618                      8618\n",
              "unique                            8618                        77\n",
              "top     i am still waiting on my card?  card_payment_fee_charged\n",
              "freq                                 1                       167"
            ],
            "text/html": [
              "\n",
              "  <div id=\"df-218e1d14-fd29-40b3-b8ae-a22d7e53be0c\">\n",
              "    <div class=\"colab-df-container\">\n",
              "      <div>\n",
              "<style scoped>\n",
              "    .dataframe tbody tr th:only-of-type {\n",
              "        vertical-align: middle;\n",
              "    }\n",
              "\n",
              "    .dataframe tbody tr th {\n",
              "        vertical-align: top;\n",
              "    }\n",
              "\n",
              "    .dataframe thead th {\n",
              "        text-align: right;\n",
              "    }\n",
              "</style>\n",
              "<table border=\"1\" class=\"dataframe\">\n",
              "  <thead>\n",
              "    <tr style=\"text-align: right;\">\n",
              "      <th></th>\n",
              "      <th>utterance</th>\n",
              "      <th>intent</th>\n",
              "    </tr>\n",
              "  </thead>\n",
              "  <tbody>\n",
              "    <tr>\n",
              "      <th>count</th>\n",
              "      <td>8618</td>\n",
              "      <td>8618</td>\n",
              "    </tr>\n",
              "    <tr>\n",
              "      <th>unique</th>\n",
              "      <td>8618</td>\n",
              "      <td>77</td>\n",
              "    </tr>\n",
              "    <tr>\n",
              "      <th>top</th>\n",
              "      <td>i am still waiting on my card?</td>\n",
              "      <td>card_payment_fee_charged</td>\n",
              "    </tr>\n",
              "    <tr>\n",
              "      <th>freq</th>\n",
              "      <td>1</td>\n",
              "      <td>167</td>\n",
              "    </tr>\n",
              "  </tbody>\n",
              "</table>\n",
              "</div>\n",
              "      <button class=\"colab-df-convert\" onclick=\"convertToInteractive('df-218e1d14-fd29-40b3-b8ae-a22d7e53be0c')\"\n",
              "              title=\"Convert this dataframe to an interactive table.\"\n",
              "              style=\"display:none;\">\n",
              "        \n",
              "  <svg xmlns=\"http://www.w3.org/2000/svg\" height=\"24px\"viewBox=\"0 0 24 24\"\n",
              "       width=\"24px\">\n",
              "    <path d=\"M0 0h24v24H0V0z\" fill=\"none\"/>\n",
              "    <path d=\"M18.56 5.44l.94 2.06.94-2.06 2.06-.94-2.06-.94-.94-2.06-.94 2.06-2.06.94zm-11 1L8.5 8.5l.94-2.06 2.06-.94-2.06-.94L8.5 2.5l-.94 2.06-2.06.94zm10 10l.94 2.06.94-2.06 2.06-.94-2.06-.94-.94-2.06-.94 2.06-2.06.94z\"/><path d=\"M17.41 7.96l-1.37-1.37c-.4-.4-.92-.59-1.43-.59-.52 0-1.04.2-1.43.59L10.3 9.45l-7.72 7.72c-.78.78-.78 2.05 0 2.83L4 21.41c.39.39.9.59 1.41.59.51 0 1.02-.2 1.41-.59l7.78-7.78 2.81-2.81c.8-.78.8-2.07 0-2.86zM5.41 20L4 18.59l7.72-7.72 1.47 1.35L5.41 20z\"/>\n",
              "  </svg>\n",
              "      </button>\n",
              "      \n",
              "  <style>\n",
              "    .colab-df-container {\n",
              "      display:flex;\n",
              "      flex-wrap:wrap;\n",
              "      gap: 12px;\n",
              "    }\n",
              "\n",
              "    .colab-df-convert {\n",
              "      background-color: #E8F0FE;\n",
              "      border: none;\n",
              "      border-radius: 50%;\n",
              "      cursor: pointer;\n",
              "      display: none;\n",
              "      fill: #1967D2;\n",
              "      height: 32px;\n",
              "      padding: 0 0 0 0;\n",
              "      width: 32px;\n",
              "    }\n",
              "\n",
              "    .colab-df-convert:hover {\n",
              "      background-color: #E2EBFA;\n",
              "      box-shadow: 0px 1px 2px rgba(60, 64, 67, 0.3), 0px 1px 3px 1px rgba(60, 64, 67, 0.15);\n",
              "      fill: #174EA6;\n",
              "    }\n",
              "\n",
              "    [theme=dark] .colab-df-convert {\n",
              "      background-color: #3B4455;\n",
              "      fill: #D2E3FC;\n",
              "    }\n",
              "\n",
              "    [theme=dark] .colab-df-convert:hover {\n",
              "      background-color: #434B5C;\n",
              "      box-shadow: 0px 1px 3px 1px rgba(0, 0, 0, 0.15);\n",
              "      filter: drop-shadow(0px 1px 2px rgba(0, 0, 0, 0.3));\n",
              "      fill: #FFFFFF;\n",
              "    }\n",
              "  </style>\n",
              "\n",
              "      <script>\n",
              "        const buttonEl =\n",
              "          document.querySelector('#df-218e1d14-fd29-40b3-b8ae-a22d7e53be0c button.colab-df-convert');\n",
              "        buttonEl.style.display =\n",
              "          google.colab.kernel.accessAllowed ? 'block' : 'none';\n",
              "\n",
              "        async function convertToInteractive(key) {\n",
              "          const element = document.querySelector('#df-218e1d14-fd29-40b3-b8ae-a22d7e53be0c');\n",
              "          const dataTable =\n",
              "            await google.colab.kernel.invokeFunction('convertToInteractive',\n",
              "                                                     [key], {});\n",
              "          if (!dataTable) return;\n",
              "\n",
              "          const docLinkHtml = 'Like what you see? Visit the ' +\n",
              "            '<a target=\"_blank\" href=https://colab.research.google.com/notebooks/data_table.ipynb>data table notebook</a>'\n",
              "            + ' to learn more about interactive tables.';\n",
              "          element.innerHTML = '';\n",
              "          dataTable['output_type'] = 'display_data';\n",
              "          await google.colab.output.renderOutput(dataTable, element);\n",
              "          const docLink = document.createElement('div');\n",
              "          docLink.innerHTML = docLinkHtml;\n",
              "          element.appendChild(docLink);\n",
              "        }\n",
              "      </script>\n",
              "    </div>\n",
              "  </div>\n",
              "  "
            ]
          },
          "metadata": {},
          "execution_count": 67
        }
      ]
    },
    {
      "cell_type": "code",
      "source": [
        "\"\"\"\n",
        "\n",
        "Few samples of the dataset.\n",
        "\n",
        "\"\"\"\n",
        "\n",
        "utterances.head()"
      ],
      "metadata": {
        "colab": {
          "base_uri": "https://localhost:8080/",
          "height": 206
        },
        "id": "ujIcPPXO3WD7",
        "outputId": "7cea9c80-edd7-43a7-be52-f26d217e1993"
      },
      "execution_count": 68,
      "outputs": [
        {
          "output_type": "execute_result",
          "data": {
            "text/plain": [
              "                                           utterance        intent\n",
              "0                     i am still waiting on my card?  card_arrival\n",
              "1  what can i do if my card still hasn't arrived ...  card_arrival\n",
              "2  i have been waiting over a week. is the card s...  card_arrival\n",
              "3  can i track my card while it is in the process...  card_arrival\n",
              "4  how do i know if i will get my card, or if it ...  card_arrival"
            ],
            "text/html": [
              "\n",
              "  <div id=\"df-577e4d9b-ffc0-4a2a-bbb7-8a413f0ae977\">\n",
              "    <div class=\"colab-df-container\">\n",
              "      <div>\n",
              "<style scoped>\n",
              "    .dataframe tbody tr th:only-of-type {\n",
              "        vertical-align: middle;\n",
              "    }\n",
              "\n",
              "    .dataframe tbody tr th {\n",
              "        vertical-align: top;\n",
              "    }\n",
              "\n",
              "    .dataframe thead th {\n",
              "        text-align: right;\n",
              "    }\n",
              "</style>\n",
              "<table border=\"1\" class=\"dataframe\">\n",
              "  <thead>\n",
              "    <tr style=\"text-align: right;\">\n",
              "      <th></th>\n",
              "      <th>utterance</th>\n",
              "      <th>intent</th>\n",
              "    </tr>\n",
              "  </thead>\n",
              "  <tbody>\n",
              "    <tr>\n",
              "      <th>0</th>\n",
              "      <td>i am still waiting on my card?</td>\n",
              "      <td>card_arrival</td>\n",
              "    </tr>\n",
              "    <tr>\n",
              "      <th>1</th>\n",
              "      <td>what can i do if my card still hasn't arrived ...</td>\n",
              "      <td>card_arrival</td>\n",
              "    </tr>\n",
              "    <tr>\n",
              "      <th>2</th>\n",
              "      <td>i have been waiting over a week. is the card s...</td>\n",
              "      <td>card_arrival</td>\n",
              "    </tr>\n",
              "    <tr>\n",
              "      <th>3</th>\n",
              "      <td>can i track my card while it is in the process...</td>\n",
              "      <td>card_arrival</td>\n",
              "    </tr>\n",
              "    <tr>\n",
              "      <th>4</th>\n",
              "      <td>how do i know if i will get my card, or if it ...</td>\n",
              "      <td>card_arrival</td>\n",
              "    </tr>\n",
              "  </tbody>\n",
              "</table>\n",
              "</div>\n",
              "      <button class=\"colab-df-convert\" onclick=\"convertToInteractive('df-577e4d9b-ffc0-4a2a-bbb7-8a413f0ae977')\"\n",
              "              title=\"Convert this dataframe to an interactive table.\"\n",
              "              style=\"display:none;\">\n",
              "        \n",
              "  <svg xmlns=\"http://www.w3.org/2000/svg\" height=\"24px\"viewBox=\"0 0 24 24\"\n",
              "       width=\"24px\">\n",
              "    <path d=\"M0 0h24v24H0V0z\" fill=\"none\"/>\n",
              "    <path d=\"M18.56 5.44l.94 2.06.94-2.06 2.06-.94-2.06-.94-.94-2.06-.94 2.06-2.06.94zm-11 1L8.5 8.5l.94-2.06 2.06-.94-2.06-.94L8.5 2.5l-.94 2.06-2.06.94zm10 10l.94 2.06.94-2.06 2.06-.94-2.06-.94-.94-2.06-.94 2.06-2.06.94z\"/><path d=\"M17.41 7.96l-1.37-1.37c-.4-.4-.92-.59-1.43-.59-.52 0-1.04.2-1.43.59L10.3 9.45l-7.72 7.72c-.78.78-.78 2.05 0 2.83L4 21.41c.39.39.9.59 1.41.59.51 0 1.02-.2 1.41-.59l7.78-7.78 2.81-2.81c.8-.78.8-2.07 0-2.86zM5.41 20L4 18.59l7.72-7.72 1.47 1.35L5.41 20z\"/>\n",
              "  </svg>\n",
              "      </button>\n",
              "      \n",
              "  <style>\n",
              "    .colab-df-container {\n",
              "      display:flex;\n",
              "      flex-wrap:wrap;\n",
              "      gap: 12px;\n",
              "    }\n",
              "\n",
              "    .colab-df-convert {\n",
              "      background-color: #E8F0FE;\n",
              "      border: none;\n",
              "      border-radius: 50%;\n",
              "      cursor: pointer;\n",
              "      display: none;\n",
              "      fill: #1967D2;\n",
              "      height: 32px;\n",
              "      padding: 0 0 0 0;\n",
              "      width: 32px;\n",
              "    }\n",
              "\n",
              "    .colab-df-convert:hover {\n",
              "      background-color: #E2EBFA;\n",
              "      box-shadow: 0px 1px 2px rgba(60, 64, 67, 0.3), 0px 1px 3px 1px rgba(60, 64, 67, 0.15);\n",
              "      fill: #174EA6;\n",
              "    }\n",
              "\n",
              "    [theme=dark] .colab-df-convert {\n",
              "      background-color: #3B4455;\n",
              "      fill: #D2E3FC;\n",
              "    }\n",
              "\n",
              "    [theme=dark] .colab-df-convert:hover {\n",
              "      background-color: #434B5C;\n",
              "      box-shadow: 0px 1px 3px 1px rgba(0, 0, 0, 0.15);\n",
              "      filter: drop-shadow(0px 1px 2px rgba(0, 0, 0, 0.3));\n",
              "      fill: #FFFFFF;\n",
              "    }\n",
              "  </style>\n",
              "\n",
              "      <script>\n",
              "        const buttonEl =\n",
              "          document.querySelector('#df-577e4d9b-ffc0-4a2a-bbb7-8a413f0ae977 button.colab-df-convert');\n",
              "        buttonEl.style.display =\n",
              "          google.colab.kernel.accessAllowed ? 'block' : 'none';\n",
              "\n",
              "        async function convertToInteractive(key) {\n",
              "          const element = document.querySelector('#df-577e4d9b-ffc0-4a2a-bbb7-8a413f0ae977');\n",
              "          const dataTable =\n",
              "            await google.colab.kernel.invokeFunction('convertToInteractive',\n",
              "                                                     [key], {});\n",
              "          if (!dataTable) return;\n",
              "\n",
              "          const docLinkHtml = 'Like what you see? Visit the ' +\n",
              "            '<a target=\"_blank\" href=https://colab.research.google.com/notebooks/data_table.ipynb>data table notebook</a>'\n",
              "            + ' to learn more about interactive tables.';\n",
              "          element.innerHTML = '';\n",
              "          dataTable['output_type'] = 'display_data';\n",
              "          await google.colab.output.renderOutput(dataTable, element);\n",
              "          const docLink = document.createElement('div');\n",
              "          docLink.innerHTML = docLinkHtml;\n",
              "          element.appendChild(docLink);\n",
              "        }\n",
              "      </script>\n",
              "    </div>\n",
              "  </div>\n",
              "  "
            ]
          },
          "metadata": {},
          "execution_count": 68
        }
      ]
    },
    {
      "cell_type": "code",
      "source": [
        "utterances.groupby('intent').describe()"
      ],
      "metadata": {
        "colab": {
          "base_uri": "https://localhost:8080/",
          "height": 486
        },
        "id": "5SOeIqpq7JC5",
        "outputId": "3d6893e3-61de-4c1e-e7fe-a907fa353314"
      },
      "execution_count": 69,
      "outputs": [
        {
          "output_type": "execute_result",
          "data": {
            "text/plain": [
              "                                        utterance         \\\n",
              "                                            count unique   \n",
              "intent                                                     \n",
              "Refund_not_showing_up                         143    143   \n",
              "activate_my_card                              141    141   \n",
              "age_limit                                      92     92   \n",
              "apple_pay_or_google_pay                       108    108   \n",
              "atm_support                                    68     68   \n",
              "...                                           ...    ...   \n",
              "virtual_card_not_working                       32     32   \n",
              "visa_or_mastercard                            115    115   \n",
              "why_verify_identity                           102    102   \n",
              "wrong_amount_of_cash_received                 160    160   \n",
              "wrong_exchange_rate_for_cash_withdrawal       145    145   \n",
              "\n",
              "                                                                                            \\\n",
              "                                                                                       top   \n",
              "intent                                                                                       \n",
              "Refund_not_showing_up                    i don't see my refund money yet in my account....   \n",
              "activate_my_card                          please help me with my card.  it won't activate.   \n",
              "age_limit                                how old do you need to be to use the banks ser...   \n",
              "apple_pay_or_google_pay                  hi, i have an apple watch. how do i use it to ...   \n",
              "atm_support                                             i can use this card at which atms?   \n",
              "...                                                                                    ...   \n",
              "virtual_card_not_working                     why isn't my disposable virtual card working?   \n",
              "visa_or_mastercard                                 is there a way i can have a mastercard?   \n",
              "why_verify_identity                                     why do you have an identity check?   \n",
              "wrong_amount_of_cash_received            why did i only receive a partial amount of wha...   \n",
              "wrong_exchange_rate_for_cash_withdrawal  the wrong exchange rate was applied to me whil...   \n",
              "\n",
              "                                              \n",
              "                                        freq  \n",
              "intent                                        \n",
              "Refund_not_showing_up                      1  \n",
              "activate_my_card                           1  \n",
              "age_limit                                  1  \n",
              "apple_pay_or_google_pay                    1  \n",
              "atm_support                                1  \n",
              "...                                      ...  \n",
              "virtual_card_not_working                   1  \n",
              "visa_or_mastercard                         1  \n",
              "why_verify_identity                        1  \n",
              "wrong_amount_of_cash_received              1  \n",
              "wrong_exchange_rate_for_cash_withdrawal    1  \n",
              "\n",
              "[77 rows x 4 columns]"
            ],
            "text/html": [
              "\n",
              "  <div id=\"df-f3c412b6-b950-430b-a235-d5133413df02\">\n",
              "    <div class=\"colab-df-container\">\n",
              "      <div>\n",
              "<style scoped>\n",
              "    .dataframe tbody tr th:only-of-type {\n",
              "        vertical-align: middle;\n",
              "    }\n",
              "\n",
              "    .dataframe tbody tr th {\n",
              "        vertical-align: top;\n",
              "    }\n",
              "\n",
              "    .dataframe thead tr th {\n",
              "        text-align: left;\n",
              "    }\n",
              "\n",
              "    .dataframe thead tr:last-of-type th {\n",
              "        text-align: right;\n",
              "    }\n",
              "</style>\n",
              "<table border=\"1\" class=\"dataframe\">\n",
              "  <thead>\n",
              "    <tr>\n",
              "      <th></th>\n",
              "      <th colspan=\"4\" halign=\"left\">utterance</th>\n",
              "    </tr>\n",
              "    <tr>\n",
              "      <th></th>\n",
              "      <th>count</th>\n",
              "      <th>unique</th>\n",
              "      <th>top</th>\n",
              "      <th>freq</th>\n",
              "    </tr>\n",
              "    <tr>\n",
              "      <th>intent</th>\n",
              "      <th></th>\n",
              "      <th></th>\n",
              "      <th></th>\n",
              "      <th></th>\n",
              "    </tr>\n",
              "  </thead>\n",
              "  <tbody>\n",
              "    <tr>\n",
              "      <th>Refund_not_showing_up</th>\n",
              "      <td>143</td>\n",
              "      <td>143</td>\n",
              "      <td>i don't see my refund money yet in my account....</td>\n",
              "      <td>1</td>\n",
              "    </tr>\n",
              "    <tr>\n",
              "      <th>activate_my_card</th>\n",
              "      <td>141</td>\n",
              "      <td>141</td>\n",
              "      <td>please help me with my card.  it won't activate.</td>\n",
              "      <td>1</td>\n",
              "    </tr>\n",
              "    <tr>\n",
              "      <th>age_limit</th>\n",
              "      <td>92</td>\n",
              "      <td>92</td>\n",
              "      <td>how old do you need to be to use the banks ser...</td>\n",
              "      <td>1</td>\n",
              "    </tr>\n",
              "    <tr>\n",
              "      <th>apple_pay_or_google_pay</th>\n",
              "      <td>108</td>\n",
              "      <td>108</td>\n",
              "      <td>hi, i have an apple watch. how do i use it to ...</td>\n",
              "      <td>1</td>\n",
              "    </tr>\n",
              "    <tr>\n",
              "      <th>atm_support</th>\n",
              "      <td>68</td>\n",
              "      <td>68</td>\n",
              "      <td>i can use this card at which atms?</td>\n",
              "      <td>1</td>\n",
              "    </tr>\n",
              "    <tr>\n",
              "      <th>...</th>\n",
              "      <td>...</td>\n",
              "      <td>...</td>\n",
              "      <td>...</td>\n",
              "      <td>...</td>\n",
              "    </tr>\n",
              "    <tr>\n",
              "      <th>virtual_card_not_working</th>\n",
              "      <td>32</td>\n",
              "      <td>32</td>\n",
              "      <td>why isn't my disposable virtual card working?</td>\n",
              "      <td>1</td>\n",
              "    </tr>\n",
              "    <tr>\n",
              "      <th>visa_or_mastercard</th>\n",
              "      <td>115</td>\n",
              "      <td>115</td>\n",
              "      <td>is there a way i can have a mastercard?</td>\n",
              "      <td>1</td>\n",
              "    </tr>\n",
              "    <tr>\n",
              "      <th>why_verify_identity</th>\n",
              "      <td>102</td>\n",
              "      <td>102</td>\n",
              "      <td>why do you have an identity check?</td>\n",
              "      <td>1</td>\n",
              "    </tr>\n",
              "    <tr>\n",
              "      <th>wrong_amount_of_cash_received</th>\n",
              "      <td>160</td>\n",
              "      <td>160</td>\n",
              "      <td>why did i only receive a partial amount of wha...</td>\n",
              "      <td>1</td>\n",
              "    </tr>\n",
              "    <tr>\n",
              "      <th>wrong_exchange_rate_for_cash_withdrawal</th>\n",
              "      <td>145</td>\n",
              "      <td>145</td>\n",
              "      <td>the wrong exchange rate was applied to me whil...</td>\n",
              "      <td>1</td>\n",
              "    </tr>\n",
              "  </tbody>\n",
              "</table>\n",
              "<p>77 rows × 4 columns</p>\n",
              "</div>\n",
              "      <button class=\"colab-df-convert\" onclick=\"convertToInteractive('df-f3c412b6-b950-430b-a235-d5133413df02')\"\n",
              "              title=\"Convert this dataframe to an interactive table.\"\n",
              "              style=\"display:none;\">\n",
              "        \n",
              "  <svg xmlns=\"http://www.w3.org/2000/svg\" height=\"24px\"viewBox=\"0 0 24 24\"\n",
              "       width=\"24px\">\n",
              "    <path d=\"M0 0h24v24H0V0z\" fill=\"none\"/>\n",
              "    <path d=\"M18.56 5.44l.94 2.06.94-2.06 2.06-.94-2.06-.94-.94-2.06-.94 2.06-2.06.94zm-11 1L8.5 8.5l.94-2.06 2.06-.94-2.06-.94L8.5 2.5l-.94 2.06-2.06.94zm10 10l.94 2.06.94-2.06 2.06-.94-2.06-.94-.94-2.06-.94 2.06-2.06.94z\"/><path d=\"M17.41 7.96l-1.37-1.37c-.4-.4-.92-.59-1.43-.59-.52 0-1.04.2-1.43.59L10.3 9.45l-7.72 7.72c-.78.78-.78 2.05 0 2.83L4 21.41c.39.39.9.59 1.41.59.51 0 1.02-.2 1.41-.59l7.78-7.78 2.81-2.81c.8-.78.8-2.07 0-2.86zM5.41 20L4 18.59l7.72-7.72 1.47 1.35L5.41 20z\"/>\n",
              "  </svg>\n",
              "      </button>\n",
              "      \n",
              "  <style>\n",
              "    .colab-df-container {\n",
              "      display:flex;\n",
              "      flex-wrap:wrap;\n",
              "      gap: 12px;\n",
              "    }\n",
              "\n",
              "    .colab-df-convert {\n",
              "      background-color: #E8F0FE;\n",
              "      border: none;\n",
              "      border-radius: 50%;\n",
              "      cursor: pointer;\n",
              "      display: none;\n",
              "      fill: #1967D2;\n",
              "      height: 32px;\n",
              "      padding: 0 0 0 0;\n",
              "      width: 32px;\n",
              "    }\n",
              "\n",
              "    .colab-df-convert:hover {\n",
              "      background-color: #E2EBFA;\n",
              "      box-shadow: 0px 1px 2px rgba(60, 64, 67, 0.3), 0px 1px 3px 1px rgba(60, 64, 67, 0.15);\n",
              "      fill: #174EA6;\n",
              "    }\n",
              "\n",
              "    [theme=dark] .colab-df-convert {\n",
              "      background-color: #3B4455;\n",
              "      fill: #D2E3FC;\n",
              "    }\n",
              "\n",
              "    [theme=dark] .colab-df-convert:hover {\n",
              "      background-color: #434B5C;\n",
              "      box-shadow: 0px 1px 3px 1px rgba(0, 0, 0, 0.15);\n",
              "      filter: drop-shadow(0px 1px 2px rgba(0, 0, 0, 0.3));\n",
              "      fill: #FFFFFF;\n",
              "    }\n",
              "  </style>\n",
              "\n",
              "      <script>\n",
              "        const buttonEl =\n",
              "          document.querySelector('#df-f3c412b6-b950-430b-a235-d5133413df02 button.colab-df-convert');\n",
              "        buttonEl.style.display =\n",
              "          google.colab.kernel.accessAllowed ? 'block' : 'none';\n",
              "\n",
              "        async function convertToInteractive(key) {\n",
              "          const element = document.querySelector('#df-f3c412b6-b950-430b-a235-d5133413df02');\n",
              "          const dataTable =\n",
              "            await google.colab.kernel.invokeFunction('convertToInteractive',\n",
              "                                                     [key], {});\n",
              "          if (!dataTable) return;\n",
              "\n",
              "          const docLinkHtml = 'Like what you see? Visit the ' +\n",
              "            '<a target=\"_blank\" href=https://colab.research.google.com/notebooks/data_table.ipynb>data table notebook</a>'\n",
              "            + ' to learn more about interactive tables.';\n",
              "          element.innerHTML = '';\n",
              "          dataTable['output_type'] = 'display_data';\n",
              "          await google.colab.output.renderOutput(dataTable, element);\n",
              "          const docLink = document.createElement('div');\n",
              "          docLink.innerHTML = docLinkHtml;\n",
              "          element.appendChild(docLink);\n",
              "        }\n",
              "      </script>\n",
              "    </div>\n",
              "  </div>\n",
              "  "
            ]
          },
          "metadata": {},
          "execution_count": 69
        }
      ]
    },
    {
      "cell_type": "code",
      "source": [
        "#Look for missing intents\n",
        "utterances['intent'].isnull().sum()"
      ],
      "metadata": {
        "colab": {
          "base_uri": "https://localhost:8080/"
        },
        "id": "9uCJzraI7cJN",
        "outputId": "855f11b8-df68-48c7-ad4c-b0120f608e56"
      },
      "execution_count": 70,
      "outputs": [
        {
          "output_type": "execute_result",
          "data": {
            "text/plain": [
              "0"
            ]
          },
          "metadata": {},
          "execution_count": 70
        }
      ]
    },
    {
      "cell_type": "markdown",
      "source": [
        "### Data Pre-processing.\n",
        "- Spelling correction.\n",
        "- Remove Punctuation.\n",
        "- Remove stop words.\n",
        "- Tokenization.\n",
        "- Lemmatization.\n"
      ],
      "metadata": {
        "id": "imPvzQxJuvlJ"
      }
    },
    {
      "cell_type": "code",
      "source": [
        "! pip install -U symspellpy"
      ],
      "metadata": {
        "colab": {
          "base_uri": "https://localhost:8080/"
        },
        "id": "pp4M69_7cCDx",
        "outputId": "1b96ee16-6c6a-4db7-8dc2-56f532697710"
      },
      "execution_count": 71,
      "outputs": [
        {
          "output_type": "stream",
          "name": "stdout",
          "text": [
            "Looking in indexes: https://pypi.org/simple, https://us-python.pkg.dev/colab-wheels/public/simple/\n",
            "Requirement already satisfied: symspellpy in /usr/local/lib/python3.8/dist-packages (6.7.7)\n",
            "Requirement already satisfied: editdistpy>=0.1.3 in /usr/local/lib/python3.8/dist-packages (from symspellpy) (0.1.3)\n"
          ]
        }
      ]
    },
    {
      "cell_type": "code",
      "source": [
        "\"\"\"\n",
        "\n",
        "Spelling correction using Symspell.\n",
        "\n",
        "\n",
        "\"\"\"\n",
        "from symspellpy import SymSpell\n",
        "import pkg_resources\n",
        "from itertools import islice\n",
        "\n",
        "sym_spell = SymSpell(max_dictionary_edit_distance=2, prefix_length=7)\n",
        "\n",
        "dictionary_path = pkg_resources.resource_filename(\"symspellpy\", \"frequency_dictionary_en_82_765.txt\")\n",
        "bigram_path = pkg_resources.resource_filename(\"symspellpy\", \"frequency_bigramdictionary_en_243_342.txt\")\n",
        "\n",
        "# term_index is the column of the term and count_index is the\n",
        "# column of the term frequency\n",
        "sym_spell.load_dictionary(dictionary_path, term_index=0, count_index=1)\n",
        "sym_spell.load_bigram_dictionary(bigram_path, term_index=0, count_index=2)\n",
        "\n",
        "# Print out first 5 elements to demonstrate that dictionary is\n",
        "# successfully loaded\n",
        "print(list(islice(sym_spell.bigrams.items(), 5)))\n",
        "print(list(islice(sym_spell.words.items(), 5)))\n",
        "\n",
        "# lookup suggestions for multi-word input strings (supports compound\n",
        "# splitting & merging)\n",
        "input_term = (\n",
        "    \"how do i loacte my card?\"\n",
        ")\n",
        "# max edit distance per lookup (per single word, not per whole input string)\n",
        "suggestions = sym_spell.lookup_compound(input_term, max_edit_distance=2)\n",
        "# display suggestion term, edit distance, and term frequency\n",
        "for suggestion in suggestions:\n",
        "    print(suggestion)\n",
        "\n",
        "def correction(input_term, max_edit_distance=2):\n",
        "  suggestions = sym_spell.lookup_compound(input_term, max_edit_distance=2)\n",
        "  #for suggestion in suggestions:\n",
        "  #  print(suggestion.term)\n",
        "  return suggestions[0].term"
      ],
      "metadata": {
        "id": "WAhixI0Ev7HQ",
        "colab": {
          "base_uri": "https://localhost:8080/"
        },
        "outputId": "9c411809-7d7b-4c39-93a9-bc031890f6a0"
      },
      "execution_count": 72,
      "outputs": [
        {
          "output_type": "stream",
          "name": "stdout",
          "text": [
            "[('abcs of', 10956800), ('aaron and', 10721728), ('abbott and', 7861376), ('abbreviations and', 13518272), ('aberdeen and', 7347776)]\n",
            "[('the', 23135851162), ('of', 13151942776), ('and', 12997637966), ('to', 12136980858), ('a', 9081174698)]\n",
            "how do i locate my card, 2, 0\n"
          ]
        }
      ]
    },
    {
      "cell_type": "code",
      "source": [
        "# call the function\n",
        "\n",
        "corrected_utterances = []\n",
        "\n",
        "for t in utterances['utterance']:\n",
        "    corrected_utterances.append(correction(t)) \n",
        "\n",
        "corrected_utterances[:5]\n",
        "utterances['utterance'] = corrected_utterances\n",
        "utterances.head()"
      ],
      "metadata": {
        "colab": {
          "base_uri": "https://localhost:8080/",
          "height": 206
        },
        "id": "6sFNsLvX3r88",
        "outputId": "174b3450-f0f1-4262-8c7a-37adf849014e"
      },
      "execution_count": 73,
      "outputs": [
        {
          "output_type": "execute_result",
          "data": {
            "text/plain": [
              "                                           utterance        intent\n",
              "0                      i am still waiting on my card  card_arrival\n",
              "1  what can i do if my card still hasn't arrived ...  card_arrival\n",
              "2  i have been waiting over a week is the card st...  card_arrival\n",
              "3  can i track my card while it is in the process...  card_arrival\n",
              "4  how do i know if i will get my card or if it i...  card_arrival"
            ],
            "text/html": [
              "\n",
              "  <div id=\"df-a5f95ae8-49d3-448a-95f1-9bcd61fbbc9c\">\n",
              "    <div class=\"colab-df-container\">\n",
              "      <div>\n",
              "<style scoped>\n",
              "    .dataframe tbody tr th:only-of-type {\n",
              "        vertical-align: middle;\n",
              "    }\n",
              "\n",
              "    .dataframe tbody tr th {\n",
              "        vertical-align: top;\n",
              "    }\n",
              "\n",
              "    .dataframe thead th {\n",
              "        text-align: right;\n",
              "    }\n",
              "</style>\n",
              "<table border=\"1\" class=\"dataframe\">\n",
              "  <thead>\n",
              "    <tr style=\"text-align: right;\">\n",
              "      <th></th>\n",
              "      <th>utterance</th>\n",
              "      <th>intent</th>\n",
              "    </tr>\n",
              "  </thead>\n",
              "  <tbody>\n",
              "    <tr>\n",
              "      <th>0</th>\n",
              "      <td>i am still waiting on my card</td>\n",
              "      <td>card_arrival</td>\n",
              "    </tr>\n",
              "    <tr>\n",
              "      <th>1</th>\n",
              "      <td>what can i do if my card still hasn't arrived ...</td>\n",
              "      <td>card_arrival</td>\n",
              "    </tr>\n",
              "    <tr>\n",
              "      <th>2</th>\n",
              "      <td>i have been waiting over a week is the card st...</td>\n",
              "      <td>card_arrival</td>\n",
              "    </tr>\n",
              "    <tr>\n",
              "      <th>3</th>\n",
              "      <td>can i track my card while it is in the process...</td>\n",
              "      <td>card_arrival</td>\n",
              "    </tr>\n",
              "    <tr>\n",
              "      <th>4</th>\n",
              "      <td>how do i know if i will get my card or if it i...</td>\n",
              "      <td>card_arrival</td>\n",
              "    </tr>\n",
              "  </tbody>\n",
              "</table>\n",
              "</div>\n",
              "      <button class=\"colab-df-convert\" onclick=\"convertToInteractive('df-a5f95ae8-49d3-448a-95f1-9bcd61fbbc9c')\"\n",
              "              title=\"Convert this dataframe to an interactive table.\"\n",
              "              style=\"display:none;\">\n",
              "        \n",
              "  <svg xmlns=\"http://www.w3.org/2000/svg\" height=\"24px\"viewBox=\"0 0 24 24\"\n",
              "       width=\"24px\">\n",
              "    <path d=\"M0 0h24v24H0V0z\" fill=\"none\"/>\n",
              "    <path d=\"M18.56 5.44l.94 2.06.94-2.06 2.06-.94-2.06-.94-.94-2.06-.94 2.06-2.06.94zm-11 1L8.5 8.5l.94-2.06 2.06-.94-2.06-.94L8.5 2.5l-.94 2.06-2.06.94zm10 10l.94 2.06.94-2.06 2.06-.94-2.06-.94-.94-2.06-.94 2.06-2.06.94z\"/><path d=\"M17.41 7.96l-1.37-1.37c-.4-.4-.92-.59-1.43-.59-.52 0-1.04.2-1.43.59L10.3 9.45l-7.72 7.72c-.78.78-.78 2.05 0 2.83L4 21.41c.39.39.9.59 1.41.59.51 0 1.02-.2 1.41-.59l7.78-7.78 2.81-2.81c.8-.78.8-2.07 0-2.86zM5.41 20L4 18.59l7.72-7.72 1.47 1.35L5.41 20z\"/>\n",
              "  </svg>\n",
              "      </button>\n",
              "      \n",
              "  <style>\n",
              "    .colab-df-container {\n",
              "      display:flex;\n",
              "      flex-wrap:wrap;\n",
              "      gap: 12px;\n",
              "    }\n",
              "\n",
              "    .colab-df-convert {\n",
              "      background-color: #E8F0FE;\n",
              "      border: none;\n",
              "      border-radius: 50%;\n",
              "      cursor: pointer;\n",
              "      display: none;\n",
              "      fill: #1967D2;\n",
              "      height: 32px;\n",
              "      padding: 0 0 0 0;\n",
              "      width: 32px;\n",
              "    }\n",
              "\n",
              "    .colab-df-convert:hover {\n",
              "      background-color: #E2EBFA;\n",
              "      box-shadow: 0px 1px 2px rgba(60, 64, 67, 0.3), 0px 1px 3px 1px rgba(60, 64, 67, 0.15);\n",
              "      fill: #174EA6;\n",
              "    }\n",
              "\n",
              "    [theme=dark] .colab-df-convert {\n",
              "      background-color: #3B4455;\n",
              "      fill: #D2E3FC;\n",
              "    }\n",
              "\n",
              "    [theme=dark] .colab-df-convert:hover {\n",
              "      background-color: #434B5C;\n",
              "      box-shadow: 0px 1px 3px 1px rgba(0, 0, 0, 0.15);\n",
              "      filter: drop-shadow(0px 1px 2px rgba(0, 0, 0, 0.3));\n",
              "      fill: #FFFFFF;\n",
              "    }\n",
              "  </style>\n",
              "\n",
              "      <script>\n",
              "        const buttonEl =\n",
              "          document.querySelector('#df-a5f95ae8-49d3-448a-95f1-9bcd61fbbc9c button.colab-df-convert');\n",
              "        buttonEl.style.display =\n",
              "          google.colab.kernel.accessAllowed ? 'block' : 'none';\n",
              "\n",
              "        async function convertToInteractive(key) {\n",
              "          const element = document.querySelector('#df-a5f95ae8-49d3-448a-95f1-9bcd61fbbc9c');\n",
              "          const dataTable =\n",
              "            await google.colab.kernel.invokeFunction('convertToInteractive',\n",
              "                                                     [key], {});\n",
              "          if (!dataTable) return;\n",
              "\n",
              "          const docLinkHtml = 'Like what you see? Visit the ' +\n",
              "            '<a target=\"_blank\" href=https://colab.research.google.com/notebooks/data_table.ipynb>data table notebook</a>'\n",
              "            + ' to learn more about interactive tables.';\n",
              "          element.innerHTML = '';\n",
              "          dataTable['output_type'] = 'display_data';\n",
              "          await google.colab.output.renderOutput(dataTable, element);\n",
              "          const docLink = document.createElement('div');\n",
              "          docLink.innerHTML = docLinkHtml;\n",
              "          element.appendChild(docLink);\n",
              "        }\n",
              "      </script>\n",
              "    </div>\n",
              "  </div>\n",
              "  "
            ]
          },
          "metadata": {},
          "execution_count": 73
        }
      ]
    },
    {
      "cell_type": "code",
      "source": [
        "from nltk.corpus import stopwords\n",
        "import re\n",
        "\n",
        "import nltk\n",
        "nltk.download('stopwords')"
      ],
      "metadata": {
        "colab": {
          "base_uri": "https://localhost:8080/"
        },
        "id": "-YDEXs7y2ARt",
        "outputId": "c1021cd1-0dc7-4840-8341-bbffb1a8707a"
      },
      "execution_count": 74,
      "outputs": [
        {
          "output_type": "stream",
          "name": "stderr",
          "text": [
            "[nltk_data] Downloading package stopwords to /root/nltk_data...\n",
            "[nltk_data]   Package stopwords is already up-to-date!\n"
          ]
        },
        {
          "output_type": "execute_result",
          "data": {
            "text/plain": [
              "True"
            ]
          },
          "metadata": {},
          "execution_count": 74
        }
      ]
    },
    {
      "cell_type": "code",
      "source": [
        "contraction_mapping = {\"ain't\": \"is not\", \"aren't\": \"are not\",\"can't\": \"cannot\", \"'cause\": \"because\", \"could've\": \"could have\", \"couldn't\": \"could not\",\n",
        "                           \"didn't\": \"did not\",  \"doesn't\": \"does not\", \"don't\": \"do not\", \"hadn't\": \"had not\", \"hasn't\": \"has not\", \"haven't\": \"have not\",\n",
        "                           \"he'd\": \"he would\",\"he'll\": \"he will\", \"he's\": \"he is\", \"how'd\": \"how did\", \"how'd'y\": \"how do you\", \"how'll\": \"how will\", \"how's\": \"how is\",\n",
        "                           \"I'd\": \"I would\", \"I'd've\": \"I would have\", \"I'll\": \"I will\", \"I'll've\": \"I will have\",\"I'm\": \"I am\", \"I've\": \"I have\", \"i'd\": \"i would\",\n",
        "                           \"i'd've\": \"i would have\", \"i'll\": \"i will\",  \"i'll've\": \"i will have\",\"i'm\": \"i am\", \"i've\": \"i have\", \"isn't\": \"is not\", \"it'd\": \"it would\",\n",
        "                           \"it'd've\": \"it would have\", \"it'll\": \"it will\", \"it'll've\": \"it will have\",\"it's\": \"it is\", \"let's\": \"let us\", \"ma'am\": \"madam\",\n",
        "                           \"mayn't\": \"may not\", \"might've\": \"might have\",\"mightn't\": \"might not\",\"mightn't've\": \"might not have\", \"must've\": \"must have\",\n",
        "                           \"mustn't\": \"must not\", \"mustn't've\": \"must not have\", \"needn't\": \"need not\", \"needn't've\": \"need not have\",\"o'clock\": \"of the clock\",\n",
        "                           \"oughtn't\": \"ought not\", \"oughtn't've\": \"ought not have\", \"shan't\": \"shall not\", \"sha'n't\": \"shall not\", \"shan't've\": \"shall not have\",\n",
        "                           \"she'd\": \"she would\", \"she'd've\": \"she would have\", \"she'll\": \"she will\", \"she'll've\": \"she will have\", \"she's\": \"she is\",\n",
        "                           \"should've\": \"should have\", \"shouldn't\": \"should not\", \"shouldn't've\": \"should not have\", \"so've\": \"so have\",\"so's\": \"so as\",\n",
        "                           \"this's\": \"this is\",\"that'd\": \"that would\", \"that'd've\": \"that would have\", \"that's\": \"that is\", \"there'd\": \"there would\",\n",
        "                           \"there'd've\": \"there would have\", \"there's\": \"there is\", \"here's\": \"here is\",\"they'd\": \"they would\", \"they'd've\": \"they would have\",\n",
        "                           \"they'll\": \"they will\", \"they'll've\": \"they will have\", \"they're\": \"they are\", \"they've\": \"they have\", \"to've\": \"to have\",\n",
        "                           \"wasn't\": \"was not\", \"we'd\": \"we would\", \"we'd've\": \"we would have\", \"we'll\": \"we will\", \"we'll've\": \"we will have\", \"we're\": \"we are\",\n",
        "                           \"we've\": \"we have\", \"weren't\": \"were not\", \"what'll\": \"what will\", \"what'll've\": \"what will have\", \"what're\": \"what are\",\n",
        "                           \"what's\": \"what is\", \"what've\": \"what have\", \"when's\": \"when is\", \"when've\": \"when have\", \"where'd\": \"where did\", \"where's\": \"where is\",\n",
        "                           \"where've\": \"where have\", \"who'll\": \"who will\", \"who'll've\": \"who will have\", \"who's\": \"who is\", \"who've\": \"who have\",\n",
        "                           \"why's\": \"why is\", \"why've\": \"why have\", \"will've\": \"will have\", \"won't\": \"will not\", \"won't've\": \"will not have\",\n",
        "                           \"would've\": \"would have\", \"wouldn't\": \"would not\", \"wouldn't've\": \"would not have\", \"y'all\": \"you all\",\n",
        "                           \"y'all'd\": \"you all would\",\"y'all'd've\": \"you all would have\",\"y'all're\": \"you all are\",\"y'all've\": \"you all have\",\n",
        "                           \"you'd\": \"you would\", \"you'd've\": \"you would have\", \"you'll\": \"you will\", \"you'll've\": \"you will have\",\n",
        "                           \"you're\": \"you are\", \"you've\": \"you have\"}"
      ],
      "metadata": {
        "id": "u5gCpWP011Sm"
      },
      "execution_count": 75,
      "outputs": []
    },
    {
      "cell_type": "code",
      "source": [
        "stop_words = set(stopwords.words('english')) \n",
        "\n",
        "def text_cleaner(text):\n",
        "    newString = text.lower()\n",
        "    newString = re.sub(r'\\([^)]*\\)', '', newString)   # removing special characters\n",
        "    newString = re.sub('\"','', newString)              # removing '\"' \n",
        "    newString = ' '.join([contraction_mapping[t] if t in contraction_mapping else t for t in newString.split(\" \")])    # replacing slangs\n",
        "    newString = re.sub(r\"'s\\b\",\"\",newString)    # replacing 's with \"\" '\n",
        "    newString = re.sub(\"[^a-z]\", \" \", newString)    #only keeping letters\n",
        "    newString = re.sub('[m]{2,}', 'mm', newString)    # \"mmmmmm\" -> \"mm\"\n",
        "        \n",
        "    tokens = [w for w in newString.split() if not w in stop_words]     # removing the stopwords\n",
        "\n",
        "    long_words=[]\n",
        "    for i in tokens:\n",
        "        if len(i)>1:                               #removing short word\n",
        "            long_words.append(i)   \n",
        "    return (\" \".join(long_words)).strip()"
      ],
      "metadata": {
        "id": "90diMBdk4mgi"
      },
      "execution_count": 76,
      "outputs": []
    },
    {
      "cell_type": "code",
      "source": [
        "#call the function\n",
        "cleaned_text = []\n",
        "for t in utterances['utterance']:\n",
        "    cleaned_text.append(text_cleaner(t)) \n",
        "\n",
        "cleaned_text[:5]  "
      ],
      "metadata": {
        "colab": {
          "base_uri": "https://localhost:8080/"
        },
        "id": "oYtB4FIE3olQ",
        "outputId": "cdf44c38-3bc6-4755-e3c7-b9f603405752"
      },
      "execution_count": 77,
      "outputs": [
        {
          "output_type": "execute_result",
          "data": {
            "text/plain": [
              "['still waiting card',\n",
              " 'card still arrived weeks',\n",
              " 'waiting week card still coming',\n",
              " 'track card process delivery',\n",
              " 'know get card lost']"
            ]
          },
          "metadata": {},
          "execution_count": 77
        }
      ]
    },
    {
      "cell_type": "code",
      "source": [
        "utterances['cleaned_utterance'] = cleaned_text\n",
        "utterances.head()"
      ],
      "metadata": {
        "colab": {
          "base_uri": "https://localhost:8080/",
          "height": 206
        },
        "id": "V9z8kYpLDOr6",
        "outputId": "7e60d9f9-e3dc-49db-9264-f84f4db2f7bb"
      },
      "execution_count": 78,
      "outputs": [
        {
          "output_type": "execute_result",
          "data": {
            "text/plain": [
              "                                           utterance        intent  \\\n",
              "0                      i am still waiting on my card  card_arrival   \n",
              "1  what can i do if my card still hasn't arrived ...  card_arrival   \n",
              "2  i have been waiting over a week is the card st...  card_arrival   \n",
              "3  can i track my card while it is in the process...  card_arrival   \n",
              "4  how do i know if i will get my card or if it i...  card_arrival   \n",
              "\n",
              "                cleaned_utterance  \n",
              "0              still waiting card  \n",
              "1        card still arrived weeks  \n",
              "2  waiting week card still coming  \n",
              "3     track card process delivery  \n",
              "4              know get card lost  "
            ],
            "text/html": [
              "\n",
              "  <div id=\"df-0f935453-a085-4087-b38b-0f5114052683\">\n",
              "    <div class=\"colab-df-container\">\n",
              "      <div>\n",
              "<style scoped>\n",
              "    .dataframe tbody tr th:only-of-type {\n",
              "        vertical-align: middle;\n",
              "    }\n",
              "\n",
              "    .dataframe tbody tr th {\n",
              "        vertical-align: top;\n",
              "    }\n",
              "\n",
              "    .dataframe thead th {\n",
              "        text-align: right;\n",
              "    }\n",
              "</style>\n",
              "<table border=\"1\" class=\"dataframe\">\n",
              "  <thead>\n",
              "    <tr style=\"text-align: right;\">\n",
              "      <th></th>\n",
              "      <th>utterance</th>\n",
              "      <th>intent</th>\n",
              "      <th>cleaned_utterance</th>\n",
              "    </tr>\n",
              "  </thead>\n",
              "  <tbody>\n",
              "    <tr>\n",
              "      <th>0</th>\n",
              "      <td>i am still waiting on my card</td>\n",
              "      <td>card_arrival</td>\n",
              "      <td>still waiting card</td>\n",
              "    </tr>\n",
              "    <tr>\n",
              "      <th>1</th>\n",
              "      <td>what can i do if my card still hasn't arrived ...</td>\n",
              "      <td>card_arrival</td>\n",
              "      <td>card still arrived weeks</td>\n",
              "    </tr>\n",
              "    <tr>\n",
              "      <th>2</th>\n",
              "      <td>i have been waiting over a week is the card st...</td>\n",
              "      <td>card_arrival</td>\n",
              "      <td>waiting week card still coming</td>\n",
              "    </tr>\n",
              "    <tr>\n",
              "      <th>3</th>\n",
              "      <td>can i track my card while it is in the process...</td>\n",
              "      <td>card_arrival</td>\n",
              "      <td>track card process delivery</td>\n",
              "    </tr>\n",
              "    <tr>\n",
              "      <th>4</th>\n",
              "      <td>how do i know if i will get my card or if it i...</td>\n",
              "      <td>card_arrival</td>\n",
              "      <td>know get card lost</td>\n",
              "    </tr>\n",
              "  </tbody>\n",
              "</table>\n",
              "</div>\n",
              "      <button class=\"colab-df-convert\" onclick=\"convertToInteractive('df-0f935453-a085-4087-b38b-0f5114052683')\"\n",
              "              title=\"Convert this dataframe to an interactive table.\"\n",
              "              style=\"display:none;\">\n",
              "        \n",
              "  <svg xmlns=\"http://www.w3.org/2000/svg\" height=\"24px\"viewBox=\"0 0 24 24\"\n",
              "       width=\"24px\">\n",
              "    <path d=\"M0 0h24v24H0V0z\" fill=\"none\"/>\n",
              "    <path d=\"M18.56 5.44l.94 2.06.94-2.06 2.06-.94-2.06-.94-.94-2.06-.94 2.06-2.06.94zm-11 1L8.5 8.5l.94-2.06 2.06-.94-2.06-.94L8.5 2.5l-.94 2.06-2.06.94zm10 10l.94 2.06.94-2.06 2.06-.94-2.06-.94-.94-2.06-.94 2.06-2.06.94z\"/><path d=\"M17.41 7.96l-1.37-1.37c-.4-.4-.92-.59-1.43-.59-.52 0-1.04.2-1.43.59L10.3 9.45l-7.72 7.72c-.78.78-.78 2.05 0 2.83L4 21.41c.39.39.9.59 1.41.59.51 0 1.02-.2 1.41-.59l7.78-7.78 2.81-2.81c.8-.78.8-2.07 0-2.86zM5.41 20L4 18.59l7.72-7.72 1.47 1.35L5.41 20z\"/>\n",
              "  </svg>\n",
              "      </button>\n",
              "      \n",
              "  <style>\n",
              "    .colab-df-container {\n",
              "      display:flex;\n",
              "      flex-wrap:wrap;\n",
              "      gap: 12px;\n",
              "    }\n",
              "\n",
              "    .colab-df-convert {\n",
              "      background-color: #E8F0FE;\n",
              "      border: none;\n",
              "      border-radius: 50%;\n",
              "      cursor: pointer;\n",
              "      display: none;\n",
              "      fill: #1967D2;\n",
              "      height: 32px;\n",
              "      padding: 0 0 0 0;\n",
              "      width: 32px;\n",
              "    }\n",
              "\n",
              "    .colab-df-convert:hover {\n",
              "      background-color: #E2EBFA;\n",
              "      box-shadow: 0px 1px 2px rgba(60, 64, 67, 0.3), 0px 1px 3px 1px rgba(60, 64, 67, 0.15);\n",
              "      fill: #174EA6;\n",
              "    }\n",
              "\n",
              "    [theme=dark] .colab-df-convert {\n",
              "      background-color: #3B4455;\n",
              "      fill: #D2E3FC;\n",
              "    }\n",
              "\n",
              "    [theme=dark] .colab-df-convert:hover {\n",
              "      background-color: #434B5C;\n",
              "      box-shadow: 0px 1px 3px 1px rgba(0, 0, 0, 0.15);\n",
              "      filter: drop-shadow(0px 1px 2px rgba(0, 0, 0, 0.3));\n",
              "      fill: #FFFFFF;\n",
              "    }\n",
              "  </style>\n",
              "\n",
              "      <script>\n",
              "        const buttonEl =\n",
              "          document.querySelector('#df-0f935453-a085-4087-b38b-0f5114052683 button.colab-df-convert');\n",
              "        buttonEl.style.display =\n",
              "          google.colab.kernel.accessAllowed ? 'block' : 'none';\n",
              "\n",
              "        async function convertToInteractive(key) {\n",
              "          const element = document.querySelector('#df-0f935453-a085-4087-b38b-0f5114052683');\n",
              "          const dataTable =\n",
              "            await google.colab.kernel.invokeFunction('convertToInteractive',\n",
              "                                                     [key], {});\n",
              "          if (!dataTable) return;\n",
              "\n",
              "          const docLinkHtml = 'Like what you see? Visit the ' +\n",
              "            '<a target=\"_blank\" href=https://colab.research.google.com/notebooks/data_table.ipynb>data table notebook</a>'\n",
              "            + ' to learn more about interactive tables.';\n",
              "          element.innerHTML = '';\n",
              "          dataTable['output_type'] = 'display_data';\n",
              "          await google.colab.output.renderOutput(dataTable, element);\n",
              "          const docLink = document.createElement('div');\n",
              "          docLink.innerHTML = docLinkHtml;\n",
              "          element.appendChild(docLink);\n",
              "        }\n",
              "      </script>\n",
              "    </div>\n",
              "  </div>\n",
              "  "
            ]
          },
          "metadata": {},
          "execution_count": 78
        }
      ]
    },
    {
      "cell_type": "code",
      "source": [
        "#Drop empty rows\n",
        "\n",
        "utterances.replace('', np.nan, inplace=True)\n",
        "utterances.dropna(axis=0,inplace=True)\n",
        "\n",
        "utterances.head()"
      ],
      "metadata": {
        "colab": {
          "base_uri": "https://localhost:8080/",
          "height": 206
        },
        "id": "zdMGLG6G4FfF",
        "outputId": "7f6cb8f8-3ca4-41e3-82e0-4f3ea0b1bd6a"
      },
      "execution_count": 79,
      "outputs": [
        {
          "output_type": "execute_result",
          "data": {
            "text/plain": [
              "                                           utterance        intent  \\\n",
              "0                      i am still waiting on my card  card_arrival   \n",
              "1  what can i do if my card still hasn't arrived ...  card_arrival   \n",
              "2  i have been waiting over a week is the card st...  card_arrival   \n",
              "3  can i track my card while it is in the process...  card_arrival   \n",
              "4  how do i know if i will get my card or if it i...  card_arrival   \n",
              "\n",
              "                cleaned_utterance  \n",
              "0              still waiting card  \n",
              "1        card still arrived weeks  \n",
              "2  waiting week card still coming  \n",
              "3     track card process delivery  \n",
              "4              know get card lost  "
            ],
            "text/html": [
              "\n",
              "  <div id=\"df-3c5cebc0-20ac-455f-8776-aae60ac30b02\">\n",
              "    <div class=\"colab-df-container\">\n",
              "      <div>\n",
              "<style scoped>\n",
              "    .dataframe tbody tr th:only-of-type {\n",
              "        vertical-align: middle;\n",
              "    }\n",
              "\n",
              "    .dataframe tbody tr th {\n",
              "        vertical-align: top;\n",
              "    }\n",
              "\n",
              "    .dataframe thead th {\n",
              "        text-align: right;\n",
              "    }\n",
              "</style>\n",
              "<table border=\"1\" class=\"dataframe\">\n",
              "  <thead>\n",
              "    <tr style=\"text-align: right;\">\n",
              "      <th></th>\n",
              "      <th>utterance</th>\n",
              "      <th>intent</th>\n",
              "      <th>cleaned_utterance</th>\n",
              "    </tr>\n",
              "  </thead>\n",
              "  <tbody>\n",
              "    <tr>\n",
              "      <th>0</th>\n",
              "      <td>i am still waiting on my card</td>\n",
              "      <td>card_arrival</td>\n",
              "      <td>still waiting card</td>\n",
              "    </tr>\n",
              "    <tr>\n",
              "      <th>1</th>\n",
              "      <td>what can i do if my card still hasn't arrived ...</td>\n",
              "      <td>card_arrival</td>\n",
              "      <td>card still arrived weeks</td>\n",
              "    </tr>\n",
              "    <tr>\n",
              "      <th>2</th>\n",
              "      <td>i have been waiting over a week is the card st...</td>\n",
              "      <td>card_arrival</td>\n",
              "      <td>waiting week card still coming</td>\n",
              "    </tr>\n",
              "    <tr>\n",
              "      <th>3</th>\n",
              "      <td>can i track my card while it is in the process...</td>\n",
              "      <td>card_arrival</td>\n",
              "      <td>track card process delivery</td>\n",
              "    </tr>\n",
              "    <tr>\n",
              "      <th>4</th>\n",
              "      <td>how do i know if i will get my card or if it i...</td>\n",
              "      <td>card_arrival</td>\n",
              "      <td>know get card lost</td>\n",
              "    </tr>\n",
              "  </tbody>\n",
              "</table>\n",
              "</div>\n",
              "      <button class=\"colab-df-convert\" onclick=\"convertToInteractive('df-3c5cebc0-20ac-455f-8776-aae60ac30b02')\"\n",
              "              title=\"Convert this dataframe to an interactive table.\"\n",
              "              style=\"display:none;\">\n",
              "        \n",
              "  <svg xmlns=\"http://www.w3.org/2000/svg\" height=\"24px\"viewBox=\"0 0 24 24\"\n",
              "       width=\"24px\">\n",
              "    <path d=\"M0 0h24v24H0V0z\" fill=\"none\"/>\n",
              "    <path d=\"M18.56 5.44l.94 2.06.94-2.06 2.06-.94-2.06-.94-.94-2.06-.94 2.06-2.06.94zm-11 1L8.5 8.5l.94-2.06 2.06-.94-2.06-.94L8.5 2.5l-.94 2.06-2.06.94zm10 10l.94 2.06.94-2.06 2.06-.94-2.06-.94-.94-2.06-.94 2.06-2.06.94z\"/><path d=\"M17.41 7.96l-1.37-1.37c-.4-.4-.92-.59-1.43-.59-.52 0-1.04.2-1.43.59L10.3 9.45l-7.72 7.72c-.78.78-.78 2.05 0 2.83L4 21.41c.39.39.9.59 1.41.59.51 0 1.02-.2 1.41-.59l7.78-7.78 2.81-2.81c.8-.78.8-2.07 0-2.86zM5.41 20L4 18.59l7.72-7.72 1.47 1.35L5.41 20z\"/>\n",
              "  </svg>\n",
              "      </button>\n",
              "      \n",
              "  <style>\n",
              "    .colab-df-container {\n",
              "      display:flex;\n",
              "      flex-wrap:wrap;\n",
              "      gap: 12px;\n",
              "    }\n",
              "\n",
              "    .colab-df-convert {\n",
              "      background-color: #E8F0FE;\n",
              "      border: none;\n",
              "      border-radius: 50%;\n",
              "      cursor: pointer;\n",
              "      display: none;\n",
              "      fill: #1967D2;\n",
              "      height: 32px;\n",
              "      padding: 0 0 0 0;\n",
              "      width: 32px;\n",
              "    }\n",
              "\n",
              "    .colab-df-convert:hover {\n",
              "      background-color: #E2EBFA;\n",
              "      box-shadow: 0px 1px 2px rgba(60, 64, 67, 0.3), 0px 1px 3px 1px rgba(60, 64, 67, 0.15);\n",
              "      fill: #174EA6;\n",
              "    }\n",
              "\n",
              "    [theme=dark] .colab-df-convert {\n",
              "      background-color: #3B4455;\n",
              "      fill: #D2E3FC;\n",
              "    }\n",
              "\n",
              "    [theme=dark] .colab-df-convert:hover {\n",
              "      background-color: #434B5C;\n",
              "      box-shadow: 0px 1px 3px 1px rgba(0, 0, 0, 0.15);\n",
              "      filter: drop-shadow(0px 1px 2px rgba(0, 0, 0, 0.3));\n",
              "      fill: #FFFFFF;\n",
              "    }\n",
              "  </style>\n",
              "\n",
              "      <script>\n",
              "        const buttonEl =\n",
              "          document.querySelector('#df-3c5cebc0-20ac-455f-8776-aae60ac30b02 button.colab-df-convert');\n",
              "        buttonEl.style.display =\n",
              "          google.colab.kernel.accessAllowed ? 'block' : 'none';\n",
              "\n",
              "        async function convertToInteractive(key) {\n",
              "          const element = document.querySelector('#df-3c5cebc0-20ac-455f-8776-aae60ac30b02');\n",
              "          const dataTable =\n",
              "            await google.colab.kernel.invokeFunction('convertToInteractive',\n",
              "                                                     [key], {});\n",
              "          if (!dataTable) return;\n",
              "\n",
              "          const docLinkHtml = 'Like what you see? Visit the ' +\n",
              "            '<a target=\"_blank\" href=https://colab.research.google.com/notebooks/data_table.ipynb>data table notebook</a>'\n",
              "            + ' to learn more about interactive tables.';\n",
              "          element.innerHTML = '';\n",
              "          dataTable['output_type'] = 'display_data';\n",
              "          await google.colab.output.renderOutput(dataTable, element);\n",
              "          const docLink = document.createElement('div');\n",
              "          docLink.innerHTML = docLinkHtml;\n",
              "          element.appendChild(docLink);\n",
              "        }\n",
              "      </script>\n",
              "    </div>\n",
              "  </div>\n",
              "  "
            ]
          },
          "metadata": {},
          "execution_count": 79
        }
      ]
    },
    {
      "cell_type": "code",
      "source": [
        "#Lemmatization\n",
        "\n",
        "nltk.download(\"wordnet\")\n",
        "nltk.download('omw-1.4')\n",
        "wordnetLemmatizer = nltk.WordNetLemmatizer()"
      ],
      "metadata": {
        "colab": {
          "base_uri": "https://localhost:8080/"
        },
        "id": "O7uiVgF44ATN",
        "outputId": "3fbcf9f3-9c65-4913-de4f-a8042f0f14fc"
      },
      "execution_count": 80,
      "outputs": [
        {
          "output_type": "stream",
          "name": "stderr",
          "text": [
            "[nltk_data] Downloading package wordnet to /root/nltk_data...\n",
            "[nltk_data]   Package wordnet is already up-to-date!\n",
            "[nltk_data] Downloading package omw-1.4 to /root/nltk_data...\n",
            "[nltk_data]   Package omw-1.4 is already up-to-date!\n"
          ]
        }
      ]
    },
    {
      "cell_type": "code",
      "source": [
        "def lemma(tokenized_text):\n",
        "  text = [wordnetLemmatizer.lemmatize(word) for word in tokenized_text]\n",
        "  return (\" \".join(text)).strip()\n",
        "\n",
        "utterances['lemmatized_utterance'] = utterances['cleaned_utterance'].apply(lambda x: lemma(x.split(\" \")))\n",
        "utterances.head()"
      ],
      "metadata": {
        "colab": {
          "base_uri": "https://localhost:8080/",
          "height": 206
        },
        "id": "uK-KfzRm492B",
        "outputId": "c0a1d880-7ac5-42b7-bfb5-614a34688c22"
      },
      "execution_count": 81,
      "outputs": [
        {
          "output_type": "execute_result",
          "data": {
            "text/plain": [
              "                                           utterance        intent  \\\n",
              "0                      i am still waiting on my card  card_arrival   \n",
              "1  what can i do if my card still hasn't arrived ...  card_arrival   \n",
              "2  i have been waiting over a week is the card st...  card_arrival   \n",
              "3  can i track my card while it is in the process...  card_arrival   \n",
              "4  how do i know if i will get my card or if it i...  card_arrival   \n",
              "\n",
              "                cleaned_utterance            lemmatized_utterance  \n",
              "0              still waiting card              still waiting card  \n",
              "1        card still arrived weeks         card still arrived week  \n",
              "2  waiting week card still coming  waiting week card still coming  \n",
              "3     track card process delivery     track card process delivery  \n",
              "4              know get card lost              know get card lost  "
            ],
            "text/html": [
              "\n",
              "  <div id=\"df-cff512d3-1f9b-4a4c-b3f9-2aa99e48f394\">\n",
              "    <div class=\"colab-df-container\">\n",
              "      <div>\n",
              "<style scoped>\n",
              "    .dataframe tbody tr th:only-of-type {\n",
              "        vertical-align: middle;\n",
              "    }\n",
              "\n",
              "    .dataframe tbody tr th {\n",
              "        vertical-align: top;\n",
              "    }\n",
              "\n",
              "    .dataframe thead th {\n",
              "        text-align: right;\n",
              "    }\n",
              "</style>\n",
              "<table border=\"1\" class=\"dataframe\">\n",
              "  <thead>\n",
              "    <tr style=\"text-align: right;\">\n",
              "      <th></th>\n",
              "      <th>utterance</th>\n",
              "      <th>intent</th>\n",
              "      <th>cleaned_utterance</th>\n",
              "      <th>lemmatized_utterance</th>\n",
              "    </tr>\n",
              "  </thead>\n",
              "  <tbody>\n",
              "    <tr>\n",
              "      <th>0</th>\n",
              "      <td>i am still waiting on my card</td>\n",
              "      <td>card_arrival</td>\n",
              "      <td>still waiting card</td>\n",
              "      <td>still waiting card</td>\n",
              "    </tr>\n",
              "    <tr>\n",
              "      <th>1</th>\n",
              "      <td>what can i do if my card still hasn't arrived ...</td>\n",
              "      <td>card_arrival</td>\n",
              "      <td>card still arrived weeks</td>\n",
              "      <td>card still arrived week</td>\n",
              "    </tr>\n",
              "    <tr>\n",
              "      <th>2</th>\n",
              "      <td>i have been waiting over a week is the card st...</td>\n",
              "      <td>card_arrival</td>\n",
              "      <td>waiting week card still coming</td>\n",
              "      <td>waiting week card still coming</td>\n",
              "    </tr>\n",
              "    <tr>\n",
              "      <th>3</th>\n",
              "      <td>can i track my card while it is in the process...</td>\n",
              "      <td>card_arrival</td>\n",
              "      <td>track card process delivery</td>\n",
              "      <td>track card process delivery</td>\n",
              "    </tr>\n",
              "    <tr>\n",
              "      <th>4</th>\n",
              "      <td>how do i know if i will get my card or if it i...</td>\n",
              "      <td>card_arrival</td>\n",
              "      <td>know get card lost</td>\n",
              "      <td>know get card lost</td>\n",
              "    </tr>\n",
              "  </tbody>\n",
              "</table>\n",
              "</div>\n",
              "      <button class=\"colab-df-convert\" onclick=\"convertToInteractive('df-cff512d3-1f9b-4a4c-b3f9-2aa99e48f394')\"\n",
              "              title=\"Convert this dataframe to an interactive table.\"\n",
              "              style=\"display:none;\">\n",
              "        \n",
              "  <svg xmlns=\"http://www.w3.org/2000/svg\" height=\"24px\"viewBox=\"0 0 24 24\"\n",
              "       width=\"24px\">\n",
              "    <path d=\"M0 0h24v24H0V0z\" fill=\"none\"/>\n",
              "    <path d=\"M18.56 5.44l.94 2.06.94-2.06 2.06-.94-2.06-.94-.94-2.06-.94 2.06-2.06.94zm-11 1L8.5 8.5l.94-2.06 2.06-.94-2.06-.94L8.5 2.5l-.94 2.06-2.06.94zm10 10l.94 2.06.94-2.06 2.06-.94-2.06-.94-.94-2.06-.94 2.06-2.06.94z\"/><path d=\"M17.41 7.96l-1.37-1.37c-.4-.4-.92-.59-1.43-.59-.52 0-1.04.2-1.43.59L10.3 9.45l-7.72 7.72c-.78.78-.78 2.05 0 2.83L4 21.41c.39.39.9.59 1.41.59.51 0 1.02-.2 1.41-.59l7.78-7.78 2.81-2.81c.8-.78.8-2.07 0-2.86zM5.41 20L4 18.59l7.72-7.72 1.47 1.35L5.41 20z\"/>\n",
              "  </svg>\n",
              "      </button>\n",
              "      \n",
              "  <style>\n",
              "    .colab-df-container {\n",
              "      display:flex;\n",
              "      flex-wrap:wrap;\n",
              "      gap: 12px;\n",
              "    }\n",
              "\n",
              "    .colab-df-convert {\n",
              "      background-color: #E8F0FE;\n",
              "      border: none;\n",
              "      border-radius: 50%;\n",
              "      cursor: pointer;\n",
              "      display: none;\n",
              "      fill: #1967D2;\n",
              "      height: 32px;\n",
              "      padding: 0 0 0 0;\n",
              "      width: 32px;\n",
              "    }\n",
              "\n",
              "    .colab-df-convert:hover {\n",
              "      background-color: #E2EBFA;\n",
              "      box-shadow: 0px 1px 2px rgba(60, 64, 67, 0.3), 0px 1px 3px 1px rgba(60, 64, 67, 0.15);\n",
              "      fill: #174EA6;\n",
              "    }\n",
              "\n",
              "    [theme=dark] .colab-df-convert {\n",
              "      background-color: #3B4455;\n",
              "      fill: #D2E3FC;\n",
              "    }\n",
              "\n",
              "    [theme=dark] .colab-df-convert:hover {\n",
              "      background-color: #434B5C;\n",
              "      box-shadow: 0px 1px 3px 1px rgba(0, 0, 0, 0.15);\n",
              "      filter: drop-shadow(0px 1px 2px rgba(0, 0, 0, 0.3));\n",
              "      fill: #FFFFFF;\n",
              "    }\n",
              "  </style>\n",
              "\n",
              "      <script>\n",
              "        const buttonEl =\n",
              "          document.querySelector('#df-cff512d3-1f9b-4a4c-b3f9-2aa99e48f394 button.colab-df-convert');\n",
              "        buttonEl.style.display =\n",
              "          google.colab.kernel.accessAllowed ? 'block' : 'none';\n",
              "\n",
              "        async function convertToInteractive(key) {\n",
              "          const element = document.querySelector('#df-cff512d3-1f9b-4a4c-b3f9-2aa99e48f394');\n",
              "          const dataTable =\n",
              "            await google.colab.kernel.invokeFunction('convertToInteractive',\n",
              "                                                     [key], {});\n",
              "          if (!dataTable) return;\n",
              "\n",
              "          const docLinkHtml = 'Like what you see? Visit the ' +\n",
              "            '<a target=\"_blank\" href=https://colab.research.google.com/notebooks/data_table.ipynb>data table notebook</a>'\n",
              "            + ' to learn more about interactive tables.';\n",
              "          element.innerHTML = '';\n",
              "          dataTable['output_type'] = 'display_data';\n",
              "          await google.colab.output.renderOutput(dataTable, element);\n",
              "          const docLink = document.createElement('div');\n",
              "          docLink.innerHTML = docLinkHtml;\n",
              "          element.appendChild(docLink);\n",
              "        }\n",
              "      </script>\n",
              "    </div>\n",
              "  </div>\n",
              "  "
            ]
          },
          "metadata": {},
          "execution_count": 81
        }
      ]
    },
    {
      "cell_type": "markdown",
      "source": [
        "### Converting each utterance into a Vector"
      ],
      "metadata": {
        "id": "sEha_Kjcv_KN"
      }
    },
    {
      "cell_type": "code",
      "source": [
        "\"\"\"\n",
        "Now convert each message into a vector that machine learning models can understand.\n",
        "\n",
        "\"\"\"\n",
        "\n",
        "#CountVectorizer\n",
        "\n",
        "from sklearn.feature_extraction.text import CountVectorizer\n",
        "\n",
        "vectorizer = CountVectorizer().fit(utterances['lemmatized_utterance'])\n",
        "\n",
        "print(len(vectorizer.vocabulary_))\n"
      ],
      "metadata": {
        "id": "sgWJgw1rwNYO",
        "colab": {
          "base_uri": "https://localhost:8080/"
        },
        "outputId": "59fe5eb7-a422-48a4-d7ba-e4f4b7767fb2"
      },
      "execution_count": 82,
      "outputs": [
        {
          "output_type": "stream",
          "name": "stdout",
          "text": [
            "1811\n"
          ]
        }
      ]
    },
    {
      "cell_type": "code",
      "source": [
        "# n-gram vectorizer\n",
        "ngram_vectorizer = CountVectorizer(ngram_range=(2,2)).fit(utterances['lemmatized_utterance'])\n",
        "print(len(ngram_vectorizer.vocabulary_))\n"
      ],
      "metadata": {
        "colab": {
          "base_uri": "https://localhost:8080/"
        },
        "id": "hWCqqUfu20VB",
        "outputId": "d652d5c5-77e4-4ec3-b8ea-e4ad83aa4e3c"
      },
      "execution_count": 83,
      "outputs": [
        {
          "output_type": "stream",
          "name": "stdout",
          "text": [
            "14750\n"
          ]
        }
      ]
    },
    {
      "cell_type": "markdown",
      "source": [
        "###Model Building using tf-idf (term frequency - inverse document frequency) features\n"
      ],
      "metadata": {
        "id": "viNCooOX_g7d"
      }
    },
    {
      "cell_type": "code",
      "source": [
        "from sklearn.model_selection import train_test_split\n",
        "from sklearn.feature_extraction.text import TfidfVectorizer\n",
        "\n",
        "# Training TfidfVectorizer\n",
        "\n",
        "tfidfVectorizer = TfidfVectorizer()\n",
        "X = tfidfVectorizer.fit_transform(utterances['lemmatized_utterance'])\n",
        "X = np.array(X.todense())\n",
        "\n",
        "y = utterances['intent']\n",
        "X_train, X_test, y_train, y_test = train_test_split(X, y, test_size=0.2, stratify=y)\n"
      ],
      "metadata": {
        "id": "NPXwPjZj_nkh"
      },
      "execution_count": 84,
      "outputs": []
    },
    {
      "cell_type": "code",
      "source": [
        "X_test"
      ],
      "metadata": {
        "colab": {
          "base_uri": "https://localhost:8080/"
        },
        "id": "beAuzTVqGXcE",
        "outputId": "43f385a5-5f63-4dee-e8e0-1f0bf721e435"
      },
      "execution_count": 85,
      "outputs": [
        {
          "output_type": "execute_result",
          "data": {
            "text/plain": [
              "array([[0., 0., 0., ..., 0., 0., 0.],\n",
              "       [0., 0., 0., ..., 0., 0., 0.],\n",
              "       [0., 0., 0., ..., 0., 0., 0.],\n",
              "       ...,\n",
              "       [0., 0., 0., ..., 0., 0., 0.],\n",
              "       [0., 0., 0., ..., 0., 0., 0.],\n",
              "       [0., 0., 0., ..., 0., 0., 0.]])"
            ]
          },
          "metadata": {},
          "execution_count": 85
        }
      ]
    },
    {
      "cell_type": "markdown",
      "source": [
        "### Using MultiNomialNB (Naive Bayes) Model for Classification"
      ],
      "metadata": {
        "id": "Fpswrq24FRL_"
      }
    },
    {
      "cell_type": "code",
      "source": [
        "from sklearn.naive_bayes import MultinomialNB\n",
        "\n",
        "intent_classification_model = MultinomialNB().fit(X_train, y_train)"
      ],
      "metadata": {
        "id": "hrUgvjnjFQat"
      },
      "execution_count": 86,
      "outputs": []
    },
    {
      "cell_type": "markdown",
      "source": [
        "### Model Testing"
      ],
      "metadata": {
        "id": "hsXhVocywS0B"
      }
    },
    {
      "cell_type": "code",
      "source": [
        "y_pred = intent_classification_model.predict(X_test)\n",
        "\n",
        "y_pred"
      ],
      "metadata": {
        "id": "RvNIhLhMwaDM",
        "colab": {
          "base_uri": "https://localhost:8080/"
        },
        "outputId": "f5d04841-35df-43b2-ed73-fd25c88628ba"
      },
      "execution_count": 87,
      "outputs": [
        {
          "output_type": "execute_result",
          "data": {
            "text/plain": [
              "array(['pending_transfer', 'pending_transfer', 'compromised_card', ...,\n",
              "       'declined_cash_withdrawal', 'request_refund',\n",
              "       'direct_debit_payment_not_recognised'], dtype='<U48')"
            ]
          },
          "metadata": {},
          "execution_count": 87
        }
      ]
    },
    {
      "cell_type": "markdown",
      "source": [
        "### Accuracy of the model"
      ],
      "metadata": {
        "id": "_-cJ9ElzwaoB"
      }
    },
    {
      "cell_type": "code",
      "source": [
        "from sklearn.metrics import classification_report, accuracy_score, f1_score\n",
        "\n",
        "print('Accuracy:', accuracy_score(y_test, y_pred))\n",
        "print('F1 score:', f1_score(y_test, y_pred, average=\"macro\"))\n",
        "\n",
        "print (classification_report(y_test, y_pred))"
      ],
      "metadata": {
        "id": "XS05lFGMwha5",
        "colab": {
          "base_uri": "https://localhost:8080/"
        },
        "outputId": "ef323537-edb6-443f-d80a-a85de05bedb9"
      },
      "execution_count": 88,
      "outputs": [
        {
          "output_type": "stream",
          "name": "stdout",
          "text": [
            "Accuracy: 0.7848027842227379\n",
            "F1 score: 0.7497713128916921\n",
            "                                                  precision    recall  f1-score   support\n",
            "\n",
            "                           Refund_not_showing_up       0.93      0.90      0.91        29\n",
            "                                activate_my_card       0.70      0.93      0.80        28\n",
            "                                       age_limit       1.00      0.83      0.91        18\n",
            "                         apple_pay_or_google_pay       0.85      1.00      0.92        22\n",
            "                                     atm_support       1.00      0.36      0.53        14\n",
            "                                automatic_top_up       0.88      0.95      0.91        22\n",
            "         balance_not_updated_after_bank_transfer       0.59      0.77      0.67        31\n",
            "balance_not_updated_after_cheque_or_cash_deposit       0.71      0.97      0.82        33\n",
            "                         beneficiary_not_allowed       0.73      0.81      0.77        27\n",
            "                                 cancel_transfer       0.79      0.96      0.87        28\n",
            "                            card_about_to_expire       0.63      0.86      0.73        22\n",
            "                                 card_acceptance       1.00      0.22      0.36         9\n",
            "                                    card_arrival       0.70      0.78      0.74        27\n",
            "                          card_delivery_estimate       0.89      0.42      0.57        19\n",
            "                                    card_linking       0.85      0.92      0.88        24\n",
            "                                card_not_working       1.00      0.33      0.50        18\n",
            "                        card_payment_fee_charged       0.57      0.85      0.68        34\n",
            "                     card_payment_not_recognised       0.69      0.83      0.76        30\n",
            "                card_payment_wrong_exchange_rate       0.58      0.86      0.69        29\n",
            "                                  card_swallowed       1.00      0.11      0.20         9\n",
            "                          cash_withdrawal_charge       0.81      0.91      0.85        32\n",
            "                  cash_withdrawal_not_recognised       0.74      0.82      0.78        28\n",
            "                                      change_pin       0.78      1.00      0.88        21\n",
            "                                compromised_card       0.90      0.64      0.75        14\n",
            "                         contactless_not_working       1.00      0.50      0.67         6\n",
            "                                 country_support       0.85      0.77      0.81        22\n",
            "                           declined_card_payment       0.73      0.81      0.77        27\n",
            "                        declined_cash_withdrawal       0.58      0.94      0.72        31\n",
            "                               declined_transfer       0.91      0.87      0.89        23\n",
            "             direct_debit_payment_not_recognised       0.91      0.97      0.94        33\n",
            "                          disposable_card_limits       0.70      0.95      0.81        20\n",
            "                           edit_personal_details       1.00      0.86      0.92        21\n",
            "                                 exchange_charge       0.95      0.90      0.92        20\n",
            "                                   exchange_rate       1.00      0.21      0.35        19\n",
            "                                exchange_via_app       0.94      0.85      0.89        20\n",
            "                       extra_charge_on_statement       0.92      0.76      0.83        29\n",
            "                                 failed_transfer       0.86      0.79      0.83        24\n",
            "                           fiat_currency_support       0.95      0.90      0.93        21\n",
            "                     get_disposable_virtual_card       0.79      0.69      0.73        16\n",
            "                               get_physical_card       0.88      0.78      0.82        18\n",
            "                              getting_spare_card       0.70      0.73      0.71        22\n",
            "                            getting_virtual_card       0.81      0.81      0.81        16\n",
            "                             lost_or_stolen_card       0.83      0.38      0.53        13\n",
            "                            lost_or_stolen_phone       0.95      0.90      0.93        21\n",
            "                             order_physical_card       0.73      0.40      0.52        20\n",
            "                              passcode_forgotten       1.00      0.94      0.97        17\n",
            "                            pending_card_payment       0.87      0.96      0.92        28\n",
            "                         pending_cash_withdrawal       0.92      0.88      0.90        25\n",
            "                                  pending_top_up       1.00      0.69      0.82        26\n",
            "                                pending_transfer       0.78      0.69      0.73        26\n",
            "                                     pin_blocked       0.88      0.74      0.80        19\n",
            "                                 receiving_money       1.00      0.62      0.77        16\n",
            "                                  request_refund       0.88      0.97      0.92        30\n",
            "                          reverted_card_payment?       0.84      0.75      0.79        28\n",
            "                  supported_cards_and_currencies       0.61      0.91      0.73        22\n",
            "                               terminate_account       1.00      0.72      0.84        18\n",
            "                  top_up_by_bank_transfer_charge       1.00      0.42      0.59        19\n",
            "                           top_up_by_card_charge       0.81      0.89      0.85        19\n",
            "                        top_up_by_cash_or_cheque       1.00      0.58      0.73        19\n",
            "                                   top_up_failed       0.73      0.64      0.68        25\n",
            "                                   top_up_limits       1.00      0.62      0.77        16\n",
            "                                 top_up_reverted       0.82      0.69      0.75        26\n",
            "                              topping_up_by_card       0.75      0.35      0.48        17\n",
            "                       transaction_charged_twice       0.84      0.97      0.90        32\n",
            "                            transfer_fee_charged       0.72      0.94      0.82        31\n",
            "                           transfer_into_account       0.67      0.53      0.59        19\n",
            "              transfer_not_received_by_recipient       0.71      0.83      0.77        30\n",
            "                                 transfer_timing       0.71      0.68      0.70        22\n",
            "                       unable_to_verify_identity       0.78      0.41      0.54        17\n",
            "                              verify_my_identity       0.73      0.65      0.69        17\n",
            "                          verify_source_of_funds       0.94      0.84      0.89        19\n",
            "                                   verify_top_up       0.75      1.00      0.86        21\n",
            "                        virtual_card_not_working       0.00      0.00      0.00         6\n",
            "                              visa_or_mastercard       0.88      1.00      0.94        23\n",
            "                             why_verify_identity       0.62      0.75      0.68        20\n",
            "                   wrong_amount_of_cash_received       0.71      0.94      0.81        32\n",
            "         wrong_exchange_rate_for_cash_withdrawal       0.70      0.72      0.71        29\n",
            "\n",
            "                                        accuracy                           0.78      1724\n",
            "                                       macro avg       0.82      0.74      0.75      1724\n",
            "                                    weighted avg       0.81      0.78      0.77      1724\n",
            "\n"
          ]
        },
        {
          "output_type": "stream",
          "name": "stderr",
          "text": [
            "/usr/local/lib/python3.8/dist-packages/sklearn/metrics/_classification.py:1318: UndefinedMetricWarning: Precision and F-score are ill-defined and being set to 0.0 in labels with no predicted samples. Use `zero_division` parameter to control this behavior.\n",
            "  _warn_prf(average, modifier, msg_start, len(result))\n",
            "/usr/local/lib/python3.8/dist-packages/sklearn/metrics/_classification.py:1318: UndefinedMetricWarning: Precision and F-score are ill-defined and being set to 0.0 in labels with no predicted samples. Use `zero_division` parameter to control this behavior.\n",
            "  _warn_prf(average, modifier, msg_start, len(result))\n",
            "/usr/local/lib/python3.8/dist-packages/sklearn/metrics/_classification.py:1318: UndefinedMetricWarning: Precision and F-score are ill-defined and being set to 0.0 in labels with no predicted samples. Use `zero_division` parameter to control this behavior.\n",
            "  _warn_prf(average, modifier, msg_start, len(result))\n"
          ]
        }
      ]
    }
  ]
}