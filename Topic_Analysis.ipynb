{
  "nbformat": 4,
  "nbformat_minor": 0,
  "metadata": {
    "colab": {
      "provenance": []
    },
    "kernelspec": {
      "name": "python3",
      "display_name": "Python 3"
    },
    "language_info": {
      "name": "python"
    }
  },
  "cells": [
    {
      "cell_type": "markdown",
      "source": [
        "# DSE Dissertation\n",
        "\n",
        "## Topic Analysis"
      ],
      "metadata": {
        "id": "0kotEyV9qPiV"
      }
    },
    {
      "cell_type": "markdown",
      "source": [
        "#### Load Packages"
      ],
      "metadata": {
        "id": "mlqTSL_W1dsQ"
      }
    },
    {
      "cell_type": "code",
      "execution_count": 74,
      "metadata": {
        "id": "vwV5lNR3qJXD"
      },
      "outputs": [],
      "source": [
        "import pandas as pd\n",
        "import seaborn as sns\n",
        "import matplotlib.pyplot as plt\n",
        "import numpy as np\n",
        "import datetime as dt\n",
        "import seaborn as sn"
      ]
    },
    {
      "cell_type": "markdown",
      "source": [
        "#### Load Dataset"
      ],
      "metadata": {
        "id": "A1SkQhB8GKLx"
      }
    },
    {
      "cell_type": "code",
      "source": [
        "\"\"\"\n",
        "\n",
        "Loading dataset\n",
        "\n",
        "\"\"\"\n",
        "\n",
        "class UtteranceExample:\n",
        "    def __init__(self, text, label, do_lower_case):\n",
        "        self.original_text = text\n",
        "        self.text = text\n",
        "        self.label = label\n",
        "\n",
        "        if do_lower_case:\n",
        "            self.text = self.text.lower()\n",
        "\n",
        "    def to_dict(self):\n",
        "      return {\n",
        "          'utterance': self.original_text,\n",
        "          'intent': self.label,\n",
        "      }\n",
        "        \n",
        "def load_utterance_examples(file_path, do_lower_case=True):\n",
        "    examples = []\n",
        "\n",
        "    with open('{}/seq.in'.format(file_path), 'r', encoding=\"utf-8\") as f_text, open('{}/label'.format(file_path), 'r', encoding=\"utf-8\") as f_label:\n",
        "        for text, label in zip(f_text, f_label):\n",
        "            e = UtteranceExample(text.strip(), label.strip(), do_lower_case)\n",
        "            examples.append(e)\n",
        "\n",
        "    return examples\n",
        "\n"
      ],
      "metadata": {
        "id": "Y_b0qBJr2k0o"
      },
      "execution_count": 75,
      "outputs": []
    },
    {
      "cell_type": "code",
      "source": [
        "data = load_utterance_examples(\"/content/sample_data\")\n",
        "\n",
        "utterances= pd.DataFrame.from_records([d.to_dict() for d in data])\n",
        "\n",
        "print(utterances)"
      ],
      "metadata": {
        "colab": {
          "base_uri": "https://localhost:8080/"
        },
        "id": "bqmfSCtEtgLt",
        "outputId": "7c811bea-b850-407a-b5ee-46a1a4c15e4a"
      },
      "execution_count": 76,
      "outputs": [
        {
          "output_type": "stream",
          "name": "stdout",
          "text": [
            "                                              utterance           intent\n",
            "0                        i am still waiting on my card?     card_arrival\n",
            "1     what can i do if my card still hasn't arrived ...     card_arrival\n",
            "2     i have been waiting over a week. is the card s...     card_arrival\n",
            "3     can i track my card while it is in the process...     card_arrival\n",
            "4     how do i know if i will get my card, or if it ...     card_arrival\n",
            "...                                                 ...              ...\n",
            "8617             you provide support in what countries?  country_support\n",
            "8618                 what countries are you supporting?  country_support\n",
            "8619                what countries are getting support?  country_support\n",
            "8620                     are cards available in the eu?  country_support\n",
            "8621                   which countries are represented?  country_support\n",
            "\n",
            "[8622 rows x 2 columns]\n"
          ]
        }
      ]
    },
    {
      "cell_type": "markdown",
      "source": [
        "### Exploratory Data Analysis"
      ],
      "metadata": {
        "id": "XJ5ZmILI0NWV"
      }
    },
    {
      "cell_type": "code",
      "source": [
        "utterances.shape"
      ],
      "metadata": {
        "id": "5-dZp7NU71bx",
        "colab": {
          "base_uri": "https://localhost:8080/"
        },
        "outputId": "bb48846b-575f-41b8-d70f-8f54a2c5edb9"
      },
      "execution_count": 77,
      "outputs": [
        {
          "output_type": "execute_result",
          "data": {
            "text/plain": [
              "(8622, 2)"
            ]
          },
          "metadata": {},
          "execution_count": 77
        }
      ]
    },
    {
      "cell_type": "code",
      "source": [
        "utterances.dropna(axis=0,inplace=True)#dropping na\n",
        "utterances.shape"
      ],
      "metadata": {
        "id": "TfHxbunC8FBJ",
        "colab": {
          "base_uri": "https://localhost:8080/"
        },
        "outputId": "1a5ace27-c494-44ec-c2a7-8eed20e54b4a"
      },
      "execution_count": 78,
      "outputs": [
        {
          "output_type": "execute_result",
          "data": {
            "text/plain": [
              "(8622, 2)"
            ]
          },
          "metadata": {},
          "execution_count": 78
        }
      ]
    },
    {
      "cell_type": "code",
      "source": [
        "utterances.drop_duplicates(subset=['utterance'],inplace=True)#dropping duplicates\n",
        "utterances.shape"
      ],
      "metadata": {
        "id": "ETmKKgTr8KyO",
        "colab": {
          "base_uri": "https://localhost:8080/"
        },
        "outputId": "77d86ed3-0fa5-48f0-9fc1-99bf14862c24"
      },
      "execution_count": 79,
      "outputs": [
        {
          "output_type": "execute_result",
          "data": {
            "text/plain": [
              "(8618, 2)"
            ]
          },
          "metadata": {},
          "execution_count": 79
        }
      ]
    },
    {
      "cell_type": "code",
      "source": [
        "type_counts_train = utterances['intent'].value_counts()\n",
        "\n",
        "print(type_counts_train)\n",
        "\n",
        "\"\"\"\n",
        "\n",
        "THIS SHOWS THE SENTENCES PER INTENT ARE IMBALANCED.\n",
        "\n",
        "TOTAL OF 77 INTENT CLASSES\n",
        "\n",
        "\"\"\""
      ],
      "metadata": {
        "id": "Yyx_8S7X0TRe",
        "colab": {
          "base_uri": "https://localhost:8080/",
          "height": 250
        },
        "outputId": "a4c37d77-df21-4d19-fc6f-c759494cbacd"
      },
      "execution_count": 80,
      "outputs": [
        {
          "output_type": "stream",
          "name": "stdout",
          "text": [
            "card_payment_fee_charged                            167\n",
            "direct_debit_payment_not_recognised                 162\n",
            "balance_not_updated_after_cheque_or_cash_deposit    162\n",
            "wrong_amount_of_cash_received                       160\n",
            "transaction_charged_twice                           158\n",
            "                                                   ... \n",
            "lost_or_stolen_card                                  66\n",
            "card_acceptance                                      47\n",
            "card_swallowed                                       45\n",
            "virtual_card_not_working                             32\n",
            "contactless_not_working                              30\n",
            "Name: intent, Length: 77, dtype: int64\n"
          ]
        },
        {
          "output_type": "execute_result",
          "data": {
            "text/plain": [
              "'\\n\\nTHIS SHOWS THE SENTENCES PER INTENT ARE IMBALANCED.\\n\\nTOTAL OF 77 INTENT CLASSES\\n\\n'"
            ],
            "application/vnd.google.colaboratory.intrinsic+json": {
              "type": "string"
            }
          },
          "metadata": {},
          "execution_count": 80
        }
      ]
    },
    {
      "cell_type": "code",
      "source": [
        "utterances.info()"
      ],
      "metadata": {
        "id": "V1Adofg526Qp",
        "colab": {
          "base_uri": "https://localhost:8080/"
        },
        "outputId": "4a35f7eb-0437-4874-c5cb-fafe779ec1f1"
      },
      "execution_count": 81,
      "outputs": [
        {
          "output_type": "stream",
          "name": "stdout",
          "text": [
            "<class 'pandas.core.frame.DataFrame'>\n",
            "Int64Index: 8618 entries, 0 to 8621\n",
            "Data columns (total 2 columns):\n",
            " #   Column     Non-Null Count  Dtype \n",
            "---  ------     --------------  ----- \n",
            " 0   utterance  8618 non-null   object\n",
            " 1   intent     8618 non-null   object\n",
            "dtypes: object(2)\n",
            "memory usage: 202.0+ KB\n"
          ]
        }
      ]
    },
    {
      "cell_type": "code",
      "source": [
        "utterances.describe()"
      ],
      "metadata": {
        "id": "e-kuT6Jp6f6i",
        "colab": {
          "base_uri": "https://localhost:8080/",
          "height": 175
        },
        "outputId": "847b268b-b4d6-4fa1-bd18-cd7191fcc1eb"
      },
      "execution_count": 82,
      "outputs": [
        {
          "output_type": "execute_result",
          "data": {
            "text/plain": [
              "                             utterance                    intent\n",
              "count                             8618                      8618\n",
              "unique                            8618                        77\n",
              "top     i am still waiting on my card?  card_payment_fee_charged\n",
              "freq                                 1                       167"
            ],
            "text/html": [
              "\n",
              "  <div id=\"df-3c6f013d-911a-4f2e-b7bf-2f6a64e193ea\">\n",
              "    <div class=\"colab-df-container\">\n",
              "      <div>\n",
              "<style scoped>\n",
              "    .dataframe tbody tr th:only-of-type {\n",
              "        vertical-align: middle;\n",
              "    }\n",
              "\n",
              "    .dataframe tbody tr th {\n",
              "        vertical-align: top;\n",
              "    }\n",
              "\n",
              "    .dataframe thead th {\n",
              "        text-align: right;\n",
              "    }\n",
              "</style>\n",
              "<table border=\"1\" class=\"dataframe\">\n",
              "  <thead>\n",
              "    <tr style=\"text-align: right;\">\n",
              "      <th></th>\n",
              "      <th>utterance</th>\n",
              "      <th>intent</th>\n",
              "    </tr>\n",
              "  </thead>\n",
              "  <tbody>\n",
              "    <tr>\n",
              "      <th>count</th>\n",
              "      <td>8618</td>\n",
              "      <td>8618</td>\n",
              "    </tr>\n",
              "    <tr>\n",
              "      <th>unique</th>\n",
              "      <td>8618</td>\n",
              "      <td>77</td>\n",
              "    </tr>\n",
              "    <tr>\n",
              "      <th>top</th>\n",
              "      <td>i am still waiting on my card?</td>\n",
              "      <td>card_payment_fee_charged</td>\n",
              "    </tr>\n",
              "    <tr>\n",
              "      <th>freq</th>\n",
              "      <td>1</td>\n",
              "      <td>167</td>\n",
              "    </tr>\n",
              "  </tbody>\n",
              "</table>\n",
              "</div>\n",
              "      <button class=\"colab-df-convert\" onclick=\"convertToInteractive('df-3c6f013d-911a-4f2e-b7bf-2f6a64e193ea')\"\n",
              "              title=\"Convert this dataframe to an interactive table.\"\n",
              "              style=\"display:none;\">\n",
              "        \n",
              "  <svg xmlns=\"http://www.w3.org/2000/svg\" height=\"24px\"viewBox=\"0 0 24 24\"\n",
              "       width=\"24px\">\n",
              "    <path d=\"M0 0h24v24H0V0z\" fill=\"none\"/>\n",
              "    <path d=\"M18.56 5.44l.94 2.06.94-2.06 2.06-.94-2.06-.94-.94-2.06-.94 2.06-2.06.94zm-11 1L8.5 8.5l.94-2.06 2.06-.94-2.06-.94L8.5 2.5l-.94 2.06-2.06.94zm10 10l.94 2.06.94-2.06 2.06-.94-2.06-.94-.94-2.06-.94 2.06-2.06.94z\"/><path d=\"M17.41 7.96l-1.37-1.37c-.4-.4-.92-.59-1.43-.59-.52 0-1.04.2-1.43.59L10.3 9.45l-7.72 7.72c-.78.78-.78 2.05 0 2.83L4 21.41c.39.39.9.59 1.41.59.51 0 1.02-.2 1.41-.59l7.78-7.78 2.81-2.81c.8-.78.8-2.07 0-2.86zM5.41 20L4 18.59l7.72-7.72 1.47 1.35L5.41 20z\"/>\n",
              "  </svg>\n",
              "      </button>\n",
              "      \n",
              "  <style>\n",
              "    .colab-df-container {\n",
              "      display:flex;\n",
              "      flex-wrap:wrap;\n",
              "      gap: 12px;\n",
              "    }\n",
              "\n",
              "    .colab-df-convert {\n",
              "      background-color: #E8F0FE;\n",
              "      border: none;\n",
              "      border-radius: 50%;\n",
              "      cursor: pointer;\n",
              "      display: none;\n",
              "      fill: #1967D2;\n",
              "      height: 32px;\n",
              "      padding: 0 0 0 0;\n",
              "      width: 32px;\n",
              "    }\n",
              "\n",
              "    .colab-df-convert:hover {\n",
              "      background-color: #E2EBFA;\n",
              "      box-shadow: 0px 1px 2px rgba(60, 64, 67, 0.3), 0px 1px 3px 1px rgba(60, 64, 67, 0.15);\n",
              "      fill: #174EA6;\n",
              "    }\n",
              "\n",
              "    [theme=dark] .colab-df-convert {\n",
              "      background-color: #3B4455;\n",
              "      fill: #D2E3FC;\n",
              "    }\n",
              "\n",
              "    [theme=dark] .colab-df-convert:hover {\n",
              "      background-color: #434B5C;\n",
              "      box-shadow: 0px 1px 3px 1px rgba(0, 0, 0, 0.15);\n",
              "      filter: drop-shadow(0px 1px 2px rgba(0, 0, 0, 0.3));\n",
              "      fill: #FFFFFF;\n",
              "    }\n",
              "  </style>\n",
              "\n",
              "      <script>\n",
              "        const buttonEl =\n",
              "          document.querySelector('#df-3c6f013d-911a-4f2e-b7bf-2f6a64e193ea button.colab-df-convert');\n",
              "        buttonEl.style.display =\n",
              "          google.colab.kernel.accessAllowed ? 'block' : 'none';\n",
              "\n",
              "        async function convertToInteractive(key) {\n",
              "          const element = document.querySelector('#df-3c6f013d-911a-4f2e-b7bf-2f6a64e193ea');\n",
              "          const dataTable =\n",
              "            await google.colab.kernel.invokeFunction('convertToInteractive',\n",
              "                                                     [key], {});\n",
              "          if (!dataTable) return;\n",
              "\n",
              "          const docLinkHtml = 'Like what you see? Visit the ' +\n",
              "            '<a target=\"_blank\" href=https://colab.research.google.com/notebooks/data_table.ipynb>data table notebook</a>'\n",
              "            + ' to learn more about interactive tables.';\n",
              "          element.innerHTML = '';\n",
              "          dataTable['output_type'] = 'display_data';\n",
              "          await google.colab.output.renderOutput(dataTable, element);\n",
              "          const docLink = document.createElement('div');\n",
              "          docLink.innerHTML = docLinkHtml;\n",
              "          element.appendChild(docLink);\n",
              "        }\n",
              "      </script>\n",
              "    </div>\n",
              "  </div>\n",
              "  "
            ]
          },
          "metadata": {},
          "execution_count": 82
        }
      ]
    },
    {
      "cell_type": "code",
      "source": [
        "\"\"\"\n",
        "\n",
        "Few samples of the dataset.\n",
        "\n",
        "\"\"\"\n",
        "\n",
        "utterances.head()"
      ],
      "metadata": {
        "id": "ujIcPPXO3WD7",
        "colab": {
          "base_uri": "https://localhost:8080/",
          "height": 206
        },
        "outputId": "455ec307-e584-4f8f-a9ee-b6f2719faa9c"
      },
      "execution_count": 83,
      "outputs": [
        {
          "output_type": "execute_result",
          "data": {
            "text/plain": [
              "                                           utterance        intent\n",
              "0                     i am still waiting on my card?  card_arrival\n",
              "1  what can i do if my card still hasn't arrived ...  card_arrival\n",
              "2  i have been waiting over a week. is the card s...  card_arrival\n",
              "3  can i track my card while it is in the process...  card_arrival\n",
              "4  how do i know if i will get my card, or if it ...  card_arrival"
            ],
            "text/html": [
              "\n",
              "  <div id=\"df-95a713ed-81c6-4b98-96e8-9d7f1f691c40\">\n",
              "    <div class=\"colab-df-container\">\n",
              "      <div>\n",
              "<style scoped>\n",
              "    .dataframe tbody tr th:only-of-type {\n",
              "        vertical-align: middle;\n",
              "    }\n",
              "\n",
              "    .dataframe tbody tr th {\n",
              "        vertical-align: top;\n",
              "    }\n",
              "\n",
              "    .dataframe thead th {\n",
              "        text-align: right;\n",
              "    }\n",
              "</style>\n",
              "<table border=\"1\" class=\"dataframe\">\n",
              "  <thead>\n",
              "    <tr style=\"text-align: right;\">\n",
              "      <th></th>\n",
              "      <th>utterance</th>\n",
              "      <th>intent</th>\n",
              "    </tr>\n",
              "  </thead>\n",
              "  <tbody>\n",
              "    <tr>\n",
              "      <th>0</th>\n",
              "      <td>i am still waiting on my card?</td>\n",
              "      <td>card_arrival</td>\n",
              "    </tr>\n",
              "    <tr>\n",
              "      <th>1</th>\n",
              "      <td>what can i do if my card still hasn't arrived ...</td>\n",
              "      <td>card_arrival</td>\n",
              "    </tr>\n",
              "    <tr>\n",
              "      <th>2</th>\n",
              "      <td>i have been waiting over a week. is the card s...</td>\n",
              "      <td>card_arrival</td>\n",
              "    </tr>\n",
              "    <tr>\n",
              "      <th>3</th>\n",
              "      <td>can i track my card while it is in the process...</td>\n",
              "      <td>card_arrival</td>\n",
              "    </tr>\n",
              "    <tr>\n",
              "      <th>4</th>\n",
              "      <td>how do i know if i will get my card, or if it ...</td>\n",
              "      <td>card_arrival</td>\n",
              "    </tr>\n",
              "  </tbody>\n",
              "</table>\n",
              "</div>\n",
              "      <button class=\"colab-df-convert\" onclick=\"convertToInteractive('df-95a713ed-81c6-4b98-96e8-9d7f1f691c40')\"\n",
              "              title=\"Convert this dataframe to an interactive table.\"\n",
              "              style=\"display:none;\">\n",
              "        \n",
              "  <svg xmlns=\"http://www.w3.org/2000/svg\" height=\"24px\"viewBox=\"0 0 24 24\"\n",
              "       width=\"24px\">\n",
              "    <path d=\"M0 0h24v24H0V0z\" fill=\"none\"/>\n",
              "    <path d=\"M18.56 5.44l.94 2.06.94-2.06 2.06-.94-2.06-.94-.94-2.06-.94 2.06-2.06.94zm-11 1L8.5 8.5l.94-2.06 2.06-.94-2.06-.94L8.5 2.5l-.94 2.06-2.06.94zm10 10l.94 2.06.94-2.06 2.06-.94-2.06-.94-.94-2.06-.94 2.06-2.06.94z\"/><path d=\"M17.41 7.96l-1.37-1.37c-.4-.4-.92-.59-1.43-.59-.52 0-1.04.2-1.43.59L10.3 9.45l-7.72 7.72c-.78.78-.78 2.05 0 2.83L4 21.41c.39.39.9.59 1.41.59.51 0 1.02-.2 1.41-.59l7.78-7.78 2.81-2.81c.8-.78.8-2.07 0-2.86zM5.41 20L4 18.59l7.72-7.72 1.47 1.35L5.41 20z\"/>\n",
              "  </svg>\n",
              "      </button>\n",
              "      \n",
              "  <style>\n",
              "    .colab-df-container {\n",
              "      display:flex;\n",
              "      flex-wrap:wrap;\n",
              "      gap: 12px;\n",
              "    }\n",
              "\n",
              "    .colab-df-convert {\n",
              "      background-color: #E8F0FE;\n",
              "      border: none;\n",
              "      border-radius: 50%;\n",
              "      cursor: pointer;\n",
              "      display: none;\n",
              "      fill: #1967D2;\n",
              "      height: 32px;\n",
              "      padding: 0 0 0 0;\n",
              "      width: 32px;\n",
              "    }\n",
              "\n",
              "    .colab-df-convert:hover {\n",
              "      background-color: #E2EBFA;\n",
              "      box-shadow: 0px 1px 2px rgba(60, 64, 67, 0.3), 0px 1px 3px 1px rgba(60, 64, 67, 0.15);\n",
              "      fill: #174EA6;\n",
              "    }\n",
              "\n",
              "    [theme=dark] .colab-df-convert {\n",
              "      background-color: #3B4455;\n",
              "      fill: #D2E3FC;\n",
              "    }\n",
              "\n",
              "    [theme=dark] .colab-df-convert:hover {\n",
              "      background-color: #434B5C;\n",
              "      box-shadow: 0px 1px 3px 1px rgba(0, 0, 0, 0.15);\n",
              "      filter: drop-shadow(0px 1px 2px rgba(0, 0, 0, 0.3));\n",
              "      fill: #FFFFFF;\n",
              "    }\n",
              "  </style>\n",
              "\n",
              "      <script>\n",
              "        const buttonEl =\n",
              "          document.querySelector('#df-95a713ed-81c6-4b98-96e8-9d7f1f691c40 button.colab-df-convert');\n",
              "        buttonEl.style.display =\n",
              "          google.colab.kernel.accessAllowed ? 'block' : 'none';\n",
              "\n",
              "        async function convertToInteractive(key) {\n",
              "          const element = document.querySelector('#df-95a713ed-81c6-4b98-96e8-9d7f1f691c40');\n",
              "          const dataTable =\n",
              "            await google.colab.kernel.invokeFunction('convertToInteractive',\n",
              "                                                     [key], {});\n",
              "          if (!dataTable) return;\n",
              "\n",
              "          const docLinkHtml = 'Like what you see? Visit the ' +\n",
              "            '<a target=\"_blank\" href=https://colab.research.google.com/notebooks/data_table.ipynb>data table notebook</a>'\n",
              "            + ' to learn more about interactive tables.';\n",
              "          element.innerHTML = '';\n",
              "          dataTable['output_type'] = 'display_data';\n",
              "          await google.colab.output.renderOutput(dataTable, element);\n",
              "          const docLink = document.createElement('div');\n",
              "          docLink.innerHTML = docLinkHtml;\n",
              "          element.appendChild(docLink);\n",
              "        }\n",
              "      </script>\n",
              "    </div>\n",
              "  </div>\n",
              "  "
            ]
          },
          "metadata": {},
          "execution_count": 83
        }
      ]
    },
    {
      "cell_type": "code",
      "source": [
        "utterances.groupby('intent').describe()"
      ],
      "metadata": {
        "id": "5SOeIqpq7JC5",
        "colab": {
          "base_uri": "https://localhost:8080/",
          "height": 486
        },
        "outputId": "7c0371ad-aa17-49cc-817e-593341fc9bc1"
      },
      "execution_count": 84,
      "outputs": [
        {
          "output_type": "execute_result",
          "data": {
            "text/plain": [
              "                                        utterance         \\\n",
              "                                            count unique   \n",
              "intent                                                     \n",
              "Refund_not_showing_up                         143    143   \n",
              "activate_my_card                              141    141   \n",
              "age_limit                                      92     92   \n",
              "apple_pay_or_google_pay                       108    108   \n",
              "atm_support                                    68     68   \n",
              "...                                           ...    ...   \n",
              "virtual_card_not_working                       32     32   \n",
              "visa_or_mastercard                            115    115   \n",
              "why_verify_identity                           102    102   \n",
              "wrong_amount_of_cash_received                 160    160   \n",
              "wrong_exchange_rate_for_cash_withdrawal       145    145   \n",
              "\n",
              "                                                                                            \\\n",
              "                                                                                       top   \n",
              "intent                                                                                       \n",
              "Refund_not_showing_up                    i don't see my refund money yet in my account....   \n",
              "activate_my_card                          please help me with my card.  it won't activate.   \n",
              "age_limit                                how old do you need to be to use the banks ser...   \n",
              "apple_pay_or_google_pay                  hi, i have an apple watch. how do i use it to ...   \n",
              "atm_support                                             i can use this card at which atms?   \n",
              "...                                                                                    ...   \n",
              "virtual_card_not_working                     why isn't my disposable virtual card working?   \n",
              "visa_or_mastercard                                 is there a way i can have a mastercard?   \n",
              "why_verify_identity                                     why do you have an identity check?   \n",
              "wrong_amount_of_cash_received            why did i only receive a partial amount of wha...   \n",
              "wrong_exchange_rate_for_cash_withdrawal  the wrong exchange rate was applied to me whil...   \n",
              "\n",
              "                                              \n",
              "                                        freq  \n",
              "intent                                        \n",
              "Refund_not_showing_up                      1  \n",
              "activate_my_card                           1  \n",
              "age_limit                                  1  \n",
              "apple_pay_or_google_pay                    1  \n",
              "atm_support                                1  \n",
              "...                                      ...  \n",
              "virtual_card_not_working                   1  \n",
              "visa_or_mastercard                         1  \n",
              "why_verify_identity                        1  \n",
              "wrong_amount_of_cash_received              1  \n",
              "wrong_exchange_rate_for_cash_withdrawal    1  \n",
              "\n",
              "[77 rows x 4 columns]"
            ],
            "text/html": [
              "\n",
              "  <div id=\"df-81232dac-2700-4060-ad25-b5105e4124cc\">\n",
              "    <div class=\"colab-df-container\">\n",
              "      <div>\n",
              "<style scoped>\n",
              "    .dataframe tbody tr th:only-of-type {\n",
              "        vertical-align: middle;\n",
              "    }\n",
              "\n",
              "    .dataframe tbody tr th {\n",
              "        vertical-align: top;\n",
              "    }\n",
              "\n",
              "    .dataframe thead tr th {\n",
              "        text-align: left;\n",
              "    }\n",
              "\n",
              "    .dataframe thead tr:last-of-type th {\n",
              "        text-align: right;\n",
              "    }\n",
              "</style>\n",
              "<table border=\"1\" class=\"dataframe\">\n",
              "  <thead>\n",
              "    <tr>\n",
              "      <th></th>\n",
              "      <th colspan=\"4\" halign=\"left\">utterance</th>\n",
              "    </tr>\n",
              "    <tr>\n",
              "      <th></th>\n",
              "      <th>count</th>\n",
              "      <th>unique</th>\n",
              "      <th>top</th>\n",
              "      <th>freq</th>\n",
              "    </tr>\n",
              "    <tr>\n",
              "      <th>intent</th>\n",
              "      <th></th>\n",
              "      <th></th>\n",
              "      <th></th>\n",
              "      <th></th>\n",
              "    </tr>\n",
              "  </thead>\n",
              "  <tbody>\n",
              "    <tr>\n",
              "      <th>Refund_not_showing_up</th>\n",
              "      <td>143</td>\n",
              "      <td>143</td>\n",
              "      <td>i don't see my refund money yet in my account....</td>\n",
              "      <td>1</td>\n",
              "    </tr>\n",
              "    <tr>\n",
              "      <th>activate_my_card</th>\n",
              "      <td>141</td>\n",
              "      <td>141</td>\n",
              "      <td>please help me with my card.  it won't activate.</td>\n",
              "      <td>1</td>\n",
              "    </tr>\n",
              "    <tr>\n",
              "      <th>age_limit</th>\n",
              "      <td>92</td>\n",
              "      <td>92</td>\n",
              "      <td>how old do you need to be to use the banks ser...</td>\n",
              "      <td>1</td>\n",
              "    </tr>\n",
              "    <tr>\n",
              "      <th>apple_pay_or_google_pay</th>\n",
              "      <td>108</td>\n",
              "      <td>108</td>\n",
              "      <td>hi, i have an apple watch. how do i use it to ...</td>\n",
              "      <td>1</td>\n",
              "    </tr>\n",
              "    <tr>\n",
              "      <th>atm_support</th>\n",
              "      <td>68</td>\n",
              "      <td>68</td>\n",
              "      <td>i can use this card at which atms?</td>\n",
              "      <td>1</td>\n",
              "    </tr>\n",
              "    <tr>\n",
              "      <th>...</th>\n",
              "      <td>...</td>\n",
              "      <td>...</td>\n",
              "      <td>...</td>\n",
              "      <td>...</td>\n",
              "    </tr>\n",
              "    <tr>\n",
              "      <th>virtual_card_not_working</th>\n",
              "      <td>32</td>\n",
              "      <td>32</td>\n",
              "      <td>why isn't my disposable virtual card working?</td>\n",
              "      <td>1</td>\n",
              "    </tr>\n",
              "    <tr>\n",
              "      <th>visa_or_mastercard</th>\n",
              "      <td>115</td>\n",
              "      <td>115</td>\n",
              "      <td>is there a way i can have a mastercard?</td>\n",
              "      <td>1</td>\n",
              "    </tr>\n",
              "    <tr>\n",
              "      <th>why_verify_identity</th>\n",
              "      <td>102</td>\n",
              "      <td>102</td>\n",
              "      <td>why do you have an identity check?</td>\n",
              "      <td>1</td>\n",
              "    </tr>\n",
              "    <tr>\n",
              "      <th>wrong_amount_of_cash_received</th>\n",
              "      <td>160</td>\n",
              "      <td>160</td>\n",
              "      <td>why did i only receive a partial amount of wha...</td>\n",
              "      <td>1</td>\n",
              "    </tr>\n",
              "    <tr>\n",
              "      <th>wrong_exchange_rate_for_cash_withdrawal</th>\n",
              "      <td>145</td>\n",
              "      <td>145</td>\n",
              "      <td>the wrong exchange rate was applied to me whil...</td>\n",
              "      <td>1</td>\n",
              "    </tr>\n",
              "  </tbody>\n",
              "</table>\n",
              "<p>77 rows × 4 columns</p>\n",
              "</div>\n",
              "      <button class=\"colab-df-convert\" onclick=\"convertToInteractive('df-81232dac-2700-4060-ad25-b5105e4124cc')\"\n",
              "              title=\"Convert this dataframe to an interactive table.\"\n",
              "              style=\"display:none;\">\n",
              "        \n",
              "  <svg xmlns=\"http://www.w3.org/2000/svg\" height=\"24px\"viewBox=\"0 0 24 24\"\n",
              "       width=\"24px\">\n",
              "    <path d=\"M0 0h24v24H0V0z\" fill=\"none\"/>\n",
              "    <path d=\"M18.56 5.44l.94 2.06.94-2.06 2.06-.94-2.06-.94-.94-2.06-.94 2.06-2.06.94zm-11 1L8.5 8.5l.94-2.06 2.06-.94-2.06-.94L8.5 2.5l-.94 2.06-2.06.94zm10 10l.94 2.06.94-2.06 2.06-.94-2.06-.94-.94-2.06-.94 2.06-2.06.94z\"/><path d=\"M17.41 7.96l-1.37-1.37c-.4-.4-.92-.59-1.43-.59-.52 0-1.04.2-1.43.59L10.3 9.45l-7.72 7.72c-.78.78-.78 2.05 0 2.83L4 21.41c.39.39.9.59 1.41.59.51 0 1.02-.2 1.41-.59l7.78-7.78 2.81-2.81c.8-.78.8-2.07 0-2.86zM5.41 20L4 18.59l7.72-7.72 1.47 1.35L5.41 20z\"/>\n",
              "  </svg>\n",
              "      </button>\n",
              "      \n",
              "  <style>\n",
              "    .colab-df-container {\n",
              "      display:flex;\n",
              "      flex-wrap:wrap;\n",
              "      gap: 12px;\n",
              "    }\n",
              "\n",
              "    .colab-df-convert {\n",
              "      background-color: #E8F0FE;\n",
              "      border: none;\n",
              "      border-radius: 50%;\n",
              "      cursor: pointer;\n",
              "      display: none;\n",
              "      fill: #1967D2;\n",
              "      height: 32px;\n",
              "      padding: 0 0 0 0;\n",
              "      width: 32px;\n",
              "    }\n",
              "\n",
              "    .colab-df-convert:hover {\n",
              "      background-color: #E2EBFA;\n",
              "      box-shadow: 0px 1px 2px rgba(60, 64, 67, 0.3), 0px 1px 3px 1px rgba(60, 64, 67, 0.15);\n",
              "      fill: #174EA6;\n",
              "    }\n",
              "\n",
              "    [theme=dark] .colab-df-convert {\n",
              "      background-color: #3B4455;\n",
              "      fill: #D2E3FC;\n",
              "    }\n",
              "\n",
              "    [theme=dark] .colab-df-convert:hover {\n",
              "      background-color: #434B5C;\n",
              "      box-shadow: 0px 1px 3px 1px rgba(0, 0, 0, 0.15);\n",
              "      filter: drop-shadow(0px 1px 2px rgba(0, 0, 0, 0.3));\n",
              "      fill: #FFFFFF;\n",
              "    }\n",
              "  </style>\n",
              "\n",
              "      <script>\n",
              "        const buttonEl =\n",
              "          document.querySelector('#df-81232dac-2700-4060-ad25-b5105e4124cc button.colab-df-convert');\n",
              "        buttonEl.style.display =\n",
              "          google.colab.kernel.accessAllowed ? 'block' : 'none';\n",
              "\n",
              "        async function convertToInteractive(key) {\n",
              "          const element = document.querySelector('#df-81232dac-2700-4060-ad25-b5105e4124cc');\n",
              "          const dataTable =\n",
              "            await google.colab.kernel.invokeFunction('convertToInteractive',\n",
              "                                                     [key], {});\n",
              "          if (!dataTable) return;\n",
              "\n",
              "          const docLinkHtml = 'Like what you see? Visit the ' +\n",
              "            '<a target=\"_blank\" href=https://colab.research.google.com/notebooks/data_table.ipynb>data table notebook</a>'\n",
              "            + ' to learn more about interactive tables.';\n",
              "          element.innerHTML = '';\n",
              "          dataTable['output_type'] = 'display_data';\n",
              "          await google.colab.output.renderOutput(dataTable, element);\n",
              "          const docLink = document.createElement('div');\n",
              "          docLink.innerHTML = docLinkHtml;\n",
              "          element.appendChild(docLink);\n",
              "        }\n",
              "      </script>\n",
              "    </div>\n",
              "  </div>\n",
              "  "
            ]
          },
          "metadata": {},
          "execution_count": 84
        }
      ]
    },
    {
      "cell_type": "code",
      "source": [
        "#Look for missing intents\n",
        "utterances['intent'].isnull().sum()"
      ],
      "metadata": {
        "id": "9uCJzraI7cJN",
        "colab": {
          "base_uri": "https://localhost:8080/"
        },
        "outputId": "1350ffbf-d2a7-4eda-e1f3-491ce1630dd8"
      },
      "execution_count": 85,
      "outputs": [
        {
          "output_type": "execute_result",
          "data": {
            "text/plain": [
              "0"
            ]
          },
          "metadata": {},
          "execution_count": 85
        }
      ]
    },
    {
      "cell_type": "markdown",
      "source": [
        "### Data Pre-processing.\n",
        "- Spelling correction.\n",
        "- Remove Punctuation.\n",
        "- Remove stop words.\n",
        "- Tokenization.\n",
        "- Lemmatization.\n"
      ],
      "metadata": {
        "id": "imPvzQxJuvlJ"
      }
    },
    {
      "cell_type": "code",
      "source": [
        "! pip install -U symspellpy"
      ],
      "metadata": {
        "id": "pp4M69_7cCDx",
        "colab": {
          "base_uri": "https://localhost:8080/"
        },
        "outputId": "d11f3190-9253-488d-d6d9-24875ceceb0d"
      },
      "execution_count": 86,
      "outputs": [
        {
          "output_type": "stream",
          "name": "stdout",
          "text": [
            "Looking in indexes: https://pypi.org/simple, https://us-python.pkg.dev/colab-wheels/public/simple/\n",
            "Requirement already satisfied: symspellpy in /usr/local/lib/python3.8/dist-packages (6.7.7)\n",
            "Requirement already satisfied: editdistpy>=0.1.3 in /usr/local/lib/python3.8/dist-packages (from symspellpy) (0.1.3)\n"
          ]
        }
      ]
    },
    {
      "cell_type": "code",
      "source": [
        "\"\"\"\n",
        "\n",
        "Spelling correction using Symspell.\n",
        "\n",
        "\n",
        "\"\"\"\n",
        "from symspellpy import SymSpell\n",
        "import pkg_resources\n",
        "from itertools import islice\n",
        "\n",
        "sym_spell = SymSpell(max_dictionary_edit_distance=2, prefix_length=7)\n",
        "\n",
        "dictionary_path = pkg_resources.resource_filename(\"symspellpy\", \"frequency_dictionary_en_82_765.txt\")\n",
        "bigram_path = pkg_resources.resource_filename(\"symspellpy\", \"frequency_bigramdictionary_en_243_342.txt\")\n",
        "\n",
        "# term_index is the column of the term and count_index is the\n",
        "# column of the term frequency\n",
        "sym_spell.load_dictionary(dictionary_path, term_index=0, count_index=1)\n",
        "sym_spell.load_bigram_dictionary(bigram_path, term_index=0, count_index=2)\n",
        "\n",
        "# Print out first 5 elements to demonstrate that dictionary is\n",
        "# successfully loaded\n",
        "print(list(islice(sym_spell.bigrams.items(), 5)))\n",
        "print(list(islice(sym_spell.words.items(), 5)))\n",
        "\n",
        "# lookup suggestions for multi-word input strings (supports compound\n",
        "# splitting & merging)\n",
        "input_term = (\n",
        "    \"how do i loacte my card?\"\n",
        ")\n",
        "# max edit distance per lookup (per single word, not per whole input string)\n",
        "suggestions = sym_spell.lookup_compound(input_term, max_edit_distance=2)\n",
        "# display suggestion term, edit distance, and term frequency\n",
        "for suggestion in suggestions:\n",
        "    print(suggestion)\n",
        "\n",
        "def correction(input_term, max_edit_distance=2):\n",
        "  suggestions = sym_spell.lookup_compound(input_term, max_edit_distance=2)\n",
        "  #for suggestion in suggestions:\n",
        "  #  print(suggestion.term)\n",
        "  return suggestions[0].term"
      ],
      "metadata": {
        "id": "WAhixI0Ev7HQ",
        "colab": {
          "base_uri": "https://localhost:8080/"
        },
        "outputId": "72aac8f6-ad22-42e1-8be7-d9bba133c26a"
      },
      "execution_count": 87,
      "outputs": [
        {
          "output_type": "stream",
          "name": "stdout",
          "text": [
            "[('abcs of', 10956800), ('aaron and', 10721728), ('abbott and', 7861376), ('abbreviations and', 13518272), ('aberdeen and', 7347776)]\n",
            "[('the', 23135851162), ('of', 13151942776), ('and', 12997637966), ('to', 12136980858), ('a', 9081174698)]\n",
            "how do i locate my card, 2, 0\n"
          ]
        }
      ]
    },
    {
      "cell_type": "code",
      "source": [
        "# call the function\n",
        "\n",
        "corrected_utterances = []\n",
        "\n",
        "for t in utterances['utterance']:\n",
        "    corrected_utterances.append(correction(t)) \n",
        "\n",
        "corrected_utterances[:5]\n",
        "utterances['utterance'] = corrected_utterances\n",
        "utterances.head()"
      ],
      "metadata": {
        "id": "6sFNsLvX3r88",
        "colab": {
          "base_uri": "https://localhost:8080/",
          "height": 206
        },
        "outputId": "e97c0090-582b-4b77-91d7-997ba117bf9c"
      },
      "execution_count": 88,
      "outputs": [
        {
          "output_type": "execute_result",
          "data": {
            "text/plain": [
              "                                           utterance        intent\n",
              "0                      i am still waiting on my card  card_arrival\n",
              "1  what can i do if my card still hasn't arrived ...  card_arrival\n",
              "2  i have been waiting over a week is the card st...  card_arrival\n",
              "3  can i track my card while it is in the process...  card_arrival\n",
              "4  how do i know if i will get my card or if it i...  card_arrival"
            ],
            "text/html": [
              "\n",
              "  <div id=\"df-1b9a150f-8c6c-494c-8bbf-1e176b60febd\">\n",
              "    <div class=\"colab-df-container\">\n",
              "      <div>\n",
              "<style scoped>\n",
              "    .dataframe tbody tr th:only-of-type {\n",
              "        vertical-align: middle;\n",
              "    }\n",
              "\n",
              "    .dataframe tbody tr th {\n",
              "        vertical-align: top;\n",
              "    }\n",
              "\n",
              "    .dataframe thead th {\n",
              "        text-align: right;\n",
              "    }\n",
              "</style>\n",
              "<table border=\"1\" class=\"dataframe\">\n",
              "  <thead>\n",
              "    <tr style=\"text-align: right;\">\n",
              "      <th></th>\n",
              "      <th>utterance</th>\n",
              "      <th>intent</th>\n",
              "    </tr>\n",
              "  </thead>\n",
              "  <tbody>\n",
              "    <tr>\n",
              "      <th>0</th>\n",
              "      <td>i am still waiting on my card</td>\n",
              "      <td>card_arrival</td>\n",
              "    </tr>\n",
              "    <tr>\n",
              "      <th>1</th>\n",
              "      <td>what can i do if my card still hasn't arrived ...</td>\n",
              "      <td>card_arrival</td>\n",
              "    </tr>\n",
              "    <tr>\n",
              "      <th>2</th>\n",
              "      <td>i have been waiting over a week is the card st...</td>\n",
              "      <td>card_arrival</td>\n",
              "    </tr>\n",
              "    <tr>\n",
              "      <th>3</th>\n",
              "      <td>can i track my card while it is in the process...</td>\n",
              "      <td>card_arrival</td>\n",
              "    </tr>\n",
              "    <tr>\n",
              "      <th>4</th>\n",
              "      <td>how do i know if i will get my card or if it i...</td>\n",
              "      <td>card_arrival</td>\n",
              "    </tr>\n",
              "  </tbody>\n",
              "</table>\n",
              "</div>\n",
              "      <button class=\"colab-df-convert\" onclick=\"convertToInteractive('df-1b9a150f-8c6c-494c-8bbf-1e176b60febd')\"\n",
              "              title=\"Convert this dataframe to an interactive table.\"\n",
              "              style=\"display:none;\">\n",
              "        \n",
              "  <svg xmlns=\"http://www.w3.org/2000/svg\" height=\"24px\"viewBox=\"0 0 24 24\"\n",
              "       width=\"24px\">\n",
              "    <path d=\"M0 0h24v24H0V0z\" fill=\"none\"/>\n",
              "    <path d=\"M18.56 5.44l.94 2.06.94-2.06 2.06-.94-2.06-.94-.94-2.06-.94 2.06-2.06.94zm-11 1L8.5 8.5l.94-2.06 2.06-.94-2.06-.94L8.5 2.5l-.94 2.06-2.06.94zm10 10l.94 2.06.94-2.06 2.06-.94-2.06-.94-.94-2.06-.94 2.06-2.06.94z\"/><path d=\"M17.41 7.96l-1.37-1.37c-.4-.4-.92-.59-1.43-.59-.52 0-1.04.2-1.43.59L10.3 9.45l-7.72 7.72c-.78.78-.78 2.05 0 2.83L4 21.41c.39.39.9.59 1.41.59.51 0 1.02-.2 1.41-.59l7.78-7.78 2.81-2.81c.8-.78.8-2.07 0-2.86zM5.41 20L4 18.59l7.72-7.72 1.47 1.35L5.41 20z\"/>\n",
              "  </svg>\n",
              "      </button>\n",
              "      \n",
              "  <style>\n",
              "    .colab-df-container {\n",
              "      display:flex;\n",
              "      flex-wrap:wrap;\n",
              "      gap: 12px;\n",
              "    }\n",
              "\n",
              "    .colab-df-convert {\n",
              "      background-color: #E8F0FE;\n",
              "      border: none;\n",
              "      border-radius: 50%;\n",
              "      cursor: pointer;\n",
              "      display: none;\n",
              "      fill: #1967D2;\n",
              "      height: 32px;\n",
              "      padding: 0 0 0 0;\n",
              "      width: 32px;\n",
              "    }\n",
              "\n",
              "    .colab-df-convert:hover {\n",
              "      background-color: #E2EBFA;\n",
              "      box-shadow: 0px 1px 2px rgba(60, 64, 67, 0.3), 0px 1px 3px 1px rgba(60, 64, 67, 0.15);\n",
              "      fill: #174EA6;\n",
              "    }\n",
              "\n",
              "    [theme=dark] .colab-df-convert {\n",
              "      background-color: #3B4455;\n",
              "      fill: #D2E3FC;\n",
              "    }\n",
              "\n",
              "    [theme=dark] .colab-df-convert:hover {\n",
              "      background-color: #434B5C;\n",
              "      box-shadow: 0px 1px 3px 1px rgba(0, 0, 0, 0.15);\n",
              "      filter: drop-shadow(0px 1px 2px rgba(0, 0, 0, 0.3));\n",
              "      fill: #FFFFFF;\n",
              "    }\n",
              "  </style>\n",
              "\n",
              "      <script>\n",
              "        const buttonEl =\n",
              "          document.querySelector('#df-1b9a150f-8c6c-494c-8bbf-1e176b60febd button.colab-df-convert');\n",
              "        buttonEl.style.display =\n",
              "          google.colab.kernel.accessAllowed ? 'block' : 'none';\n",
              "\n",
              "        async function convertToInteractive(key) {\n",
              "          const element = document.querySelector('#df-1b9a150f-8c6c-494c-8bbf-1e176b60febd');\n",
              "          const dataTable =\n",
              "            await google.colab.kernel.invokeFunction('convertToInteractive',\n",
              "                                                     [key], {});\n",
              "          if (!dataTable) return;\n",
              "\n",
              "          const docLinkHtml = 'Like what you see? Visit the ' +\n",
              "            '<a target=\"_blank\" href=https://colab.research.google.com/notebooks/data_table.ipynb>data table notebook</a>'\n",
              "            + ' to learn more about interactive tables.';\n",
              "          element.innerHTML = '';\n",
              "          dataTable['output_type'] = 'display_data';\n",
              "          await google.colab.output.renderOutput(dataTable, element);\n",
              "          const docLink = document.createElement('div');\n",
              "          docLink.innerHTML = docLinkHtml;\n",
              "          element.appendChild(docLink);\n",
              "        }\n",
              "      </script>\n",
              "    </div>\n",
              "  </div>\n",
              "  "
            ]
          },
          "metadata": {},
          "execution_count": 88
        }
      ]
    },
    {
      "cell_type": "code",
      "source": [
        "from nltk.corpus import stopwords\n",
        "import re\n",
        "\n",
        "import nltk\n",
        "nltk.download('stopwords')"
      ],
      "metadata": {
        "id": "-YDEXs7y2ARt",
        "colab": {
          "base_uri": "https://localhost:8080/"
        },
        "outputId": "6eb9cb3a-aebb-4123-89ea-4d7d8ae56f84"
      },
      "execution_count": 89,
      "outputs": [
        {
          "output_type": "stream",
          "name": "stderr",
          "text": [
            "[nltk_data] Downloading package stopwords to /root/nltk_data...\n",
            "[nltk_data]   Package stopwords is already up-to-date!\n"
          ]
        },
        {
          "output_type": "execute_result",
          "data": {
            "text/plain": [
              "True"
            ]
          },
          "metadata": {},
          "execution_count": 89
        }
      ]
    },
    {
      "cell_type": "code",
      "source": [
        "contraction_mapping = {\"ain't\": \"is not\", \"aren't\": \"are not\",\"can't\": \"cannot\", \"'cause\": \"because\", \"could've\": \"could have\", \"couldn't\": \"could not\",\n",
        "                           \"didn't\": \"did not\",  \"doesn't\": \"does not\", \"don't\": \"do not\", \"hadn't\": \"had not\", \"hasn't\": \"has not\", \"haven't\": \"have not\",\n",
        "                           \"he'd\": \"he would\",\"he'll\": \"he will\", \"he's\": \"he is\", \"how'd\": \"how did\", \"how'd'y\": \"how do you\", \"how'll\": \"how will\", \"how's\": \"how is\",\n",
        "                           \"I'd\": \"I would\", \"I'd've\": \"I would have\", \"I'll\": \"I will\", \"I'll've\": \"I will have\",\"I'm\": \"I am\", \"I've\": \"I have\", \"i'd\": \"i would\",\n",
        "                           \"i'd've\": \"i would have\", \"i'll\": \"i will\",  \"i'll've\": \"i will have\",\"i'm\": \"i am\", \"i've\": \"i have\", \"isn't\": \"is not\", \"it'd\": \"it would\",\n",
        "                           \"it'd've\": \"it would have\", \"it'll\": \"it will\", \"it'll've\": \"it will have\",\"it's\": \"it is\", \"let's\": \"let us\", \"ma'am\": \"madam\",\n",
        "                           \"mayn't\": \"may not\", \"might've\": \"might have\",\"mightn't\": \"might not\",\"mightn't've\": \"might not have\", \"must've\": \"must have\",\n",
        "                           \"mustn't\": \"must not\", \"mustn't've\": \"must not have\", \"needn't\": \"need not\", \"needn't've\": \"need not have\",\"o'clock\": \"of the clock\",\n",
        "                           \"oughtn't\": \"ought not\", \"oughtn't've\": \"ought not have\", \"shan't\": \"shall not\", \"sha'n't\": \"shall not\", \"shan't've\": \"shall not have\",\n",
        "                           \"she'd\": \"she would\", \"she'd've\": \"she would have\", \"she'll\": \"she will\", \"she'll've\": \"she will have\", \"she's\": \"she is\",\n",
        "                           \"should've\": \"should have\", \"shouldn't\": \"should not\", \"shouldn't've\": \"should not have\", \"so've\": \"so have\",\"so's\": \"so as\",\n",
        "                           \"this's\": \"this is\",\"that'd\": \"that would\", \"that'd've\": \"that would have\", \"that's\": \"that is\", \"there'd\": \"there would\",\n",
        "                           \"there'd've\": \"there would have\", \"there's\": \"there is\", \"here's\": \"here is\",\"they'd\": \"they would\", \"they'd've\": \"they would have\",\n",
        "                           \"they'll\": \"they will\", \"they'll've\": \"they will have\", \"they're\": \"they are\", \"they've\": \"they have\", \"to've\": \"to have\",\n",
        "                           \"wasn't\": \"was not\", \"we'd\": \"we would\", \"we'd've\": \"we would have\", \"we'll\": \"we will\", \"we'll've\": \"we will have\", \"we're\": \"we are\",\n",
        "                           \"we've\": \"we have\", \"weren't\": \"were not\", \"what'll\": \"what will\", \"what'll've\": \"what will have\", \"what're\": \"what are\",\n",
        "                           \"what's\": \"what is\", \"what've\": \"what have\", \"when's\": \"when is\", \"when've\": \"when have\", \"where'd\": \"where did\", \"where's\": \"where is\",\n",
        "                           \"where've\": \"where have\", \"who'll\": \"who will\", \"who'll've\": \"who will have\", \"who's\": \"who is\", \"who've\": \"who have\",\n",
        "                           \"why's\": \"why is\", \"why've\": \"why have\", \"will've\": \"will have\", \"won't\": \"will not\", \"won't've\": \"will not have\",\n",
        "                           \"would've\": \"would have\", \"wouldn't\": \"would not\", \"wouldn't've\": \"would not have\", \"y'all\": \"you all\",\n",
        "                           \"y'all'd\": \"you all would\",\"y'all'd've\": \"you all would have\",\"y'all're\": \"you all are\",\"y'all've\": \"you all have\",\n",
        "                           \"you'd\": \"you would\", \"you'd've\": \"you would have\", \"you'll\": \"you will\", \"you'll've\": \"you will have\",\n",
        "                           \"you're\": \"you are\", \"you've\": \"you have\"}"
      ],
      "metadata": {
        "id": "u5gCpWP011Sm"
      },
      "execution_count": 90,
      "outputs": []
    },
    {
      "cell_type": "code",
      "source": [
        "stop_words = set(stopwords.words('english')) \n",
        "\n",
        "def text_cleaner(text):\n",
        "    newString = text.lower()\n",
        "    newString = re.sub(r'\\([^)]*\\)', '', newString)   # removing special characters\n",
        "    newString = re.sub('\"','', newString)              # removing '\"' \n",
        "    newString = ' '.join([contraction_mapping[t] if t in contraction_mapping else t for t in newString.split(\" \")])    # replacing slangs\n",
        "    newString = re.sub(r\"'s\\b\",\"\",newString)    # replacing 's with \"\" '\n",
        "    newString = re.sub(\"[^a-z]\", \" \", newString)    #only keeping letters\n",
        "    newString = re.sub('[m]{2,}', 'mm', newString)    # \"mmmmmm\" -> \"mm\"\n",
        "        \n",
        "    tokens = [w for w in newString.split() if not w in stop_words]     # removing the stopwords\n",
        "\n",
        "    long_words=[]\n",
        "    for i in tokens:\n",
        "        if len(i)>1:                               #removing short word\n",
        "            long_words.append(i)   \n",
        "    return (\" \".join(long_words)).strip()"
      ],
      "metadata": {
        "id": "90diMBdk4mgi"
      },
      "execution_count": 91,
      "outputs": []
    },
    {
      "cell_type": "code",
      "source": [
        "#call the function\n",
        "cleaned_text = []\n",
        "for t in utterances['utterance']:\n",
        "    cleaned_text.append(text_cleaner(t)) \n",
        "\n",
        "cleaned_text[:5]  "
      ],
      "metadata": {
        "id": "oYtB4FIE3olQ",
        "colab": {
          "base_uri": "https://localhost:8080/"
        },
        "outputId": "4999f17a-b098-4ef4-a889-d31d2c593c11"
      },
      "execution_count": 92,
      "outputs": [
        {
          "output_type": "execute_result",
          "data": {
            "text/plain": [
              "['still waiting card',\n",
              " 'card still arrived weeks',\n",
              " 'waiting week card still coming',\n",
              " 'track card process delivery',\n",
              " 'know get card lost']"
            ]
          },
          "metadata": {},
          "execution_count": 92
        }
      ]
    },
    {
      "cell_type": "code",
      "source": [
        "utterances['cleaned_utterance'] = cleaned_text\n",
        "utterances.head()"
      ],
      "metadata": {
        "id": "V9z8kYpLDOr6",
        "colab": {
          "base_uri": "https://localhost:8080/",
          "height": 206
        },
        "outputId": "af243298-a967-44a5-cd60-96a32476d5b5"
      },
      "execution_count": 93,
      "outputs": [
        {
          "output_type": "execute_result",
          "data": {
            "text/plain": [
              "                                           utterance        intent  \\\n",
              "0                      i am still waiting on my card  card_arrival   \n",
              "1  what can i do if my card still hasn't arrived ...  card_arrival   \n",
              "2  i have been waiting over a week is the card st...  card_arrival   \n",
              "3  can i track my card while it is in the process...  card_arrival   \n",
              "4  how do i know if i will get my card or if it i...  card_arrival   \n",
              "\n",
              "                cleaned_utterance  \n",
              "0              still waiting card  \n",
              "1        card still arrived weeks  \n",
              "2  waiting week card still coming  \n",
              "3     track card process delivery  \n",
              "4              know get card lost  "
            ],
            "text/html": [
              "\n",
              "  <div id=\"df-a80544bb-a83a-4ab3-86c7-d5886e69636e\">\n",
              "    <div class=\"colab-df-container\">\n",
              "      <div>\n",
              "<style scoped>\n",
              "    .dataframe tbody tr th:only-of-type {\n",
              "        vertical-align: middle;\n",
              "    }\n",
              "\n",
              "    .dataframe tbody tr th {\n",
              "        vertical-align: top;\n",
              "    }\n",
              "\n",
              "    .dataframe thead th {\n",
              "        text-align: right;\n",
              "    }\n",
              "</style>\n",
              "<table border=\"1\" class=\"dataframe\">\n",
              "  <thead>\n",
              "    <tr style=\"text-align: right;\">\n",
              "      <th></th>\n",
              "      <th>utterance</th>\n",
              "      <th>intent</th>\n",
              "      <th>cleaned_utterance</th>\n",
              "    </tr>\n",
              "  </thead>\n",
              "  <tbody>\n",
              "    <tr>\n",
              "      <th>0</th>\n",
              "      <td>i am still waiting on my card</td>\n",
              "      <td>card_arrival</td>\n",
              "      <td>still waiting card</td>\n",
              "    </tr>\n",
              "    <tr>\n",
              "      <th>1</th>\n",
              "      <td>what can i do if my card still hasn't arrived ...</td>\n",
              "      <td>card_arrival</td>\n",
              "      <td>card still arrived weeks</td>\n",
              "    </tr>\n",
              "    <tr>\n",
              "      <th>2</th>\n",
              "      <td>i have been waiting over a week is the card st...</td>\n",
              "      <td>card_arrival</td>\n",
              "      <td>waiting week card still coming</td>\n",
              "    </tr>\n",
              "    <tr>\n",
              "      <th>3</th>\n",
              "      <td>can i track my card while it is in the process...</td>\n",
              "      <td>card_arrival</td>\n",
              "      <td>track card process delivery</td>\n",
              "    </tr>\n",
              "    <tr>\n",
              "      <th>4</th>\n",
              "      <td>how do i know if i will get my card or if it i...</td>\n",
              "      <td>card_arrival</td>\n",
              "      <td>know get card lost</td>\n",
              "    </tr>\n",
              "  </tbody>\n",
              "</table>\n",
              "</div>\n",
              "      <button class=\"colab-df-convert\" onclick=\"convertToInteractive('df-a80544bb-a83a-4ab3-86c7-d5886e69636e')\"\n",
              "              title=\"Convert this dataframe to an interactive table.\"\n",
              "              style=\"display:none;\">\n",
              "        \n",
              "  <svg xmlns=\"http://www.w3.org/2000/svg\" height=\"24px\"viewBox=\"0 0 24 24\"\n",
              "       width=\"24px\">\n",
              "    <path d=\"M0 0h24v24H0V0z\" fill=\"none\"/>\n",
              "    <path d=\"M18.56 5.44l.94 2.06.94-2.06 2.06-.94-2.06-.94-.94-2.06-.94 2.06-2.06.94zm-11 1L8.5 8.5l.94-2.06 2.06-.94-2.06-.94L8.5 2.5l-.94 2.06-2.06.94zm10 10l.94 2.06.94-2.06 2.06-.94-2.06-.94-.94-2.06-.94 2.06-2.06.94z\"/><path d=\"M17.41 7.96l-1.37-1.37c-.4-.4-.92-.59-1.43-.59-.52 0-1.04.2-1.43.59L10.3 9.45l-7.72 7.72c-.78.78-.78 2.05 0 2.83L4 21.41c.39.39.9.59 1.41.59.51 0 1.02-.2 1.41-.59l7.78-7.78 2.81-2.81c.8-.78.8-2.07 0-2.86zM5.41 20L4 18.59l7.72-7.72 1.47 1.35L5.41 20z\"/>\n",
              "  </svg>\n",
              "      </button>\n",
              "      \n",
              "  <style>\n",
              "    .colab-df-container {\n",
              "      display:flex;\n",
              "      flex-wrap:wrap;\n",
              "      gap: 12px;\n",
              "    }\n",
              "\n",
              "    .colab-df-convert {\n",
              "      background-color: #E8F0FE;\n",
              "      border: none;\n",
              "      border-radius: 50%;\n",
              "      cursor: pointer;\n",
              "      display: none;\n",
              "      fill: #1967D2;\n",
              "      height: 32px;\n",
              "      padding: 0 0 0 0;\n",
              "      width: 32px;\n",
              "    }\n",
              "\n",
              "    .colab-df-convert:hover {\n",
              "      background-color: #E2EBFA;\n",
              "      box-shadow: 0px 1px 2px rgba(60, 64, 67, 0.3), 0px 1px 3px 1px rgba(60, 64, 67, 0.15);\n",
              "      fill: #174EA6;\n",
              "    }\n",
              "\n",
              "    [theme=dark] .colab-df-convert {\n",
              "      background-color: #3B4455;\n",
              "      fill: #D2E3FC;\n",
              "    }\n",
              "\n",
              "    [theme=dark] .colab-df-convert:hover {\n",
              "      background-color: #434B5C;\n",
              "      box-shadow: 0px 1px 3px 1px rgba(0, 0, 0, 0.15);\n",
              "      filter: drop-shadow(0px 1px 2px rgba(0, 0, 0, 0.3));\n",
              "      fill: #FFFFFF;\n",
              "    }\n",
              "  </style>\n",
              "\n",
              "      <script>\n",
              "        const buttonEl =\n",
              "          document.querySelector('#df-a80544bb-a83a-4ab3-86c7-d5886e69636e button.colab-df-convert');\n",
              "        buttonEl.style.display =\n",
              "          google.colab.kernel.accessAllowed ? 'block' : 'none';\n",
              "\n",
              "        async function convertToInteractive(key) {\n",
              "          const element = document.querySelector('#df-a80544bb-a83a-4ab3-86c7-d5886e69636e');\n",
              "          const dataTable =\n",
              "            await google.colab.kernel.invokeFunction('convertToInteractive',\n",
              "                                                     [key], {});\n",
              "          if (!dataTable) return;\n",
              "\n",
              "          const docLinkHtml = 'Like what you see? Visit the ' +\n",
              "            '<a target=\"_blank\" href=https://colab.research.google.com/notebooks/data_table.ipynb>data table notebook</a>'\n",
              "            + ' to learn more about interactive tables.';\n",
              "          element.innerHTML = '';\n",
              "          dataTable['output_type'] = 'display_data';\n",
              "          await google.colab.output.renderOutput(dataTable, element);\n",
              "          const docLink = document.createElement('div');\n",
              "          docLink.innerHTML = docLinkHtml;\n",
              "          element.appendChild(docLink);\n",
              "        }\n",
              "      </script>\n",
              "    </div>\n",
              "  </div>\n",
              "  "
            ]
          },
          "metadata": {},
          "execution_count": 93
        }
      ]
    },
    {
      "cell_type": "code",
      "source": [
        "#Drop empty rows\n",
        "\n",
        "utterances.replace('', np.nan, inplace=True)\n",
        "utterances.dropna(axis=0,inplace=True)\n",
        "\n",
        "utterances.head()"
      ],
      "metadata": {
        "id": "zdMGLG6G4FfF",
        "colab": {
          "base_uri": "https://localhost:8080/",
          "height": 206
        },
        "outputId": "b7266c03-d608-43e0-af3f-c15b70f8976e"
      },
      "execution_count": 94,
      "outputs": [
        {
          "output_type": "execute_result",
          "data": {
            "text/plain": [
              "                                           utterance        intent  \\\n",
              "0                      i am still waiting on my card  card_arrival   \n",
              "1  what can i do if my card still hasn't arrived ...  card_arrival   \n",
              "2  i have been waiting over a week is the card st...  card_arrival   \n",
              "3  can i track my card while it is in the process...  card_arrival   \n",
              "4  how do i know if i will get my card or if it i...  card_arrival   \n",
              "\n",
              "                cleaned_utterance  \n",
              "0              still waiting card  \n",
              "1        card still arrived weeks  \n",
              "2  waiting week card still coming  \n",
              "3     track card process delivery  \n",
              "4              know get card lost  "
            ],
            "text/html": [
              "\n",
              "  <div id=\"df-a6c6ec0c-2b21-4035-aafc-1c5c688be3a1\">\n",
              "    <div class=\"colab-df-container\">\n",
              "      <div>\n",
              "<style scoped>\n",
              "    .dataframe tbody tr th:only-of-type {\n",
              "        vertical-align: middle;\n",
              "    }\n",
              "\n",
              "    .dataframe tbody tr th {\n",
              "        vertical-align: top;\n",
              "    }\n",
              "\n",
              "    .dataframe thead th {\n",
              "        text-align: right;\n",
              "    }\n",
              "</style>\n",
              "<table border=\"1\" class=\"dataframe\">\n",
              "  <thead>\n",
              "    <tr style=\"text-align: right;\">\n",
              "      <th></th>\n",
              "      <th>utterance</th>\n",
              "      <th>intent</th>\n",
              "      <th>cleaned_utterance</th>\n",
              "    </tr>\n",
              "  </thead>\n",
              "  <tbody>\n",
              "    <tr>\n",
              "      <th>0</th>\n",
              "      <td>i am still waiting on my card</td>\n",
              "      <td>card_arrival</td>\n",
              "      <td>still waiting card</td>\n",
              "    </tr>\n",
              "    <tr>\n",
              "      <th>1</th>\n",
              "      <td>what can i do if my card still hasn't arrived ...</td>\n",
              "      <td>card_arrival</td>\n",
              "      <td>card still arrived weeks</td>\n",
              "    </tr>\n",
              "    <tr>\n",
              "      <th>2</th>\n",
              "      <td>i have been waiting over a week is the card st...</td>\n",
              "      <td>card_arrival</td>\n",
              "      <td>waiting week card still coming</td>\n",
              "    </tr>\n",
              "    <tr>\n",
              "      <th>3</th>\n",
              "      <td>can i track my card while it is in the process...</td>\n",
              "      <td>card_arrival</td>\n",
              "      <td>track card process delivery</td>\n",
              "    </tr>\n",
              "    <tr>\n",
              "      <th>4</th>\n",
              "      <td>how do i know if i will get my card or if it i...</td>\n",
              "      <td>card_arrival</td>\n",
              "      <td>know get card lost</td>\n",
              "    </tr>\n",
              "  </tbody>\n",
              "</table>\n",
              "</div>\n",
              "      <button class=\"colab-df-convert\" onclick=\"convertToInteractive('df-a6c6ec0c-2b21-4035-aafc-1c5c688be3a1')\"\n",
              "              title=\"Convert this dataframe to an interactive table.\"\n",
              "              style=\"display:none;\">\n",
              "        \n",
              "  <svg xmlns=\"http://www.w3.org/2000/svg\" height=\"24px\"viewBox=\"0 0 24 24\"\n",
              "       width=\"24px\">\n",
              "    <path d=\"M0 0h24v24H0V0z\" fill=\"none\"/>\n",
              "    <path d=\"M18.56 5.44l.94 2.06.94-2.06 2.06-.94-2.06-.94-.94-2.06-.94 2.06-2.06.94zm-11 1L8.5 8.5l.94-2.06 2.06-.94-2.06-.94L8.5 2.5l-.94 2.06-2.06.94zm10 10l.94 2.06.94-2.06 2.06-.94-2.06-.94-.94-2.06-.94 2.06-2.06.94z\"/><path d=\"M17.41 7.96l-1.37-1.37c-.4-.4-.92-.59-1.43-.59-.52 0-1.04.2-1.43.59L10.3 9.45l-7.72 7.72c-.78.78-.78 2.05 0 2.83L4 21.41c.39.39.9.59 1.41.59.51 0 1.02-.2 1.41-.59l7.78-7.78 2.81-2.81c.8-.78.8-2.07 0-2.86zM5.41 20L4 18.59l7.72-7.72 1.47 1.35L5.41 20z\"/>\n",
              "  </svg>\n",
              "      </button>\n",
              "      \n",
              "  <style>\n",
              "    .colab-df-container {\n",
              "      display:flex;\n",
              "      flex-wrap:wrap;\n",
              "      gap: 12px;\n",
              "    }\n",
              "\n",
              "    .colab-df-convert {\n",
              "      background-color: #E8F0FE;\n",
              "      border: none;\n",
              "      border-radius: 50%;\n",
              "      cursor: pointer;\n",
              "      display: none;\n",
              "      fill: #1967D2;\n",
              "      height: 32px;\n",
              "      padding: 0 0 0 0;\n",
              "      width: 32px;\n",
              "    }\n",
              "\n",
              "    .colab-df-convert:hover {\n",
              "      background-color: #E2EBFA;\n",
              "      box-shadow: 0px 1px 2px rgba(60, 64, 67, 0.3), 0px 1px 3px 1px rgba(60, 64, 67, 0.15);\n",
              "      fill: #174EA6;\n",
              "    }\n",
              "\n",
              "    [theme=dark] .colab-df-convert {\n",
              "      background-color: #3B4455;\n",
              "      fill: #D2E3FC;\n",
              "    }\n",
              "\n",
              "    [theme=dark] .colab-df-convert:hover {\n",
              "      background-color: #434B5C;\n",
              "      box-shadow: 0px 1px 3px 1px rgba(0, 0, 0, 0.15);\n",
              "      filter: drop-shadow(0px 1px 2px rgba(0, 0, 0, 0.3));\n",
              "      fill: #FFFFFF;\n",
              "    }\n",
              "  </style>\n",
              "\n",
              "      <script>\n",
              "        const buttonEl =\n",
              "          document.querySelector('#df-a6c6ec0c-2b21-4035-aafc-1c5c688be3a1 button.colab-df-convert');\n",
              "        buttonEl.style.display =\n",
              "          google.colab.kernel.accessAllowed ? 'block' : 'none';\n",
              "\n",
              "        async function convertToInteractive(key) {\n",
              "          const element = document.querySelector('#df-a6c6ec0c-2b21-4035-aafc-1c5c688be3a1');\n",
              "          const dataTable =\n",
              "            await google.colab.kernel.invokeFunction('convertToInteractive',\n",
              "                                                     [key], {});\n",
              "          if (!dataTable) return;\n",
              "\n",
              "          const docLinkHtml = 'Like what you see? Visit the ' +\n",
              "            '<a target=\"_blank\" href=https://colab.research.google.com/notebooks/data_table.ipynb>data table notebook</a>'\n",
              "            + ' to learn more about interactive tables.';\n",
              "          element.innerHTML = '';\n",
              "          dataTable['output_type'] = 'display_data';\n",
              "          await google.colab.output.renderOutput(dataTable, element);\n",
              "          const docLink = document.createElement('div');\n",
              "          docLink.innerHTML = docLinkHtml;\n",
              "          element.appendChild(docLink);\n",
              "        }\n",
              "      </script>\n",
              "    </div>\n",
              "  </div>\n",
              "  "
            ]
          },
          "metadata": {},
          "execution_count": 94
        }
      ]
    },
    {
      "cell_type": "code",
      "source": [
        "#Lemmatization\n",
        "\n",
        "nltk.download(\"wordnet\")\n",
        "nltk.download('omw-1.4')\n",
        "wordnetLemmatizer = nltk.WordNetLemmatizer()"
      ],
      "metadata": {
        "id": "O7uiVgF44ATN",
        "colab": {
          "base_uri": "https://localhost:8080/"
        },
        "outputId": "1437de7e-249b-4088-81be-89ce7609c12a"
      },
      "execution_count": 95,
      "outputs": [
        {
          "output_type": "stream",
          "name": "stderr",
          "text": [
            "[nltk_data] Downloading package wordnet to /root/nltk_data...\n",
            "[nltk_data]   Package wordnet is already up-to-date!\n",
            "[nltk_data] Downloading package omw-1.4 to /root/nltk_data...\n",
            "[nltk_data]   Package omw-1.4 is already up-to-date!\n"
          ]
        }
      ]
    },
    {
      "cell_type": "code",
      "source": [
        "def lemma(tokenized_text):\n",
        "  text = [wordnetLemmatizer.lemmatize(word) for word in tokenized_text]\n",
        "  return (\" \".join(text)).strip()\n",
        "\n",
        "utterances['lemmatized_utterance'] = utterances['cleaned_utterance'].apply(lambda x: lemma(x.split(\" \")))\n",
        "utterances.head()"
      ],
      "metadata": {
        "id": "uK-KfzRm492B",
        "colab": {
          "base_uri": "https://localhost:8080/",
          "height": 206
        },
        "outputId": "7748cb8b-383e-4546-c78e-33e03ceeec6c"
      },
      "execution_count": 96,
      "outputs": [
        {
          "output_type": "execute_result",
          "data": {
            "text/plain": [
              "                                           utterance        intent  \\\n",
              "0                      i am still waiting on my card  card_arrival   \n",
              "1  what can i do if my card still hasn't arrived ...  card_arrival   \n",
              "2  i have been waiting over a week is the card st...  card_arrival   \n",
              "3  can i track my card while it is in the process...  card_arrival   \n",
              "4  how do i know if i will get my card or if it i...  card_arrival   \n",
              "\n",
              "                cleaned_utterance            lemmatized_utterance  \n",
              "0              still waiting card              still waiting card  \n",
              "1        card still arrived weeks         card still arrived week  \n",
              "2  waiting week card still coming  waiting week card still coming  \n",
              "3     track card process delivery     track card process delivery  \n",
              "4              know get card lost              know get card lost  "
            ],
            "text/html": [
              "\n",
              "  <div id=\"df-2664fa56-57e5-4b6b-bb5c-8b4f21dcede8\">\n",
              "    <div class=\"colab-df-container\">\n",
              "      <div>\n",
              "<style scoped>\n",
              "    .dataframe tbody tr th:only-of-type {\n",
              "        vertical-align: middle;\n",
              "    }\n",
              "\n",
              "    .dataframe tbody tr th {\n",
              "        vertical-align: top;\n",
              "    }\n",
              "\n",
              "    .dataframe thead th {\n",
              "        text-align: right;\n",
              "    }\n",
              "</style>\n",
              "<table border=\"1\" class=\"dataframe\">\n",
              "  <thead>\n",
              "    <tr style=\"text-align: right;\">\n",
              "      <th></th>\n",
              "      <th>utterance</th>\n",
              "      <th>intent</th>\n",
              "      <th>cleaned_utterance</th>\n",
              "      <th>lemmatized_utterance</th>\n",
              "    </tr>\n",
              "  </thead>\n",
              "  <tbody>\n",
              "    <tr>\n",
              "      <th>0</th>\n",
              "      <td>i am still waiting on my card</td>\n",
              "      <td>card_arrival</td>\n",
              "      <td>still waiting card</td>\n",
              "      <td>still waiting card</td>\n",
              "    </tr>\n",
              "    <tr>\n",
              "      <th>1</th>\n",
              "      <td>what can i do if my card still hasn't arrived ...</td>\n",
              "      <td>card_arrival</td>\n",
              "      <td>card still arrived weeks</td>\n",
              "      <td>card still arrived week</td>\n",
              "    </tr>\n",
              "    <tr>\n",
              "      <th>2</th>\n",
              "      <td>i have been waiting over a week is the card st...</td>\n",
              "      <td>card_arrival</td>\n",
              "      <td>waiting week card still coming</td>\n",
              "      <td>waiting week card still coming</td>\n",
              "    </tr>\n",
              "    <tr>\n",
              "      <th>3</th>\n",
              "      <td>can i track my card while it is in the process...</td>\n",
              "      <td>card_arrival</td>\n",
              "      <td>track card process delivery</td>\n",
              "      <td>track card process delivery</td>\n",
              "    </tr>\n",
              "    <tr>\n",
              "      <th>4</th>\n",
              "      <td>how do i know if i will get my card or if it i...</td>\n",
              "      <td>card_arrival</td>\n",
              "      <td>know get card lost</td>\n",
              "      <td>know get card lost</td>\n",
              "    </tr>\n",
              "  </tbody>\n",
              "</table>\n",
              "</div>\n",
              "      <button class=\"colab-df-convert\" onclick=\"convertToInteractive('df-2664fa56-57e5-4b6b-bb5c-8b4f21dcede8')\"\n",
              "              title=\"Convert this dataframe to an interactive table.\"\n",
              "              style=\"display:none;\">\n",
              "        \n",
              "  <svg xmlns=\"http://www.w3.org/2000/svg\" height=\"24px\"viewBox=\"0 0 24 24\"\n",
              "       width=\"24px\">\n",
              "    <path d=\"M0 0h24v24H0V0z\" fill=\"none\"/>\n",
              "    <path d=\"M18.56 5.44l.94 2.06.94-2.06 2.06-.94-2.06-.94-.94-2.06-.94 2.06-2.06.94zm-11 1L8.5 8.5l.94-2.06 2.06-.94-2.06-.94L8.5 2.5l-.94 2.06-2.06.94zm10 10l.94 2.06.94-2.06 2.06-.94-2.06-.94-.94-2.06-.94 2.06-2.06.94z\"/><path d=\"M17.41 7.96l-1.37-1.37c-.4-.4-.92-.59-1.43-.59-.52 0-1.04.2-1.43.59L10.3 9.45l-7.72 7.72c-.78.78-.78 2.05 0 2.83L4 21.41c.39.39.9.59 1.41.59.51 0 1.02-.2 1.41-.59l7.78-7.78 2.81-2.81c.8-.78.8-2.07 0-2.86zM5.41 20L4 18.59l7.72-7.72 1.47 1.35L5.41 20z\"/>\n",
              "  </svg>\n",
              "      </button>\n",
              "      \n",
              "  <style>\n",
              "    .colab-df-container {\n",
              "      display:flex;\n",
              "      flex-wrap:wrap;\n",
              "      gap: 12px;\n",
              "    }\n",
              "\n",
              "    .colab-df-convert {\n",
              "      background-color: #E8F0FE;\n",
              "      border: none;\n",
              "      border-radius: 50%;\n",
              "      cursor: pointer;\n",
              "      display: none;\n",
              "      fill: #1967D2;\n",
              "      height: 32px;\n",
              "      padding: 0 0 0 0;\n",
              "      width: 32px;\n",
              "    }\n",
              "\n",
              "    .colab-df-convert:hover {\n",
              "      background-color: #E2EBFA;\n",
              "      box-shadow: 0px 1px 2px rgba(60, 64, 67, 0.3), 0px 1px 3px 1px rgba(60, 64, 67, 0.15);\n",
              "      fill: #174EA6;\n",
              "    }\n",
              "\n",
              "    [theme=dark] .colab-df-convert {\n",
              "      background-color: #3B4455;\n",
              "      fill: #D2E3FC;\n",
              "    }\n",
              "\n",
              "    [theme=dark] .colab-df-convert:hover {\n",
              "      background-color: #434B5C;\n",
              "      box-shadow: 0px 1px 3px 1px rgba(0, 0, 0, 0.15);\n",
              "      filter: drop-shadow(0px 1px 2px rgba(0, 0, 0, 0.3));\n",
              "      fill: #FFFFFF;\n",
              "    }\n",
              "  </style>\n",
              "\n",
              "      <script>\n",
              "        const buttonEl =\n",
              "          document.querySelector('#df-2664fa56-57e5-4b6b-bb5c-8b4f21dcede8 button.colab-df-convert');\n",
              "        buttonEl.style.display =\n",
              "          google.colab.kernel.accessAllowed ? 'block' : 'none';\n",
              "\n",
              "        async function convertToInteractive(key) {\n",
              "          const element = document.querySelector('#df-2664fa56-57e5-4b6b-bb5c-8b4f21dcede8');\n",
              "          const dataTable =\n",
              "            await google.colab.kernel.invokeFunction('convertToInteractive',\n",
              "                                                     [key], {});\n",
              "          if (!dataTable) return;\n",
              "\n",
              "          const docLinkHtml = 'Like what you see? Visit the ' +\n",
              "            '<a target=\"_blank\" href=https://colab.research.google.com/notebooks/data_table.ipynb>data table notebook</a>'\n",
              "            + ' to learn more about interactive tables.';\n",
              "          element.innerHTML = '';\n",
              "          dataTable['output_type'] = 'display_data';\n",
              "          await google.colab.output.renderOutput(dataTable, element);\n",
              "          const docLink = document.createElement('div');\n",
              "          docLink.innerHTML = docLinkHtml;\n",
              "          element.appendChild(docLink);\n",
              "        }\n",
              "      </script>\n",
              "    </div>\n",
              "  </div>\n",
              "  "
            ]
          },
          "metadata": {},
          "execution_count": 96
        }
      ]
    },
    {
      "cell_type": "markdown",
      "source": [
        "### Model Building and testing using MultiNomialNB using Count Vectorizer and tf-idf Vectorizer\n"
      ],
      "metadata": {
        "id": "sEha_Kjcv_KN"
      }
    },
    {
      "cell_type": "code",
      "source": [
        "from sklearn.feature_extraction.text import CountVectorizer\n",
        "from sklearn.model_selection import train_test_split\n",
        "from sklearn.feature_extraction.text import TfidfVectorizer\n",
        "from sklearn.naive_bayes import MultinomialNB\n",
        "from sklearn.metrics import classification_report, accuracy_score, f1_score\n",
        "from sklearn.pipeline import Pipeline\n",
        "from sklearn.neighbors import KNeighborsClassifier\n",
        "from sklearn.svm import SVC"
      ],
      "metadata": {
        "id": "AdBd6AmhyGt2"
      },
      "execution_count": 97,
      "outputs": []
    },
    {
      "cell_type": "markdown",
      "source": [
        "Model building using MultiNomialNB (Naive Bayes) Model and uni-gram CountVectorizer for Classification"
      ],
      "metadata": {
        "id": "u2lqXC3THBYK"
      }
    },
    {
      "cell_type": "code",
      "source": [
        "\"\"\"\n",
        "Now convert each message into a vector that machine learning models can understand.\n",
        "\n",
        "\"\"\"\n",
        "# uni-gram CountVectorizer\n",
        "\n",
        "vectorizer = CountVectorizer().fit_transform(utterances['lemmatized_utterance'])\n",
        "X = np.array(vectorizer.todense())\n",
        "print(\"Shape of X: \", X.shape)\n",
        "y = utterances['intent']\n",
        "X_train, X_test, y_train, y_test = train_test_split(X, y, test_size=0.2, stratify=y)\n",
        "print(\"Shape of X_train: \", X_train.shape)\n",
        "print(\"Shape of X_test: \", X_test.shape)"
      ],
      "metadata": {
        "id": "sgWJgw1rwNYO",
        "colab": {
          "base_uri": "https://localhost:8080/"
        },
        "outputId": "691a0c40-94b4-4ec1-daf2-6b8749477d5b"
      },
      "execution_count": 98,
      "outputs": [
        {
          "output_type": "stream",
          "name": "stdout",
          "text": [
            "Shape of X:  (8618, 1811)\n",
            "Shape of X_train:  (6894, 1811)\n",
            "Shape of X_test:  (1724, 1811)\n"
          ]
        }
      ]
    },
    {
      "cell_type": "code",
      "source": [
        "count_vectorizer_unigram_MNB_model = MultinomialNB().fit(X_train, y_train)\n",
        "y_pred = count_vectorizer_unigram_MNB_model.predict(X_test)\n",
        "\n",
        "y_pred"
      ],
      "metadata": {
        "id": "Q1KHeFvq5NhL",
        "colab": {
          "base_uri": "https://localhost:8080/"
        },
        "outputId": "49741845-cac5-45af-cee8-69b2802e5cc6"
      },
      "execution_count": 99,
      "outputs": [
        {
          "output_type": "execute_result",
          "data": {
            "text/plain": [
              "array(['verify_my_identity', 'beneficiary_not_allowed',\n",
              "       'transfer_fee_charged', ..., 'declined_cash_withdrawal',\n",
              "       'balance_not_updated_after_bank_transfer', 'request_refund'],\n",
              "      dtype='<U48')"
            ]
          },
          "metadata": {},
          "execution_count": 99
        }
      ]
    },
    {
      "cell_type": "code",
      "source": [
        "print('Accuracy:', accuracy_score(y_test, y_pred))\n",
        "print('F1 score:', f1_score(y_test, y_pred, average=\"macro\"))\n",
        "\n",
        "print (classification_report(y_test, y_pred))"
      ],
      "metadata": {
        "id": "Q4PBj4z6Gjqu",
        "colab": {
          "base_uri": "https://localhost:8080/"
        },
        "outputId": "eb09bfff-f9bf-4bac-bf20-e5f7a10515cc"
      },
      "execution_count": 100,
      "outputs": [
        {
          "output_type": "stream",
          "name": "stdout",
          "text": [
            "Accuracy: 0.7946635730858469\n",
            "F1 score: 0.7681684912315829\n",
            "                                                  precision    recall  f1-score   support\n",
            "\n",
            "                           Refund_not_showing_up       0.81      0.90      0.85        29\n",
            "                                activate_my_card       0.69      0.86      0.76        28\n",
            "                                       age_limit       1.00      0.83      0.91        18\n",
            "                         apple_pay_or_google_pay       0.92      1.00      0.96        22\n",
            "                                     atm_support       1.00      0.21      0.35        14\n",
            "                                automatic_top_up       0.95      0.86      0.90        22\n",
            "         balance_not_updated_after_bank_transfer       0.62      0.80      0.70        30\n",
            "balance_not_updated_after_cheque_or_cash_deposit       0.78      0.94      0.85        33\n",
            "                         beneficiary_not_allowed       0.88      0.78      0.82        27\n",
            "                                 cancel_transfer       0.82      0.96      0.89        28\n",
            "                            card_about_to_expire       0.58      0.95      0.72        22\n",
            "                                 card_acceptance       1.00      0.11      0.20         9\n",
            "                                    card_arrival       0.88      0.78      0.82        27\n",
            "                          card_delivery_estimate       0.83      0.53      0.65        19\n",
            "                                    card_linking       0.83      0.83      0.83        24\n",
            "                                card_not_working       0.75      0.33      0.46        18\n",
            "                        card_payment_fee_charged       0.70      0.91      0.79        34\n",
            "                     card_payment_not_recognised       0.70      0.77      0.73        30\n",
            "                card_payment_wrong_exchange_rate       0.77      0.93      0.84        29\n",
            "                                  card_swallowed       1.00      0.22      0.36         9\n",
            "                          cash_withdrawal_charge       0.83      0.94      0.88        32\n",
            "                  cash_withdrawal_not_recognised       0.78      0.75      0.76        28\n",
            "                                      change_pin       0.95      0.90      0.93        21\n",
            "                                compromised_card       0.89      0.57      0.70        14\n",
            "                         contactless_not_working       1.00      0.50      0.67         6\n",
            "                                 country_support       0.95      0.82      0.88        22\n",
            "                           declined_card_payment       0.74      0.93      0.82        27\n",
            "                        declined_cash_withdrawal       0.46      0.84      0.60        31\n",
            "                               declined_transfer       0.95      0.91      0.93        23\n",
            "             direct_debit_payment_not_recognised       0.83      0.88      0.85        33\n",
            "                          disposable_card_limits       0.61      0.95      0.75        20\n",
            "                           edit_personal_details       0.88      1.00      0.93        21\n",
            "                                 exchange_charge       0.79      0.75      0.77        20\n",
            "                                   exchange_rate       0.92      0.63      0.75        19\n",
            "                                exchange_via_app       0.94      0.75      0.83        20\n",
            "                       extra_charge_on_statement       0.82      0.79      0.81        29\n",
            "                                 failed_transfer       0.83      0.83      0.83        24\n",
            "                           fiat_currency_support       0.89      0.81      0.85        21\n",
            "                     get_disposable_virtual_card       0.69      0.69      0.69        16\n",
            "                               get_physical_card       1.00      0.78      0.88        18\n",
            "                              getting_spare_card       0.76      0.59      0.67        22\n",
            "                            getting_virtual_card       0.87      0.81      0.84        16\n",
            "                             lost_or_stolen_card       0.89      0.62      0.73        13\n",
            "                            lost_or_stolen_phone       0.95      0.95      0.95        21\n",
            "                             order_physical_card       0.71      0.25      0.37        20\n",
            "                              passcode_forgotten       1.00      0.88      0.94        17\n",
            "                            pending_card_payment       0.77      0.96      0.86        28\n",
            "                         pending_cash_withdrawal       0.85      0.92      0.88        25\n",
            "                                  pending_top_up       0.94      0.65      0.77        26\n",
            "                                pending_transfer       0.89      0.62      0.73        26\n",
            "                                     pin_blocked       0.76      1.00      0.86        19\n",
            "                                 receiving_money       1.00      0.56      0.72        16\n",
            "                                  request_refund       0.96      0.90      0.93        30\n",
            "                          reverted_card_payment?       0.83      0.86      0.84        28\n",
            "                  supported_cards_and_currencies       0.70      0.86      0.78        22\n",
            "                               terminate_account       1.00      0.94      0.97        18\n",
            "                  top_up_by_bank_transfer_charge       0.92      0.58      0.71        19\n",
            "                           top_up_by_card_charge       0.74      0.89      0.81        19\n",
            "                        top_up_by_cash_or_cheque       1.00      0.79      0.88        19\n",
            "                                   top_up_failed       0.69      0.80      0.74        25\n",
            "                                   top_up_limits       0.93      0.88      0.90        16\n",
            "                                 top_up_reverted       0.68      0.73      0.70        26\n",
            "                              topping_up_by_card       1.00      0.53      0.69        17\n",
            "                       transaction_charged_twice       0.91      0.91      0.91        32\n",
            "                            transfer_fee_charged       0.82      0.90      0.86        31\n",
            "                           transfer_into_account       0.81      0.89      0.85        19\n",
            "              transfer_not_received_by_recipient       0.62      0.77      0.69        31\n",
            "                                 transfer_timing       0.62      0.68      0.65        22\n",
            "                       unable_to_verify_identity       0.75      0.53      0.62        17\n",
            "                              verify_my_identity       0.75      0.71      0.73        17\n",
            "                          verify_source_of_funds       0.92      0.58      0.71        19\n",
            "                                   verify_top_up       0.84      1.00      0.91        21\n",
            "                        virtual_card_not_working       1.00      0.17      0.29         6\n",
            "                              visa_or_mastercard       0.91      0.91      0.91        23\n",
            "                             why_verify_identity       0.65      0.65      0.65        20\n",
            "                   wrong_amount_of_cash_received       0.81      0.81      0.81        32\n",
            "         wrong_exchange_rate_for_cash_withdrawal       0.69      0.86      0.77        29\n",
            "\n",
            "                                        accuracy                           0.79      1724\n",
            "                                       macro avg       0.83      0.76      0.77      1724\n",
            "                                    weighted avg       0.82      0.79      0.79      1724\n",
            "\n"
          ]
        }
      ]
    },
    {
      "cell_type": "markdown",
      "source": [
        "Model building using MultiNomialNB (Naive Bayes) Model and bi-gram CountVectorizer for Classification"
      ],
      "metadata": {
        "id": "1Hel4S1PzCS5"
      }
    },
    {
      "cell_type": "code",
      "source": [
        "# bi-gram CountVectorizer using pipeline approach\n",
        "\n",
        "X = utterances['lemmatized_utterance']\n",
        "y = utterances['intent']\n",
        "X_train, X_test, y_train, y_test = train_test_split(X, y, test_size=0.2, stratify=y)\n",
        "\n",
        "print(\"Shape of X_train: \", X_train.shape)\n",
        "print(\"Shape of X_test: \", X_test.shape)\n",
        "\n",
        "# Creating a pipeline object\n",
        "count_vector_MNB_pipeline = Pipeline([\n",
        "    ('vectorizer_bigrams', CountVectorizer(ngram_range = (2, 2))),        #using the ngram_range parameter \n",
        "     ('Multi NB', MultinomialNB())         \n",
        "])\n",
        " \n",
        " #fit with features\n",
        "count_vector_MNB_pipeline.fit(X_train, y_train)\n"
      ],
      "metadata": {
        "id": "hWCqqUfu20VB",
        "colab": {
          "base_uri": "https://localhost:8080/"
        },
        "outputId": "4c38fa97-8bca-403a-d99a-8ea8f6980fe5"
      },
      "execution_count": 101,
      "outputs": [
        {
          "output_type": "stream",
          "name": "stdout",
          "text": [
            "Shape of X_train:  (6894,)\n",
            "Shape of X_test:  (1724,)\n"
          ]
        },
        {
          "output_type": "execute_result",
          "data": {
            "text/plain": [
              "Pipeline(steps=[('vectorizer_bigrams', CountVectorizer(ngram_range=(2, 2))),\n",
              "                ('Multi NB', MultinomialNB())])"
            ]
          },
          "metadata": {},
          "execution_count": 101
        }
      ]
    },
    {
      "cell_type": "code",
      "source": [
        "#get the predictions for X_test using pipeline object\n",
        "\n",
        "y_pred = count_vector_MNB_pipeline.predict(X_test)\n",
        "y_pred"
      ],
      "metadata": {
        "id": "o1yzEeXrzVpw",
        "colab": {
          "base_uri": "https://localhost:8080/"
        },
        "outputId": "b4a3e342-c496-42df-e67a-fa1ca0c86c46"
      },
      "execution_count": 102,
      "outputs": [
        {
          "output_type": "execute_result",
          "data": {
            "text/plain": [
              "array(['pending_top_up', 'request_refund', 'transfer_fee_charged', ...,\n",
              "       'passcode_forgotten', 'cancel_transfer',\n",
              "       'wrong_exchange_rate_for_cash_withdrawal'], dtype='<U48')"
            ]
          },
          "metadata": {},
          "execution_count": 102
        }
      ]
    },
    {
      "cell_type": "code",
      "source": [
        "print('Accuracy:', accuracy_score(y_test, y_pred))\n",
        "print('F1 score:', f1_score(y_test, y_pred, average=\"macro\"))\n",
        "\n",
        "print (classification_report(y_test, y_pred))"
      ],
      "metadata": {
        "id": "njW1vlIrHn0u",
        "colab": {
          "base_uri": "https://localhost:8080/"
        },
        "outputId": "e714ca8d-db06-4014-b93a-cc5d50ca3850"
      },
      "execution_count": 103,
      "outputs": [
        {
          "output_type": "stream",
          "name": "stdout",
          "text": [
            "Accuracy: 0.7169373549883991\n",
            "F1 score: 0.7119539241646126\n",
            "                                                  precision    recall  f1-score   support\n",
            "\n",
            "                           Refund_not_showing_up       0.91      0.72      0.81        29\n",
            "                                activate_my_card       0.76      0.89      0.82        28\n",
            "                                       age_limit       1.00      0.72      0.84        18\n",
            "                         apple_pay_or_google_pay       0.92      1.00      0.96        22\n",
            "                                     atm_support       1.00      0.21      0.35        14\n",
            "                                automatic_top_up       1.00      0.82      0.90        22\n",
            "         balance_not_updated_after_bank_transfer       0.62      0.80      0.70        30\n",
            "balance_not_updated_after_cheque_or_cash_deposit       0.70      0.79      0.74        33\n",
            "                         beneficiary_not_allowed       0.83      0.56      0.67        27\n",
            "                                 cancel_transfer       0.76      0.79      0.77        28\n",
            "                            card_about_to_expire       0.66      0.86      0.75        22\n",
            "                                 card_acceptance       0.50      0.22      0.31         9\n",
            "                                    card_arrival       0.76      0.70      0.73        27\n",
            "                          card_delivery_estimate       0.70      0.37      0.48        19\n",
            "                                    card_linking       0.75      0.75      0.75        24\n",
            "                                card_not_working       0.60      0.50      0.55        18\n",
            "                        card_payment_fee_charged       0.20      0.79      0.32        34\n",
            "                     card_payment_not_recognised       0.80      0.67      0.73        30\n",
            "                card_payment_wrong_exchange_rate       0.61      0.76      0.68        29\n",
            "                                  card_swallowed       1.00      0.44      0.62         9\n",
            "                          cash_withdrawal_charge       0.69      0.75      0.72        32\n",
            "                  cash_withdrawal_not_recognised       0.79      0.79      0.79        28\n",
            "                                      change_pin       0.90      0.86      0.88        21\n",
            "                                compromised_card       0.55      0.43      0.48        14\n",
            "                         contactless_not_working       1.00      0.83      0.91         6\n",
            "                                 country_support       0.53      0.36      0.43        22\n",
            "                           declined_card_payment       0.68      0.63      0.65        27\n",
            "                        declined_cash_withdrawal       0.57      0.84      0.68        31\n",
            "                               declined_transfer       0.76      0.83      0.79        23\n",
            "             direct_debit_payment_not_recognised       0.74      0.79      0.76        33\n",
            "                          disposable_card_limits       0.83      0.95      0.88        20\n",
            "                           edit_personal_details       0.90      0.86      0.88        21\n",
            "                                 exchange_charge       0.76      0.80      0.78        20\n",
            "                                   exchange_rate       1.00      0.53      0.69        19\n",
            "                                exchange_via_app       0.94      0.75      0.83        20\n",
            "                       extra_charge_on_statement       0.84      0.72      0.78        29\n",
            "                                 failed_transfer       0.76      0.79      0.78        24\n",
            "                           fiat_currency_support       0.85      0.81      0.83        21\n",
            "                     get_disposable_virtual_card       0.76      0.81      0.79        16\n",
            "                               get_physical_card       0.78      0.78      0.78        18\n",
            "                              getting_spare_card       0.85      0.77      0.81        22\n",
            "                            getting_virtual_card       0.78      0.88      0.82        16\n",
            "                             lost_or_stolen_card       0.56      0.38      0.45        13\n",
            "                            lost_or_stolen_phone       0.79      0.90      0.84        21\n",
            "                             order_physical_card       0.73      0.55      0.63        20\n",
            "                              passcode_forgotten       1.00      1.00      1.00        17\n",
            "                            pending_card_payment       0.68      0.82      0.74        28\n",
            "                         pending_cash_withdrawal       0.76      0.88      0.81        25\n",
            "                                  pending_top_up       0.67      0.62      0.64        26\n",
            "                                pending_transfer       0.76      0.73      0.75        26\n",
            "                                     pin_blocked       1.00      0.84      0.91        19\n",
            "                                 receiving_money       0.91      0.62      0.74        16\n",
            "                                  request_refund       0.81      0.83      0.82        30\n",
            "                          reverted_card_payment?       0.68      0.82      0.74        28\n",
            "                  supported_cards_and_currencies       0.59      0.59      0.59        22\n",
            "                               terminate_account       1.00      0.83      0.91        18\n",
            "                  top_up_by_bank_transfer_charge       1.00      0.68      0.81        19\n",
            "                           top_up_by_card_charge       0.83      0.53      0.65        19\n",
            "                        top_up_by_cash_or_cheque       0.93      0.74      0.82        19\n",
            "                                   top_up_failed       0.46      0.44      0.45        25\n",
            "                                   top_up_limits       0.82      0.88      0.85        16\n",
            "                                 top_up_reverted       0.74      0.65      0.69        26\n",
            "                              topping_up_by_card       0.75      0.35      0.48        17\n",
            "                       transaction_charged_twice       0.79      0.81      0.80        32\n",
            "                            transfer_fee_charged       0.75      0.58      0.65        31\n",
            "                           transfer_into_account       0.79      0.79      0.79        19\n",
            "              transfer_not_received_by_recipient       0.82      0.74      0.78        31\n",
            "                                 transfer_timing       0.54      0.64      0.58        22\n",
            "                       unable_to_verify_identity       1.00      0.47      0.64        17\n",
            "                              verify_my_identity       0.47      0.53      0.50        17\n",
            "                          verify_source_of_funds       0.93      0.74      0.82        19\n",
            "                                   verify_top_up       0.78      1.00      0.88        21\n",
            "                        virtual_card_not_working       0.00      0.00      0.00         6\n",
            "                              visa_or_mastercard       1.00      0.87      0.93        23\n",
            "                             why_verify_identity       0.57      0.40      0.47        20\n",
            "                   wrong_amount_of_cash_received       0.85      0.72      0.78        32\n",
            "         wrong_exchange_rate_for_cash_withdrawal       0.72      0.62      0.67        29\n",
            "\n",
            "                                        accuracy                           0.72      1724\n",
            "                                       macro avg       0.76      0.70      0.71      1724\n",
            "                                    weighted avg       0.76      0.72      0.72      1724\n",
            "\n"
          ]
        },
        {
          "output_type": "stream",
          "name": "stderr",
          "text": [
            "/usr/local/lib/python3.8/dist-packages/sklearn/metrics/_classification.py:1318: UndefinedMetricWarning: Precision and F-score are ill-defined and being set to 0.0 in labels with no predicted samples. Use `zero_division` parameter to control this behavior.\n",
            "  _warn_prf(average, modifier, msg_start, len(result))\n",
            "/usr/local/lib/python3.8/dist-packages/sklearn/metrics/_classification.py:1318: UndefinedMetricWarning: Precision and F-score are ill-defined and being set to 0.0 in labels with no predicted samples. Use `zero_division` parameter to control this behavior.\n",
            "  _warn_prf(average, modifier, msg_start, len(result))\n",
            "/usr/local/lib/python3.8/dist-packages/sklearn/metrics/_classification.py:1318: UndefinedMetricWarning: Precision and F-score are ill-defined and being set to 0.0 in labels with no predicted samples. Use `zero_division` parameter to control this behavior.\n",
            "  _warn_prf(average, modifier, msg_start, len(result))\n"
          ]
        }
      ]
    },
    {
      "cell_type": "markdown",
      "source": [
        "Model building using MultiNomialNB (Naive Bayes) Model and uni-gram and bi-gram CountVectorizer for Classification"
      ],
      "metadata": {
        "id": "fmZuwPRFDfzz"
      }
    },
    {
      "cell_type": "code",
      "source": [
        "# uni-gram, bi-gram CountVectorizer\n",
        "\n",
        "unibigram_vectorizer = CountVectorizer(ngram_range=(1,2)).fit_transform(utterances['lemmatized_utterance'])\n",
        "X = np.array(unibigram_vectorizer.todense())\n",
        "print(\"Shape of X: \", X.shape)\n",
        "y = utterances['intent']\n",
        "X_train, X_test, y_train, y_test = train_test_split(X, y, test_size=0.2, stratify=y)\n",
        "print(\"Shape of X_train: \", X_train.shape)\n",
        "print(\"Shape of X_test: \", X_test.shape)\n"
      ],
      "metadata": {
        "id": "9O1woSmTDMue",
        "colab": {
          "base_uri": "https://localhost:8080/"
        },
        "outputId": "4eaf7c05-36fe-4a01-e715-3fc0041d80c5"
      },
      "execution_count": 104,
      "outputs": [
        {
          "output_type": "stream",
          "name": "stdout",
          "text": [
            "Shape of X:  (8618, 16561)\n",
            "Shape of X_train:  (6894, 16561)\n",
            "Shape of X_test:  (1724, 16561)\n"
          ]
        }
      ]
    },
    {
      "cell_type": "code",
      "source": [
        "ctvectorizer_unibigram_MNB_model = MultinomialNB().fit(X_train, y_train)\n",
        "y_pred = ctvectorizer_unibigram_MNB_model.predict(X_test)\n",
        "\n",
        "y_pred"
      ],
      "metadata": {
        "id": "jwcy_r_HDRQY",
        "colab": {
          "base_uri": "https://localhost:8080/"
        },
        "outputId": "8fa95f3c-6266-476c-a80d-60ec9fc7c597"
      },
      "execution_count": 105,
      "outputs": [
        {
          "output_type": "execute_result",
          "data": {
            "text/plain": [
              "array(['cancel_transfer', 'exchange_via_app',\n",
              "       'balance_not_updated_after_cheque_or_cash_deposit', ...,\n",
              "       'get_physical_card', 'reverted_card_payment?',\n",
              "       'transaction_charged_twice'], dtype='<U48')"
            ]
          },
          "metadata": {},
          "execution_count": 105
        }
      ]
    },
    {
      "cell_type": "code",
      "source": [
        "print('Accuracy:', accuracy_score(y_test, y_pred))\n",
        "print('F1 score:', f1_score(y_test, y_pred, average=\"macro\"))\n",
        "\n",
        "print (classification_report(y_test, y_pred))"
      ],
      "metadata": {
        "id": "yvfKsDeSDEdV",
        "colab": {
          "base_uri": "https://localhost:8080/"
        },
        "outputId": "7db7be35-1bd8-4bdc-87e9-d985a51300d8"
      },
      "execution_count": 106,
      "outputs": [
        {
          "output_type": "stream",
          "name": "stdout",
          "text": [
            "Accuracy: 0.8114849187935035\n",
            "F1 score: 0.8009682298413713\n",
            "                                                  precision    recall  f1-score   support\n",
            "\n",
            "                           Refund_not_showing_up       0.96      0.93      0.95        29\n",
            "                                activate_my_card       0.84      0.96      0.90        28\n",
            "                                       age_limit       1.00      0.89      0.94        18\n",
            "                         apple_pay_or_google_pay       0.81      0.95      0.88        22\n",
            "                                     atm_support       1.00      0.71      0.83        14\n",
            "                                automatic_top_up       0.95      0.95      0.95        22\n",
            "         balance_not_updated_after_bank_transfer       0.64      0.77      0.70        30\n",
            "balance_not_updated_after_cheque_or_cash_deposit       0.74      0.94      0.83        33\n",
            "                         beneficiary_not_allowed       1.00      0.67      0.80        27\n",
            "                                 cancel_transfer       0.72      0.93      0.81        28\n",
            "                            card_about_to_expire       0.67      1.00      0.80        22\n",
            "                                 card_acceptance       1.00      0.33      0.50         9\n",
            "                                    card_arrival       0.83      0.70      0.76        27\n",
            "                          card_delivery_estimate       0.73      0.42      0.53        19\n",
            "                                    card_linking       0.84      0.88      0.86        24\n",
            "                                card_not_working       1.00      0.56      0.71        18\n",
            "                        card_payment_fee_charged       0.69      0.85      0.76        34\n",
            "                     card_payment_not_recognised       0.79      0.77      0.78        30\n",
            "                card_payment_wrong_exchange_rate       0.74      0.97      0.84        29\n",
            "                                  card_swallowed       0.83      0.56      0.67         9\n",
            "                          cash_withdrawal_charge       0.81      0.91      0.85        32\n",
            "                  cash_withdrawal_not_recognised       0.71      0.79      0.75        28\n",
            "                                      change_pin       0.87      0.95      0.91        21\n",
            "                                compromised_card       0.82      0.64      0.72        14\n",
            "                         contactless_not_working       1.00      0.67      0.80         6\n",
            "                                 country_support       0.89      0.73      0.80        22\n",
            "                           declined_card_payment       0.65      0.89      0.75        27\n",
            "                        declined_cash_withdrawal       0.60      0.90      0.72        31\n",
            "                               declined_transfer       0.89      0.74      0.81        23\n",
            "             direct_debit_payment_not_recognised       0.83      0.88      0.85        33\n",
            "                          disposable_card_limits       0.69      1.00      0.82        20\n",
            "                           edit_personal_details       0.90      0.90      0.90        21\n",
            "                                 exchange_charge       0.75      0.90      0.82        20\n",
            "                                   exchange_rate       1.00      0.47      0.64        19\n",
            "                                exchange_via_app       0.88      0.70      0.78        20\n",
            "                       extra_charge_on_statement       0.86      0.86      0.86        29\n",
            "                                 failed_transfer       0.68      0.79      0.73        24\n",
            "                           fiat_currency_support       1.00      0.81      0.89        21\n",
            "                     get_disposable_virtual_card       0.85      0.69      0.76        16\n",
            "                               get_physical_card       1.00      0.78      0.88        18\n",
            "                              getting_spare_card       0.75      0.55      0.63        22\n",
            "                            getting_virtual_card       0.88      0.94      0.91        16\n",
            "                             lost_or_stolen_card       0.80      0.31      0.44        13\n",
            "                            lost_or_stolen_phone       0.91      1.00      0.95        21\n",
            "                             order_physical_card       0.62      0.65      0.63        20\n",
            "                              passcode_forgotten       1.00      0.82      0.90        17\n",
            "                            pending_card_payment       0.80      0.86      0.83        28\n",
            "                         pending_cash_withdrawal       0.77      0.96      0.86        25\n",
            "                                  pending_top_up       0.86      0.73      0.79        26\n",
            "                                pending_transfer       0.78      0.81      0.79        26\n",
            "                                     pin_blocked       0.89      0.89      0.89        19\n",
            "                                 receiving_money       0.92      0.69      0.79        16\n",
            "                                  request_refund       0.91      0.97      0.94        30\n",
            "                          reverted_card_payment?       0.86      0.86      0.86        28\n",
            "                  supported_cards_and_currencies       0.78      0.64      0.70        22\n",
            "                               terminate_account       1.00      0.83      0.91        18\n",
            "                  top_up_by_bank_transfer_charge       1.00      0.79      0.88        19\n",
            "                           top_up_by_card_charge       0.75      0.95      0.84        19\n",
            "                        top_up_by_cash_or_cheque       1.00      0.79      0.88        19\n",
            "                                   top_up_failed       0.53      0.64      0.58        25\n",
            "                                   top_up_limits       1.00      0.81      0.90        16\n",
            "                                 top_up_reverted       0.75      0.81      0.78        26\n",
            "                              topping_up_by_card       1.00      0.65      0.79        17\n",
            "                       transaction_charged_twice       0.89      0.97      0.93        32\n",
            "                            transfer_fee_charged       0.93      0.84      0.88        31\n",
            "                           transfer_into_account       0.50      0.79      0.61        19\n",
            "              transfer_not_received_by_recipient       0.85      0.71      0.77        31\n",
            "                                 transfer_timing       0.70      0.73      0.71        22\n",
            "                       unable_to_verify_identity       0.86      0.71      0.77        17\n",
            "                              verify_my_identity       0.75      0.71      0.73        17\n",
            "                          verify_source_of_funds       1.00      0.84      0.91        19\n",
            "                                   verify_top_up       0.88      1.00      0.93        21\n",
            "                        virtual_card_not_working       1.00      0.50      0.67         6\n",
            "                              visa_or_mastercard       1.00      0.96      0.98        23\n",
            "                             why_verify_identity       0.81      0.65      0.72        20\n",
            "                   wrong_amount_of_cash_received       0.93      0.81      0.87        32\n",
            "         wrong_exchange_rate_for_cash_withdrawal       0.87      0.90      0.88        29\n",
            "\n",
            "                                        accuracy                           0.81      1724\n",
            "                                       macro avg       0.84      0.79      0.80      1724\n",
            "                                    weighted avg       0.83      0.81      0.81      1724\n",
            "\n"
          ]
        }
      ]
    },
    {
      "cell_type": "markdown",
      "source": [
        "Model building using MultiNomialNB (Naive Bayes) Model and tri-gram CountVectorizer for Classification"
      ],
      "metadata": {
        "id": "3uCjhafHH6cM"
      }
    },
    {
      "cell_type": "code",
      "source": [
        "#tri-gram CountVectorizer\n",
        "\n",
        "trigram_vectorizer = CountVectorizer(ngram_range=(3,3)).fit_transform(utterances['lemmatized_utterance'])\n",
        "X = np.array(trigram_vectorizer.todense())\n",
        "print(\"Shape of X: \", X.shape)\n",
        "y = utterances['intent']\n",
        "X_train, X_test, y_train, y_test = train_test_split(X, y, test_size=0.2, stratify=y)\n",
        "print(\"Shape of X_train: \", X_train.shape)\n",
        "print(\"Shape of X_test: \", X_test.shape)\n"
      ],
      "metadata": {
        "id": "enI1_GCIH9SL",
        "colab": {
          "base_uri": "https://localhost:8080/"
        },
        "outputId": "3e184f68-89ae-43c1-9d30-76210bf9b663"
      },
      "execution_count": 107,
      "outputs": [
        {
          "output_type": "stream",
          "name": "stdout",
          "text": [
            "Shape of X:  (8618, 20985)\n",
            "Shape of X_train:  (6894, 20985)\n",
            "Shape of X_test:  (1724, 20985)\n"
          ]
        }
      ]
    },
    {
      "cell_type": "code",
      "source": [
        "ctvectorizer_trigram_MNB_model = MultinomialNB().fit(X_train, y_train)\n",
        "y_pred = ctvectorizer_trigram_MNB_model.predict(X_test)\n",
        "\n",
        "y_pred"
      ],
      "metadata": {
        "id": "3BWB0RIDILYd",
        "colab": {
          "base_uri": "https://localhost:8080/"
        },
        "outputId": "64ab5743-5dda-4c0e-83f9-b7f38a5a3338"
      },
      "execution_count": 108,
      "outputs": [
        {
          "output_type": "execute_result",
          "data": {
            "text/plain": [
              "array(['card_payment_fee_charged', 'transaction_charged_twice',\n",
              "       'top_up_by_cash_or_cheque', ..., 'card_payment_fee_charged',\n",
              "       'getting_spare_card', 'card_payment_fee_charged'], dtype='<U48')"
            ]
          },
          "metadata": {},
          "execution_count": 108
        }
      ]
    },
    {
      "cell_type": "code",
      "source": [
        "print('Accuracy:', accuracy_score(y_test, y_pred))\n",
        "print('F1 score:', f1_score(y_test, y_pred, average=\"macro\"))\n",
        "\n",
        "print (classification_report(y_test, y_pred))"
      ],
      "metadata": {
        "id": "zUdFEL61CrJb",
        "colab": {
          "base_uri": "https://localhost:8080/"
        },
        "outputId": "c8e8b409-1a77-4e81-ffe4-1d181601d4b9"
      },
      "execution_count": 109,
      "outputs": [
        {
          "output_type": "stream",
          "name": "stdout",
          "text": [
            "Accuracy: 0.4547563805104408\n",
            "F1 score: 0.5387573493757783\n",
            "                                                  precision    recall  f1-score   support\n",
            "\n",
            "                           Refund_not_showing_up       0.82      0.31      0.45        29\n",
            "                                activate_my_card       0.57      0.46      0.51        28\n",
            "                                       age_limit       1.00      0.39      0.56        18\n",
            "                         apple_pay_or_google_pay       1.00      0.73      0.84        22\n",
            "                                     atm_support       1.00      0.29      0.44        14\n",
            "                                automatic_top_up       1.00      0.50      0.67        22\n",
            "         balance_not_updated_after_bank_transfer       0.74      0.57      0.64        30\n",
            "balance_not_updated_after_cheque_or_cash_deposit       0.90      0.55      0.68        33\n",
            "                         beneficiary_not_allowed       0.67      0.44      0.53        27\n",
            "                                 cancel_transfer       1.00      0.54      0.70        28\n",
            "                            card_about_to_expire       0.76      0.86      0.81        22\n",
            "                                 card_acceptance       0.00      0.00      0.00         9\n",
            "                                    card_arrival       0.71      0.37      0.49        27\n",
            "                          card_delivery_estimate       0.60      0.16      0.25        19\n",
            "                                    card_linking       0.87      0.54      0.67        24\n",
            "                                card_not_working       0.50      0.11      0.18        18\n",
            "                        card_payment_fee_charged       0.04      0.97      0.08        34\n",
            "                     card_payment_not_recognised       0.79      0.37      0.50        30\n",
            "                card_payment_wrong_exchange_rate       0.68      0.59      0.63        29\n",
            "                                  card_swallowed       1.00      0.11      0.20         9\n",
            "                          cash_withdrawal_charge       0.76      0.50      0.60        32\n",
            "                  cash_withdrawal_not_recognised       0.73      0.29      0.41        28\n",
            "                                      change_pin       1.00      0.43      0.60        21\n",
            "                                compromised_card       0.78      0.50      0.61        14\n",
            "                         contactless_not_working       1.00      0.33      0.50         6\n",
            "                                 country_support       1.00      0.18      0.31        22\n",
            "                           declined_card_payment       0.77      0.37      0.50        27\n",
            "                        declined_cash_withdrawal       0.69      0.65      0.67        31\n",
            "                               declined_transfer       0.73      0.48      0.58        23\n",
            "             direct_debit_payment_not_recognised       0.87      0.79      0.83        33\n",
            "                          disposable_card_limits       0.83      0.75      0.79        20\n",
            "                           edit_personal_details       0.88      0.33      0.48        21\n",
            "                                 exchange_charge       1.00      0.60      0.75        20\n",
            "                                   exchange_rate       0.80      0.42      0.55        19\n",
            "                                exchange_via_app       1.00      0.40      0.57        20\n",
            "                       extra_charge_on_statement       0.92      0.41      0.57        29\n",
            "                                 failed_transfer       0.78      0.29      0.42        24\n",
            "                           fiat_currency_support       1.00      0.43      0.60        21\n",
            "                     get_disposable_virtual_card       0.71      0.62      0.67        16\n",
            "                               get_physical_card       1.00      0.28      0.43        18\n",
            "                              getting_spare_card       0.92      0.55      0.69        22\n",
            "                            getting_virtual_card       0.92      0.69      0.79        16\n",
            "                             lost_or_stolen_card       1.00      0.08      0.14        13\n",
            "                            lost_or_stolen_phone       1.00      0.43      0.60        21\n",
            "                             order_physical_card       0.75      0.15      0.25        20\n",
            "                              passcode_forgotten       1.00      0.41      0.58        17\n",
            "                            pending_card_payment       0.85      0.61      0.71        28\n",
            "                         pending_cash_withdrawal       0.91      0.80      0.85        25\n",
            "                                  pending_top_up       0.88      0.27      0.41        26\n",
            "                                pending_transfer       0.83      0.38      0.53        26\n",
            "                                     pin_blocked       0.80      0.21      0.33        19\n",
            "                                 receiving_money       1.00      0.25      0.40        16\n",
            "                                  request_refund       0.71      0.40      0.51        30\n",
            "                          reverted_card_payment?       0.67      0.43      0.52        28\n",
            "                  supported_cards_and_currencies       0.75      0.55      0.63        22\n",
            "                               terminate_account       1.00      0.28      0.43        18\n",
            "                  top_up_by_bank_transfer_charge       1.00      0.26      0.42        19\n",
            "                           top_up_by_card_charge       1.00      0.63      0.77        19\n",
            "                        top_up_by_cash_or_cheque       1.00      0.63      0.77        19\n",
            "                                   top_up_failed       0.88      0.28      0.42        25\n",
            "                                   top_up_limits       0.88      0.44      0.58        16\n",
            "                                 top_up_reverted       0.86      0.23      0.36        26\n",
            "                              topping_up_by_card       0.90      0.53      0.67        17\n",
            "                       transaction_charged_twice       0.88      0.44      0.58        32\n",
            "                            transfer_fee_charged       0.92      0.39      0.55        31\n",
            "                           transfer_into_account       0.78      0.74      0.76        19\n",
            "              transfer_not_received_by_recipient       0.52      0.35      0.42        31\n",
            "                                 transfer_timing       0.73      0.50      0.59        22\n",
            "                       unable_to_verify_identity       0.80      0.24      0.36        17\n",
            "                              verify_my_identity       0.71      0.29      0.42        17\n",
            "                          verify_source_of_funds       0.93      0.74      0.82        19\n",
            "                                   verify_top_up       1.00      0.57      0.73        21\n",
            "                        virtual_card_not_working       1.00      0.33      0.50         6\n",
            "                              visa_or_mastercard       0.88      0.30      0.45        23\n",
            "                             why_verify_identity       0.83      0.25      0.38        20\n",
            "                   wrong_amount_of_cash_received       0.93      0.44      0.60        32\n",
            "         wrong_exchange_rate_for_cash_withdrawal       0.72      0.62      0.67        29\n",
            "\n",
            "                                        accuracy                           0.45      1724\n",
            "                                       macro avg       0.83      0.44      0.54      1724\n",
            "                                    weighted avg       0.82      0.45      0.55      1724\n",
            "\n"
          ]
        },
        {
          "output_type": "stream",
          "name": "stderr",
          "text": [
            "/usr/local/lib/python3.8/dist-packages/sklearn/metrics/_classification.py:1318: UndefinedMetricWarning: Precision and F-score are ill-defined and being set to 0.0 in labels with no predicted samples. Use `zero_division` parameter to control this behavior.\n",
            "  _warn_prf(average, modifier, msg_start, len(result))\n",
            "/usr/local/lib/python3.8/dist-packages/sklearn/metrics/_classification.py:1318: UndefinedMetricWarning: Precision and F-score are ill-defined and being set to 0.0 in labels with no predicted samples. Use `zero_division` parameter to control this behavior.\n",
            "  _warn_prf(average, modifier, msg_start, len(result))\n",
            "/usr/local/lib/python3.8/dist-packages/sklearn/metrics/_classification.py:1318: UndefinedMetricWarning: Precision and F-score are ill-defined and being set to 0.0 in labels with no predicted samples. Use `zero_division` parameter to control this behavior.\n",
            "  _warn_prf(average, modifier, msg_start, len(result))\n"
          ]
        }
      ]
    },
    {
      "cell_type": "markdown",
      "source": [
        "###Model building using MultiNomialNB (Naive Bayes) Model and tf-idf (term frequency - inverse document frequency) vectorizer for Classification\n"
      ],
      "metadata": {
        "id": "viNCooOX_g7d"
      }
    },
    {
      "cell_type": "code",
      "source": [
        "\n",
        "# Using TfidfVectorizer\n",
        "\n",
        "tfidfVectorizer = TfidfVectorizer().fit_transform(utterances['lemmatized_utterance'])\n",
        "X = np.array(tfidfVectorizer.todense())\n",
        "\n",
        "y = utterances['intent']\n",
        "X_train, X_test, y_train, y_test = train_test_split(X, y, test_size=0.2, stratify=y)\n",
        "print(\"Shape of X_train: \", X_train.shape)\n",
        "print(\"Shape of X_test: \", X_test.shape)\n"
      ],
      "metadata": {
        "id": "NPXwPjZj_nkh",
        "colab": {
          "base_uri": "https://localhost:8080/"
        },
        "outputId": "567f2739-5d4c-4b5a-fe39-f9bf1dc354a3"
      },
      "execution_count": 110,
      "outputs": [
        {
          "output_type": "stream",
          "name": "stdout",
          "text": [
            "Shape of X_train:  (6894, 1811)\n",
            "Shape of X_test:  (1724, 1811)\n"
          ]
        }
      ]
    },
    {
      "cell_type": "code",
      "source": [
        "tfidfvectorizer_MNB_model = MultinomialNB().fit(X_train, y_train)\n",
        "y_pred = tfidfvectorizer_MNB_model.predict(X_test)\n",
        "\n",
        "y_pred"
      ],
      "metadata": {
        "id": "beAuzTVqGXcE",
        "colab": {
          "base_uri": "https://localhost:8080/"
        },
        "outputId": "2a92f758-5214-430d-f8a3-be2e3016a7a0"
      },
      "execution_count": 111,
      "outputs": [
        {
          "output_type": "execute_result",
          "data": {
            "text/plain": [
              "array(['wrong_amount_of_cash_received', 'pending_top_up',\n",
              "       'visa_or_mastercard', ..., 'cancel_transfer',\n",
              "       'wrong_exchange_rate_for_cash_withdrawal',\n",
              "       'declined_cash_withdrawal'], dtype='<U48')"
            ]
          },
          "metadata": {},
          "execution_count": 111
        }
      ]
    },
    {
      "cell_type": "code",
      "source": [
        "print('Accuracy:', accuracy_score(y_test, y_pred))\n",
        "print('F1 score:', f1_score(y_test, y_pred, average=\"macro\"))\n",
        "\n",
        "print (classification_report(y_test, y_pred))"
      ],
      "metadata": {
        "id": "_2j5vv4nEE6l",
        "colab": {
          "base_uri": "https://localhost:8080/"
        },
        "outputId": "2214a5c1-98a7-42be-cfb7-0f667ac80287"
      },
      "execution_count": 112,
      "outputs": [
        {
          "output_type": "stream",
          "name": "stdout",
          "text": [
            "Accuracy: 0.7848027842227379\n",
            "F1 score: 0.738178697761854\n",
            "                                                  precision    recall  f1-score   support\n",
            "\n",
            "                           Refund_not_showing_up       0.89      0.86      0.88        29\n",
            "                                activate_my_card       0.77      0.96      0.86        28\n",
            "                                       age_limit       1.00      0.89      0.94        18\n",
            "                         apple_pay_or_google_pay       0.96      1.00      0.98        22\n",
            "                                     atm_support       1.00      0.14      0.25        14\n",
            "                                automatic_top_up       1.00      0.95      0.98        22\n",
            "         balance_not_updated_after_bank_transfer       0.49      0.80      0.61        30\n",
            "balance_not_updated_after_cheque_or_cash_deposit       0.68      0.91      0.78        33\n",
            "                         beneficiary_not_allowed       0.89      0.89      0.89        27\n",
            "                                 cancel_transfer       0.80      1.00      0.89        28\n",
            "                            card_about_to_expire       0.76      1.00      0.86        22\n",
            "                                 card_acceptance       0.00      0.00      0.00         9\n",
            "                                    card_arrival       0.74      0.85      0.79        27\n",
            "                          card_delivery_estimate       0.91      0.53      0.67        19\n",
            "                                    card_linking       0.84      0.88      0.86        24\n",
            "                                card_not_working       1.00      0.50      0.67        18\n",
            "                        card_payment_fee_charged       0.55      0.88      0.67        34\n",
            "                     card_payment_not_recognised       0.62      0.80      0.70        30\n",
            "                card_payment_wrong_exchange_rate       0.65      0.97      0.78        29\n",
            "                                  card_swallowed       1.00      0.11      0.20         9\n",
            "                          cash_withdrawal_charge       0.79      0.94      0.86        32\n",
            "                  cash_withdrawal_not_recognised       0.70      0.75      0.72        28\n",
            "                                      change_pin       0.91      1.00      0.95        21\n",
            "                                compromised_card       0.88      0.50      0.64        14\n",
            "                         contactless_not_working       0.00      0.00      0.00         6\n",
            "                                 country_support       0.89      0.73      0.80        22\n",
            "                           declined_card_payment       0.68      0.85      0.75        27\n",
            "                        declined_cash_withdrawal       0.55      0.87      0.67        31\n",
            "                               declined_transfer       0.82      0.78      0.80        23\n",
            "             direct_debit_payment_not_recognised       0.77      0.82      0.79        33\n",
            "                          disposable_card_limits       0.66      0.95      0.78        20\n",
            "                           edit_personal_details       1.00      0.95      0.98        21\n",
            "                                 exchange_charge       0.86      0.95      0.90        20\n",
            "                                   exchange_rate       1.00      0.21      0.35        19\n",
            "                                exchange_via_app       0.94      0.80      0.86        20\n",
            "                       extra_charge_on_statement       0.83      0.69      0.75        29\n",
            "                                 failed_transfer       0.84      0.88      0.86        24\n",
            "                           fiat_currency_support       1.00      0.95      0.98        21\n",
            "                     get_disposable_virtual_card       0.83      0.62      0.71        16\n",
            "                               get_physical_card       0.93      0.78      0.85        18\n",
            "                              getting_spare_card       0.68      0.77      0.72        22\n",
            "                            getting_virtual_card       0.83      0.94      0.88        16\n",
            "                             lost_or_stolen_card       0.80      0.31      0.44        13\n",
            "                            lost_or_stolen_phone       0.95      0.90      0.93        21\n",
            "                             order_physical_card       0.69      0.55      0.61        20\n",
            "                              passcode_forgotten       0.94      1.00      0.97        17\n",
            "                            pending_card_payment       0.82      0.96      0.89        28\n",
            "                         pending_cash_withdrawal       0.95      0.84      0.89        25\n",
            "                                  pending_top_up       0.73      0.73      0.73        26\n",
            "                                pending_transfer       0.61      0.42      0.50        26\n",
            "                                     pin_blocked       0.95      0.95      0.95        19\n",
            "                                 receiving_money       0.89      0.50      0.64        16\n",
            "                                  request_refund       0.88      0.97      0.92        30\n",
            "                          reverted_card_payment?       0.83      0.71      0.77        28\n",
            "                  supported_cards_and_currencies       0.59      0.86      0.70        22\n",
            "                               terminate_account       1.00      0.72      0.84        18\n",
            "                  top_up_by_bank_transfer_charge       0.87      0.68      0.76        19\n",
            "                           top_up_by_card_charge       0.64      0.84      0.73        19\n",
            "                        top_up_by_cash_or_cheque       1.00      0.63      0.77        19\n",
            "                                   top_up_failed       0.86      0.72      0.78        25\n",
            "                                   top_up_limits       1.00      0.50      0.67        16\n",
            "                                 top_up_reverted       0.96      0.85      0.90        26\n",
            "                              topping_up_by_card       1.00      0.18      0.30        17\n",
            "                       transaction_charged_twice       0.81      0.91      0.85        32\n",
            "                            transfer_fee_charged       0.80      0.77      0.79        31\n",
            "                           transfer_into_account       0.90      0.47      0.62        19\n",
            "              transfer_not_received_by_recipient       0.70      0.84      0.76        31\n",
            "                                 transfer_timing       0.75      0.68      0.71        22\n",
            "                       unable_to_verify_identity       0.77      0.59      0.67        17\n",
            "                              verify_my_identity       0.83      0.59      0.69        17\n",
            "                          verify_source_of_funds       1.00      0.79      0.88        19\n",
            "                                   verify_top_up       0.84      1.00      0.91        21\n",
            "                        virtual_card_not_working       0.00      0.00      0.00         6\n",
            "                              visa_or_mastercard       1.00      1.00      1.00        23\n",
            "                             why_verify_identity       0.71      0.85      0.77        20\n",
            "                   wrong_amount_of_cash_received       0.67      0.91      0.77        32\n",
            "         wrong_exchange_rate_for_cash_withdrawal       0.83      0.86      0.85        29\n",
            "\n",
            "                                        accuracy                           0.78      1724\n",
            "                                       macro avg       0.80      0.74      0.74      1724\n",
            "                                    weighted avg       0.80      0.78      0.77      1724\n",
            "\n"
          ]
        },
        {
          "output_type": "stream",
          "name": "stderr",
          "text": [
            "/usr/local/lib/python3.8/dist-packages/sklearn/metrics/_classification.py:1318: UndefinedMetricWarning: Precision and F-score are ill-defined and being set to 0.0 in labels with no predicted samples. Use `zero_division` parameter to control this behavior.\n",
            "  _warn_prf(average, modifier, msg_start, len(result))\n",
            "/usr/local/lib/python3.8/dist-packages/sklearn/metrics/_classification.py:1318: UndefinedMetricWarning: Precision and F-score are ill-defined and being set to 0.0 in labels with no predicted samples. Use `zero_division` parameter to control this behavior.\n",
            "  _warn_prf(average, modifier, msg_start, len(result))\n",
            "/usr/local/lib/python3.8/dist-packages/sklearn/metrics/_classification.py:1318: UndefinedMetricWarning: Precision and F-score are ill-defined and being set to 0.0 in labels with no predicted samples. Use `zero_division` parameter to control this behavior.\n",
            "  _warn_prf(average, modifier, msg_start, len(result))\n"
          ]
        }
      ]
    },
    {
      "cell_type": "code",
      "source": [
        "# tf-idf vectorizer and MNB model using Pipeline approach\n",
        "\n",
        "X = utterances['lemmatized_utterance']\n",
        "y = utterances['intent']\n",
        "X_train, X_test, y_train, y_test = train_test_split(X, y, test_size=0.2, stratify=y)\n",
        "\n",
        "print(\"Shape of X_train: \", X_train.shape)\n",
        "print(\"Shape of X_test: \", X_test.shape)\n",
        "\n",
        "# Creating a pipeline object\n",
        "tfidf_vector_MNB_pipeline = Pipeline([\n",
        "    ('vectorizer_tfidf', TfidfVectorizer()),        #using the ngram_range parameter \n",
        "     ('Multi NB', MultinomialNB())         \n",
        "])\n",
        " \n",
        " #fit with features\n",
        "tfidf_vector_MNB_pipeline.fit(X_train, y_train)\n",
        "\n"
      ],
      "metadata": {
        "id": "uu1KCP-KEgbM",
        "colab": {
          "base_uri": "https://localhost:8080/"
        },
        "outputId": "152995a7-567b-4963-d15d-bf9f1d20970c"
      },
      "execution_count": 113,
      "outputs": [
        {
          "output_type": "stream",
          "name": "stdout",
          "text": [
            "Shape of X_train:  (6894,)\n",
            "Shape of X_test:  (1724,)\n"
          ]
        },
        {
          "output_type": "execute_result",
          "data": {
            "text/plain": [
              "Pipeline(steps=[('vectorizer_tfidf', TfidfVectorizer()),\n",
              "                ('Multi NB', MultinomialNB())])"
            ]
          },
          "metadata": {},
          "execution_count": 113
        }
      ]
    },
    {
      "cell_type": "code",
      "source": [
        "#get the predictions for X_test using pipeline object\n",
        "\n",
        "y_pred = tfidf_vector_MNB_pipeline.predict(X_test)\n",
        "y_pred"
      ],
      "metadata": {
        "id": "LmyxchldFCo0",
        "colab": {
          "base_uri": "https://localhost:8080/"
        },
        "outputId": "aeaca292-bfed-46f5-f1e2-5ce9a3284a6a"
      },
      "execution_count": 114,
      "outputs": [
        {
          "output_type": "execute_result",
          "data": {
            "text/plain": [
              "array(['card_linking', 'Refund_not_showing_up', 'passcode_forgotten', ...,\n",
              "       'automatic_top_up', 'disposable_card_limits', 'activate_my_card'],\n",
              "      dtype='<U48')"
            ]
          },
          "metadata": {},
          "execution_count": 114
        }
      ]
    },
    {
      "cell_type": "code",
      "source": [
        "print('Accuracy:', accuracy_score(y_test, y_pred))\n",
        "print('F1 score:', f1_score(y_test, y_pred, average=\"macro\"))\n",
        "\n",
        "print (classification_report(y_test, y_pred))"
      ],
      "metadata": {
        "id": "lyjBekxVFEiu",
        "colab": {
          "base_uri": "https://localhost:8080/"
        },
        "outputId": "7ec2b844-ed74-4ce6-9d04-bda0a59a3aa5"
      },
      "execution_count": 115,
      "outputs": [
        {
          "output_type": "stream",
          "name": "stdout",
          "text": [
            "Accuracy: 0.8033642691415314\n",
            "F1 score: 0.7661596021734353\n",
            "                                                  precision    recall  f1-score   support\n",
            "\n",
            "                           Refund_not_showing_up       1.00      0.72      0.84        29\n",
            "                                activate_my_card       0.78      1.00      0.88        28\n",
            "                                       age_limit       1.00      0.89      0.94        18\n",
            "                         apple_pay_or_google_pay       0.92      1.00      0.96        22\n",
            "                                     atm_support       1.00      0.29      0.44        14\n",
            "                                automatic_top_up       1.00      0.91      0.95        22\n",
            "         balance_not_updated_after_bank_transfer       0.61      0.81      0.69        31\n",
            "balance_not_updated_after_cheque_or_cash_deposit       0.73      0.97      0.83        33\n",
            "                         beneficiary_not_allowed       0.90      0.70      0.79        27\n",
            "                                 cancel_transfer       0.82      0.96      0.89        28\n",
            "                            card_about_to_expire       0.71      0.91      0.80        22\n",
            "                                 card_acceptance       1.00      0.11      0.20         9\n",
            "                                    card_arrival       0.83      0.74      0.78        27\n",
            "                          card_delivery_estimate       0.79      0.58      0.67        19\n",
            "                                    card_linking       0.81      0.92      0.86        24\n",
            "                                card_not_working       0.88      0.39      0.54        18\n",
            "                        card_payment_fee_charged       0.67      0.91      0.78        34\n",
            "                     card_payment_not_recognised       0.64      0.90      0.75        30\n",
            "                card_payment_wrong_exchange_rate       0.68      0.90      0.78        29\n",
            "                                  card_swallowed       1.00      0.11      0.20         9\n",
            "                          cash_withdrawal_charge       0.81      0.91      0.85        32\n",
            "                  cash_withdrawal_not_recognised       0.66      0.82      0.73        28\n",
            "                                      change_pin       1.00      0.90      0.95        21\n",
            "                                compromised_card       0.83      0.36      0.50        14\n",
            "                         contactless_not_working       1.00      0.33      0.50         6\n",
            "                                 country_support       0.89      0.77      0.83        22\n",
            "                           declined_card_payment       0.69      0.81      0.75        27\n",
            "                        declined_cash_withdrawal       0.57      0.94      0.71        31\n",
            "                               declined_transfer       0.69      0.87      0.77        23\n",
            "             direct_debit_payment_not_recognised       0.86      0.94      0.90        33\n",
            "                          disposable_card_limits       0.79      0.95      0.86        20\n",
            "                           edit_personal_details       0.95      0.95      0.95        21\n",
            "                                 exchange_charge       0.89      0.85      0.87        20\n",
            "                                   exchange_rate       1.00      0.47      0.64        19\n",
            "                                exchange_via_app       0.94      0.85      0.89        20\n",
            "                       extra_charge_on_statement       0.84      0.90      0.87        29\n",
            "                                 failed_transfer       0.96      0.96      0.96        24\n",
            "                           fiat_currency_support       1.00      0.86      0.92        21\n",
            "                     get_disposable_virtual_card       0.67      0.75      0.71        16\n",
            "                               get_physical_card       0.94      0.94      0.94        18\n",
            "                              getting_spare_card       0.86      0.82      0.84        22\n",
            "                            getting_virtual_card       0.82      0.88      0.85        16\n",
            "                             lost_or_stolen_card       1.00      0.31      0.47        13\n",
            "                            lost_or_stolen_phone       0.83      0.90      0.86        21\n",
            "                             order_physical_card       0.73      0.55      0.63        20\n",
            "                              passcode_forgotten       1.00      1.00      1.00        17\n",
            "                            pending_card_payment       0.76      1.00      0.86        28\n",
            "                         pending_cash_withdrawal       1.00      0.68      0.81        25\n",
            "                                  pending_top_up       0.85      0.85      0.85        26\n",
            "                                pending_transfer       0.82      0.54      0.65        26\n",
            "                                     pin_blocked       0.95      1.00      0.97        19\n",
            "                                 receiving_money       1.00      0.69      0.81        16\n",
            "                                  request_refund       0.71      1.00      0.83        30\n",
            "                          reverted_card_payment?       0.92      0.79      0.85        28\n",
            "                  supported_cards_and_currencies       0.62      0.82      0.71        22\n",
            "                               terminate_account       1.00      0.72      0.84        18\n",
            "                  top_up_by_bank_transfer_charge       0.85      0.58      0.69        19\n",
            "                           top_up_by_card_charge       0.81      0.89      0.85        19\n",
            "                        top_up_by_cash_or_cheque       0.93      0.68      0.79        19\n",
            "                                   top_up_failed       0.72      0.72      0.72        25\n",
            "                                   top_up_limits       0.93      0.81      0.87        16\n",
            "                                 top_up_reverted       0.92      0.88      0.90        26\n",
            "                              topping_up_by_card       1.00      0.29      0.45        17\n",
            "                       transaction_charged_twice       0.86      0.94      0.90        32\n",
            "                            transfer_fee_charged       0.79      0.74      0.77        31\n",
            "                           transfer_into_account       0.67      0.74      0.70        19\n",
            "              transfer_not_received_by_recipient       0.82      0.93      0.87        30\n",
            "                                 transfer_timing       0.78      0.82      0.80        22\n",
            "                       unable_to_verify_identity       0.80      0.47      0.59        17\n",
            "                              verify_my_identity       0.83      0.59      0.69        17\n",
            "                          verify_source_of_funds       1.00      0.89      0.94        19\n",
            "                                   verify_top_up       0.84      1.00      0.91        21\n",
            "                        virtual_card_not_working       0.00      0.00      0.00         6\n",
            "                              visa_or_mastercard       0.88      0.91      0.89        23\n",
            "                             why_verify_identity       0.55      0.60      0.57        20\n",
            "                   wrong_amount_of_cash_received       0.79      0.81      0.80        32\n",
            "         wrong_exchange_rate_for_cash_withdrawal       0.71      0.86      0.78        29\n",
            "\n",
            "                                        accuracy                           0.80      1724\n",
            "                                       macro avg       0.83      0.76      0.77      1724\n",
            "                                    weighted avg       0.82      0.80      0.79      1724\n",
            "\n"
          ]
        },
        {
          "output_type": "stream",
          "name": "stderr",
          "text": [
            "/usr/local/lib/python3.8/dist-packages/sklearn/metrics/_classification.py:1318: UndefinedMetricWarning: Precision and F-score are ill-defined and being set to 0.0 in labels with no predicted samples. Use `zero_division` parameter to control this behavior.\n",
            "  _warn_prf(average, modifier, msg_start, len(result))\n",
            "/usr/local/lib/python3.8/dist-packages/sklearn/metrics/_classification.py:1318: UndefinedMetricWarning: Precision and F-score are ill-defined and being set to 0.0 in labels with no predicted samples. Use `zero_division` parameter to control this behavior.\n",
            "  _warn_prf(average, modifier, msg_start, len(result))\n",
            "/usr/local/lib/python3.8/dist-packages/sklearn/metrics/_classification.py:1318: UndefinedMetricWarning: Precision and F-score are ill-defined and being set to 0.0 in labels with no predicted samples. Use `zero_division` parameter to control this behavior.\n",
            "  _warn_prf(average, modifier, msg_start, len(result))\n"
          ]
        }
      ]
    },
    {
      "cell_type": "markdown",
      "source": [
        "### Using KNN (K Nearest Neighbour) Model and CountVectorizer"
      ],
      "metadata": {
        "id": "QDJSsjw2_wQP"
      }
    },
    {
      "cell_type": "markdown",
      "source": [
        "##### Using ngram_range as unigram and bigram and metric as Euclidean distance."
      ],
      "metadata": {
        "id": "Q8eBAu2TEF-K"
      }
    },
    {
      "cell_type": "code",
      "source": [
        "# CountVectorizer and KNN model using Pipeline approach \n",
        "\n",
        "X = utterances['lemmatized_utterance']\n",
        "y = utterances['intent']\n",
        "X_train, X_test, y_train, y_test = train_test_split(X, y, test_size=0.2, stratify=y)\n",
        "\n",
        "# Creating a pipeline object\n",
        "count_vector_KNN1_pipeline = Pipeline([\n",
        "    ('vectorizer_count', CountVectorizer(ngram_range=(1,2))),        #using the ngram_range parameter \n",
        "     ('KNN', KNeighborsClassifier(n_neighbors=5, weights='distance', metric='euclidean'))         \n",
        "])\n",
        " \n",
        " #fit with features\n",
        "count_vector_KNN1_pipeline.fit(X_train, y_train)\n",
        "\n",
        "#get the predictions of X_test using pieline object\n",
        "y_pred = count_vector_KNN1_pipeline.predict(X_test)\n",
        "\n",
        "print('Accuracy:', accuracy_score(y_test, y_pred))\n",
        "print('F1 score:', f1_score(y_test, y_pred, average=\"macro\"))\n",
        "\n",
        "print (classification_report(y_test, y_pred))"
      ],
      "metadata": {
        "id": "aN7HWBo5DHEr",
        "colab": {
          "base_uri": "https://localhost:8080/"
        },
        "outputId": "8a14177b-76f3-4b15-fc78-6b38570337c0"
      },
      "execution_count": 116,
      "outputs": [
        {
          "output_type": "stream",
          "name": "stdout",
          "text": [
            "Accuracy: 0.66415313225058\n",
            "F1 score: 0.6698008958767016\n",
            "                                                  precision    recall  f1-score   support\n",
            "\n",
            "                           Refund_not_showing_up       0.69      0.69      0.69        29\n",
            "                                activate_my_card       0.70      0.82      0.75        28\n",
            "                                       age_limit       0.46      0.89      0.60        18\n",
            "                         apple_pay_or_google_pay       0.96      1.00      0.98        22\n",
            "                                     atm_support       0.29      0.71      0.41        14\n",
            "                                automatic_top_up       0.88      0.95      0.91        22\n",
            "         balance_not_updated_after_bank_transfer       0.37      0.87      0.52        31\n",
            "balance_not_updated_after_cheque_or_cash_deposit       0.86      0.55      0.67        33\n",
            "                         beneficiary_not_allowed       0.76      0.48      0.59        27\n",
            "                                 cancel_transfer       0.79      0.82      0.81        28\n",
            "                            card_about_to_expire       0.95      0.82      0.88        22\n",
            "                                 card_acceptance       0.35      0.67      0.46         9\n",
            "                                    card_arrival       0.38      0.93      0.54        27\n",
            "                          card_delivery_estimate       0.42      0.68      0.52        19\n",
            "                                    card_linking       1.00      0.75      0.86        24\n",
            "                                card_not_working       0.44      0.61      0.51        18\n",
            "                        card_payment_fee_charged       0.74      0.74      0.74        34\n",
            "                     card_payment_not_recognised       0.34      0.73      0.47        30\n",
            "                card_payment_wrong_exchange_rate       0.93      0.48      0.64        29\n",
            "                                  card_swallowed       1.00      0.44      0.62         9\n",
            "                          cash_withdrawal_charge       0.73      0.69      0.71        32\n",
            "                  cash_withdrawal_not_recognised       0.75      0.54      0.63        28\n",
            "                                      change_pin       0.95      0.90      0.93        21\n",
            "                                compromised_card       0.70      0.50      0.58        14\n",
            "                         contactless_not_working       0.62      0.83      0.71         6\n",
            "                                 country_support       0.63      0.77      0.69        22\n",
            "                           declined_card_payment       0.53      0.59      0.56        27\n",
            "                        declined_cash_withdrawal       0.82      0.45      0.58        31\n",
            "                               declined_transfer       0.82      0.61      0.70        23\n",
            "             direct_debit_payment_not_recognised       1.00      0.64      0.78        33\n",
            "                          disposable_card_limits       1.00      0.75      0.86        20\n",
            "                           edit_personal_details       0.89      0.81      0.85        21\n",
            "                                 exchange_charge       0.93      0.70      0.80        20\n",
            "                                   exchange_rate       0.45      1.00      0.62        19\n",
            "                                exchange_via_app       0.71      0.85      0.77        20\n",
            "                       extra_charge_on_statement       0.50      0.86      0.63        29\n",
            "                                 failed_transfer       0.57      0.50      0.53        24\n",
            "                           fiat_currency_support       0.81      0.81      0.81        21\n",
            "                     get_disposable_virtual_card       0.71      0.94      0.81        16\n",
            "                               get_physical_card       0.59      0.89      0.71        18\n",
            "                              getting_spare_card       0.69      0.50      0.58        22\n",
            "                            getting_virtual_card       0.83      0.94      0.88        16\n",
            "                             lost_or_stolen_card       0.62      0.38      0.48        13\n",
            "                            lost_or_stolen_phone       1.00      0.71      0.83        21\n",
            "                             order_physical_card       0.39      0.45      0.42        20\n",
            "                              passcode_forgotten       1.00      0.94      0.97        17\n",
            "                            pending_card_payment       0.71      0.61      0.65        28\n",
            "                         pending_cash_withdrawal       0.87      0.52      0.65        25\n",
            "                                  pending_top_up       0.57      0.46      0.51        26\n",
            "                                pending_transfer       0.56      0.54      0.55        26\n",
            "                                     pin_blocked       1.00      0.63      0.77        19\n",
            "                                 receiving_money       0.82      0.56      0.67        16\n",
            "                                  request_refund       0.95      0.67      0.78        30\n",
            "                          reverted_card_payment?       0.71      0.36      0.48        28\n",
            "                  supported_cards_and_currencies       0.68      0.59      0.63        22\n",
            "                               terminate_account       0.83      0.83      0.83        18\n",
            "                  top_up_by_bank_transfer_charge       0.58      0.37      0.45        19\n",
            "                           top_up_by_card_charge       0.80      0.63      0.71        19\n",
            "                        top_up_by_cash_or_cheque       0.64      0.74      0.68        19\n",
            "                                   top_up_failed       0.76      0.52      0.62        25\n",
            "                                   top_up_limits       0.70      0.88      0.78        16\n",
            "                                 top_up_reverted       1.00      0.54      0.70        26\n",
            "                              topping_up_by_card       0.43      0.53      0.47        17\n",
            "                       transaction_charged_twice       0.83      0.78      0.81        32\n",
            "                            transfer_fee_charged       0.75      0.58      0.65        31\n",
            "                           transfer_into_account       0.57      0.68      0.62        19\n",
            "              transfer_not_received_by_recipient       0.46      0.20      0.28        30\n",
            "                                 transfer_timing       0.50      0.59      0.54        22\n",
            "                       unable_to_verify_identity       0.88      0.41      0.56        17\n",
            "                              verify_my_identity       0.53      0.47      0.50        17\n",
            "                          verify_source_of_funds       0.94      0.84      0.89        19\n",
            "                                   verify_top_up       1.00      0.81      0.89        21\n",
            "                        virtual_card_not_working       1.00      0.50      0.67         6\n",
            "                              visa_or_mastercard       0.88      0.96      0.92        23\n",
            "                             why_verify_identity       0.59      0.50      0.54        20\n",
            "                   wrong_amount_of_cash_received       0.68      0.72      0.70        32\n",
            "         wrong_exchange_rate_for_cash_withdrawal       1.00      0.31      0.47        29\n",
            "\n",
            "                                        accuracy                           0.66      1724\n",
            "                                       macro avg       0.72      0.67      0.67      1724\n",
            "                                    weighted avg       0.73      0.66      0.67      1724\n",
            "\n"
          ]
        }
      ]
    },
    {
      "cell_type": "markdown",
      "source": [
        "##### Using ngram_range as unigram, bigram and trigram and metric as cosine distance."
      ],
      "metadata": {
        "id": "HfdHMXqcETh5"
      }
    },
    {
      "cell_type": "code",
      "source": [
        "# CountVectorizer and KNN model using Pipeline approach \n",
        "\n",
        "X = utterances['lemmatized_utterance']\n",
        "y = utterances['intent']\n",
        "X_train, X_test, y_train, y_test = train_test_split(X, y, test_size=0.2, stratify=y)\n",
        "\n",
        "# Creating a pipeline object\n",
        "count_vector_KNN2_pipeline = Pipeline([\n",
        "    ('vectorizer_count', CountVectorizer(ngram_range=(1,3))),        #using the ngram_range parameter \n",
        "     ('KNN', KNeighborsClassifier(n_neighbors=5, weights='distance', metric='cosine'))         \n",
        "])\n",
        " \n",
        " #fit with features\n",
        "count_vector_KNN2_pipeline.fit(X_train, y_train)\n",
        "\n",
        "#get the predictions of X_test using pieline object\n",
        "y_pred = count_vector_KNN2_pipeline.predict(X_test)\n",
        "\n",
        "print('Accuracy:', accuracy_score(y_test, y_pred))\n",
        "print('F1 score:', f1_score(y_test, y_pred, average=\"macro\"))\n",
        "\n",
        "print (classification_report(y_test, y_pred))"
      ],
      "metadata": {
        "colab": {
          "base_uri": "https://localhost:8080/"
        },
        "id": "iM6RKQZzEa-H",
        "outputId": "26886b0a-82e9-421b-8745-0fd7117657d8"
      },
      "execution_count": 117,
      "outputs": [
        {
          "output_type": "stream",
          "name": "stdout",
          "text": [
            "Accuracy: 0.7587006960556845\n",
            "F1 score: 0.7508097289568746\n",
            "                                                  precision    recall  f1-score   support\n",
            "\n",
            "                           Refund_not_showing_up       0.90      0.90      0.90        29\n",
            "                                activate_my_card       0.79      0.68      0.73        28\n",
            "                                       age_limit       0.94      0.89      0.91        18\n",
            "                         apple_pay_or_google_pay       0.91      0.95      0.93        22\n",
            "                                     atm_support       0.65      0.79      0.71        14\n",
            "                                automatic_top_up       0.90      0.86      0.88        22\n",
            "         balance_not_updated_after_bank_transfer       0.49      0.65      0.56        31\n",
            "balance_not_updated_after_cheque_or_cash_deposit       0.84      0.79      0.81        33\n",
            "                         beneficiary_not_allowed       0.95      0.70      0.81        27\n",
            "                                 cancel_transfer       0.86      0.86      0.86        28\n",
            "                            card_about_to_expire       0.86      0.82      0.84        22\n",
            "                                 card_acceptance       0.62      0.89      0.73         9\n",
            "                                    card_arrival       0.53      0.70      0.60        27\n",
            "                          card_delivery_estimate       0.59      0.53      0.56        19\n",
            "                                    card_linking       0.81      0.88      0.84        24\n",
            "                                card_not_working       0.52      0.67      0.59        18\n",
            "                        card_payment_fee_charged       0.91      0.85      0.88        34\n",
            "                     card_payment_not_recognised       0.58      0.83      0.68        30\n",
            "                card_payment_wrong_exchange_rate       0.88      0.52      0.65        29\n",
            "                                  card_swallowed       0.50      0.33      0.40         9\n",
            "                          cash_withdrawal_charge       0.77      0.94      0.85        32\n",
            "                  cash_withdrawal_not_recognised       0.79      0.54      0.64        28\n",
            "                                      change_pin       0.95      0.90      0.93        21\n",
            "                                compromised_card       0.64      0.50      0.56        14\n",
            "                         contactless_not_working       0.83      0.83      0.83         6\n",
            "                                 country_support       0.65      0.68      0.67        22\n",
            "                           declined_card_payment       0.70      0.70      0.70        27\n",
            "                        declined_cash_withdrawal       0.77      0.77      0.77        31\n",
            "                               declined_transfer       0.71      0.65      0.68        23\n",
            "             direct_debit_payment_not_recognised       0.90      0.82      0.86        33\n",
            "                          disposable_card_limits       0.94      0.75      0.83        20\n",
            "                           edit_personal_details       1.00      0.81      0.89        21\n",
            "                                 exchange_charge       0.85      0.85      0.85        20\n",
            "                                   exchange_rate       0.53      1.00      0.69        19\n",
            "                                exchange_via_app       0.73      0.95      0.83        20\n",
            "                       extra_charge_on_statement       0.65      0.83      0.73        29\n",
            "                                 failed_transfer       0.65      0.71      0.68        24\n",
            "                           fiat_currency_support       0.90      0.86      0.88        21\n",
            "                     get_disposable_virtual_card       0.79      0.94      0.86        16\n",
            "                               get_physical_card       0.71      0.94      0.81        18\n",
            "                              getting_spare_card       0.59      0.77      0.67        22\n",
            "                            getting_virtual_card       0.73      1.00      0.84        16\n",
            "                             lost_or_stolen_card       0.67      0.77      0.71        13\n",
            "                            lost_or_stolen_phone       1.00      0.81      0.89        21\n",
            "                             order_physical_card       0.61      0.70      0.65        20\n",
            "                              passcode_forgotten       0.85      1.00      0.92        17\n",
            "                            pending_card_payment       0.81      0.75      0.78        28\n",
            "                         pending_cash_withdrawal       0.74      0.68      0.71        25\n",
            "                                  pending_top_up       0.83      0.58      0.68        26\n",
            "                                pending_transfer       0.72      0.69      0.71        26\n",
            "                                     pin_blocked       1.00      0.63      0.77        19\n",
            "                                 receiving_money       0.57      0.50      0.53        16\n",
            "                                  request_refund       0.79      0.87      0.83        30\n",
            "                          reverted_card_payment?       0.88      0.54      0.67        28\n",
            "                  supported_cards_and_currencies       0.90      0.86      0.88        22\n",
            "                               terminate_account       0.89      0.89      0.89        18\n",
            "                  top_up_by_bank_transfer_charge       0.92      0.58      0.71        19\n",
            "                           top_up_by_card_charge       0.94      0.84      0.89        19\n",
            "                        top_up_by_cash_or_cheque       1.00      0.79      0.88        19\n",
            "                                   top_up_failed       0.61      0.76      0.68        25\n",
            "                                   top_up_limits       0.60      0.94      0.73        16\n",
            "                                 top_up_reverted       0.68      0.50      0.58        26\n",
            "                              topping_up_by_card       0.74      0.82      0.78        17\n",
            "                       transaction_charged_twice       0.92      0.69      0.79        32\n",
            "                            transfer_fee_charged       0.73      0.71      0.72        31\n",
            "                           transfer_into_account       0.65      0.89      0.76        19\n",
            "              transfer_not_received_by_recipient       0.76      0.73      0.75        30\n",
            "                                 transfer_timing       0.57      0.55      0.56        22\n",
            "                       unable_to_verify_identity       0.76      0.76      0.76        17\n",
            "                              verify_my_identity       0.55      0.65      0.59        17\n",
            "                          verify_source_of_funds       0.76      1.00      0.86        19\n",
            "                                   verify_top_up       0.95      0.90      0.93        21\n",
            "                        virtual_card_not_working       1.00      0.17      0.29         6\n",
            "                              visa_or_mastercard       0.88      1.00      0.94        23\n",
            "                             why_verify_identity       0.71      0.50      0.59        20\n",
            "                   wrong_amount_of_cash_received       0.83      0.78      0.81        32\n",
            "         wrong_exchange_rate_for_cash_withdrawal       0.94      0.55      0.70        29\n",
            "\n",
            "                                        accuracy                           0.76      1724\n",
            "                                       macro avg       0.77      0.76      0.75      1724\n",
            "                                    weighted avg       0.78      0.76      0.76      1724\n",
            "\n"
          ]
        }
      ]
    },
    {
      "cell_type": "markdown",
      "source": [
        "### Using KNN (K Nearest Neighbour) Model and TF-IDF Vectorizer"
      ],
      "metadata": {
        "id": "H0opUCplF2Il"
      }
    },
    {
      "cell_type": "markdown",
      "source": [
        "#####Using Euclidean distance metric."
      ],
      "metadata": {
        "id": "GCaoHLEmHueP"
      }
    },
    {
      "cell_type": "code",
      "source": [
        "# TF-IDF Vectorizer and KNN model using Pipeline approach \n",
        "\n",
        "X = utterances['lemmatized_utterance']\n",
        "y = utterances['intent']\n",
        "X_train, X_test, y_train, y_test = train_test_split(X, y, test_size=0.2, stratify=y)\n",
        "\n",
        "# Creating a pipeline object\n",
        "tfidf_vector_KNN1_pipeline = Pipeline([\n",
        "    ('vectorizer_tfidf', TfidfVectorizer()),       \n",
        "     ('KNN', KNeighborsClassifier(n_neighbors=10, weights='distance', metric='euclidean'))         \n",
        "])\n",
        " \n",
        " #fit with features\n",
        "tfidf_vector_KNN1_pipeline.fit(X_train, y_train)\n",
        "\n",
        "#get the predictions of X_test using pieline object\n",
        "y_pred = tfidf_vector_KNN1_pipeline.predict(X_test)\n",
        "\n",
        "print('Accuracy:', accuracy_score(y_test, y_pred))\n",
        "print('F1 score:', f1_score(y_test, y_pred, average=\"macro\"))\n",
        "\n",
        "print (classification_report(y_test, y_pred))"
      ],
      "metadata": {
        "colab": {
          "base_uri": "https://localhost:8080/"
        },
        "id": "15NdRKv-GGme",
        "outputId": "7f29c31d-4817-467c-b1b9-9bb5405fda3f"
      },
      "execution_count": 118,
      "outputs": [
        {
          "output_type": "stream",
          "name": "stdout",
          "text": [
            "Accuracy: 0.7853828306264501\n",
            "F1 score: 0.78157920791717\n",
            "                                                  precision    recall  f1-score   support\n",
            "\n",
            "                           Refund_not_showing_up       0.86      0.83      0.84        29\n",
            "                                activate_my_card       1.00      0.93      0.96        28\n",
            "                                       age_limit       1.00      1.00      1.00        18\n",
            "                         apple_pay_or_google_pay       1.00      1.00      1.00        22\n",
            "                                     atm_support       0.69      0.64      0.67        14\n",
            "                                automatic_top_up       1.00      0.82      0.90        22\n",
            "         balance_not_updated_after_bank_transfer       0.63      0.77      0.70        31\n",
            "balance_not_updated_after_cheque_or_cash_deposit       0.89      0.94      0.91        33\n",
            "                         beneficiary_not_allowed       0.78      0.67      0.72        27\n",
            "                                 cancel_transfer       0.90      0.96      0.93        28\n",
            "                            card_about_to_expire       0.95      0.82      0.88        22\n",
            "                                 card_acceptance       0.50      0.67      0.57         9\n",
            "                                    card_arrival       0.64      0.59      0.62        27\n",
            "                          card_delivery_estimate       0.60      0.79      0.68        19\n",
            "                                    card_linking       0.92      0.96      0.94        24\n",
            "                                card_not_working       0.85      0.61      0.71        18\n",
            "                        card_payment_fee_charged       0.77      0.79      0.78        34\n",
            "                     card_payment_not_recognised       0.72      0.70      0.71        30\n",
            "                card_payment_wrong_exchange_rate       0.89      0.86      0.88        29\n",
            "                                  card_swallowed       0.78      0.78      0.78         9\n",
            "                          cash_withdrawal_charge       0.73      0.84      0.78        32\n",
            "                  cash_withdrawal_not_recognised       0.95      0.64      0.77        28\n",
            "                                      change_pin       0.95      0.95      0.95        21\n",
            "                                compromised_card       0.82      0.64      0.72        14\n",
            "                         contactless_not_working       0.75      1.00      0.86         6\n",
            "                                 country_support       0.76      0.73      0.74        22\n",
            "                           declined_card_payment       0.76      0.81      0.79        27\n",
            "                        declined_cash_withdrawal       0.85      0.71      0.77        31\n",
            "                               declined_transfer       0.80      0.70      0.74        23\n",
            "             direct_debit_payment_not_recognised       0.89      0.76      0.82        33\n",
            "                          disposable_card_limits       0.95      0.90      0.92        20\n",
            "                           edit_personal_details       1.00      1.00      1.00        21\n",
            "                                 exchange_charge       0.84      0.80      0.82        20\n",
            "                                   exchange_rate       0.71      0.89      0.79        19\n",
            "                                exchange_via_app       0.71      0.75      0.73        20\n",
            "                       extra_charge_on_statement       0.73      0.83      0.77        29\n",
            "                                 failed_transfer       0.76      0.79      0.78        24\n",
            "                           fiat_currency_support       0.90      0.86      0.88        21\n",
            "                     get_disposable_virtual_card       0.81      0.81      0.81        16\n",
            "                               get_physical_card       0.73      0.89      0.80        18\n",
            "                              getting_spare_card       0.62      0.59      0.60        22\n",
            "                            getting_virtual_card       0.83      0.94      0.88        16\n",
            "                             lost_or_stolen_card       0.56      0.77      0.65        13\n",
            "                            lost_or_stolen_phone       1.00      1.00      1.00        21\n",
            "                             order_physical_card       0.47      0.70      0.56        20\n",
            "                              passcode_forgotten       1.00      0.94      0.97        17\n",
            "                            pending_card_payment       0.74      0.71      0.73        28\n",
            "                         pending_cash_withdrawal       0.82      0.92      0.87        25\n",
            "                                  pending_top_up       0.56      0.54      0.55        26\n",
            "                                pending_transfer       0.95      0.73      0.83        26\n",
            "                                     pin_blocked       0.80      0.84      0.82        19\n",
            "                                 receiving_money       0.86      0.75      0.80        16\n",
            "                                  request_refund       0.86      0.83      0.85        30\n",
            "                          reverted_card_payment?       0.86      0.86      0.86        28\n",
            "                  supported_cards_and_currencies       0.56      0.82      0.67        22\n",
            "                               terminate_account       0.94      0.83      0.88        18\n",
            "                  top_up_by_bank_transfer_charge       0.80      0.63      0.71        19\n",
            "                           top_up_by_card_charge       0.84      0.84      0.84        19\n",
            "                        top_up_by_cash_or_cheque       0.86      0.63      0.73        19\n",
            "                                   top_up_failed       0.71      0.60      0.65        25\n",
            "                                   top_up_limits       0.67      0.88      0.76        16\n",
            "                                 top_up_reverted       0.68      0.65      0.67        26\n",
            "                              topping_up_by_card       0.50      0.41      0.45        17\n",
            "                       transaction_charged_twice       0.87      0.81      0.84        32\n",
            "                            transfer_fee_charged       0.77      0.87      0.82        31\n",
            "                           transfer_into_account       0.68      0.68      0.68        19\n",
            "              transfer_not_received_by_recipient       0.77      0.67      0.71        30\n",
            "                                 transfer_timing       0.59      0.73      0.65        22\n",
            "                       unable_to_verify_identity       0.90      0.53      0.67        17\n",
            "                              verify_my_identity       0.48      0.82      0.61        17\n",
            "                          verify_source_of_funds       0.65      0.89      0.76        19\n",
            "                                   verify_top_up       0.94      0.81      0.87        21\n",
            "                        virtual_card_not_working       0.83      0.83      0.83         6\n",
            "                              visa_or_mastercard       0.96      1.00      0.98        23\n",
            "                             why_verify_identity       0.54      0.35      0.42        20\n",
            "                   wrong_amount_of_cash_received       0.78      0.91      0.84        32\n",
            "         wrong_exchange_rate_for_cash_withdrawal       0.90      0.66      0.76        29\n",
            "\n",
            "                                        accuracy                           0.79      1724\n",
            "                                       macro avg       0.79      0.78      0.78      1724\n",
            "                                    weighted avg       0.80      0.79      0.79      1724\n",
            "\n"
          ]
        }
      ]
    },
    {
      "cell_type": "markdown",
      "source": [
        "#####Using Cosine distance metric."
      ],
      "metadata": {
        "id": "CfoX347NH7At"
      }
    },
    {
      "cell_type": "code",
      "source": [
        "# TF-IDF Vectorizer and KNN model using Pipeline approach \n",
        "\n",
        "X = utterances['lemmatized_utterance']\n",
        "y = utterances['intent']\n",
        "X_train, X_test, y_train, y_test = train_test_split(X, y, test_size=0.2, stratify=y)\n",
        "\n",
        "# Creating a pipeline object\n",
        "tfidf_vector_KNN2_pipeline = Pipeline([\n",
        "    ('vectorizer_tfidf', TfidfVectorizer()),       \n",
        "     ('KNN', KNeighborsClassifier(n_neighbors=10, weights='distance', metric='cosine'))         \n",
        "])\n",
        " \n",
        " #fit with features\n",
        "tfidf_vector_KNN2_pipeline.fit(X_train, y_train)\n",
        "\n",
        "#get the predictions of X_test using pieline object\n",
        "y_pred = tfidf_vector_KNN2_pipeline.predict(X_test)\n",
        "\n",
        "print('Accuracy:', accuracy_score(y_test, y_pred))\n",
        "print('F1 score:', f1_score(y_test, y_pred, average=\"macro\"))\n",
        "\n",
        "print (classification_report(y_test, y_pred))"
      ],
      "metadata": {
        "colab": {
          "base_uri": "https://localhost:8080/"
        },
        "id": "Ns9PDpXaH8Ut",
        "outputId": "c55b815c-a9d0-4b0b-a3b2-062cfef4497c"
      },
      "execution_count": 119,
      "outputs": [
        {
          "output_type": "stream",
          "name": "stdout",
          "text": [
            "Accuracy: 0.7801624129930395\n",
            "F1 score: 0.7708850336695414\n",
            "                                                  precision    recall  f1-score   support\n",
            "\n",
            "                           Refund_not_showing_up       0.86      0.83      0.84        29\n",
            "                                activate_my_card       0.96      0.96      0.96        28\n",
            "                                       age_limit       0.95      1.00      0.97        18\n",
            "                         apple_pay_or_google_pay       1.00      0.95      0.98        22\n",
            "                                     atm_support       0.83      0.71      0.77        14\n",
            "                                automatic_top_up       1.00      1.00      1.00        22\n",
            "         balance_not_updated_after_bank_transfer       0.71      0.77      0.74        31\n",
            "balance_not_updated_after_cheque_or_cash_deposit       0.90      0.79      0.84        33\n",
            "                         beneficiary_not_allowed       0.95      0.70      0.81        27\n",
            "                                 cancel_transfer       0.82      0.96      0.89        28\n",
            "                            card_about_to_expire       0.95      0.82      0.88        22\n",
            "                                 card_acceptance       0.50      0.33      0.40         9\n",
            "                                    card_arrival       0.83      0.89      0.86        27\n",
            "                          card_delivery_estimate       0.56      0.53      0.54        19\n",
            "                                    card_linking       0.89      1.00      0.94        24\n",
            "                                card_not_working       0.75      0.67      0.71        18\n",
            "                        card_payment_fee_charged       0.81      0.85      0.83        34\n",
            "                     card_payment_not_recognised       0.67      0.73      0.70        30\n",
            "                card_payment_wrong_exchange_rate       0.87      0.93      0.90        29\n",
            "                                  card_swallowed       0.58      0.78      0.67         9\n",
            "                          cash_withdrawal_charge       0.77      0.84      0.81        32\n",
            "                  cash_withdrawal_not_recognised       0.67      0.43      0.52        28\n",
            "                                      change_pin       0.82      0.86      0.84        21\n",
            "                                compromised_card       0.90      0.64      0.75        14\n",
            "                         contactless_not_working       0.75      0.50      0.60         6\n",
            "                                 country_support       0.88      0.68      0.77        22\n",
            "                           declined_card_payment       0.65      0.81      0.72        27\n",
            "                        declined_cash_withdrawal       0.71      0.81      0.76        31\n",
            "                               declined_transfer       0.77      0.74      0.76        23\n",
            "             direct_debit_payment_not_recognised       0.97      0.88      0.92        33\n",
            "                          disposable_card_limits       0.88      0.70      0.78        20\n",
            "                           edit_personal_details       0.95      1.00      0.98        21\n",
            "                                 exchange_charge       0.83      0.75      0.79        20\n",
            "                                   exchange_rate       0.77      0.89      0.83        19\n",
            "                                exchange_via_app       0.71      0.85      0.77        20\n",
            "                       extra_charge_on_statement       0.62      0.86      0.72        29\n",
            "                                 failed_transfer       0.73      0.67      0.70        24\n",
            "                           fiat_currency_support       0.72      0.86      0.78        21\n",
            "                     get_disposable_virtual_card       0.61      0.88      0.72        16\n",
            "                               get_physical_card       0.74      0.94      0.83        18\n",
            "                              getting_spare_card       0.75      0.55      0.63        22\n",
            "                            getting_virtual_card       0.88      0.88      0.88        16\n",
            "                             lost_or_stolen_card       0.47      0.62      0.53        13\n",
            "                            lost_or_stolen_phone       0.90      0.90      0.90        21\n",
            "                             order_physical_card       0.52      0.75      0.61        20\n",
            "                              passcode_forgotten       0.94      0.94      0.94        17\n",
            "                            pending_card_payment       0.77      0.71      0.74        28\n",
            "                         pending_cash_withdrawal       0.82      0.72      0.77        25\n",
            "                                  pending_top_up       0.62      0.50      0.55        26\n",
            "                                pending_transfer       0.71      0.65      0.68        26\n",
            "                                     pin_blocked       0.94      0.84      0.89        19\n",
            "                                 receiving_money       0.76      0.81      0.79        16\n",
            "                                  request_refund       0.77      0.67      0.71        30\n",
            "                          reverted_card_payment?       0.95      0.71      0.82        28\n",
            "                  supported_cards_and_currencies       0.74      0.77      0.76        22\n",
            "                               terminate_account       1.00      0.83      0.91        18\n",
            "                  top_up_by_bank_transfer_charge       0.72      0.68      0.70        19\n",
            "                           top_up_by_card_charge       0.67      0.95      0.78        19\n",
            "                        top_up_by_cash_or_cheque       0.71      0.79      0.75        19\n",
            "                                   top_up_failed       0.68      0.76      0.72        25\n",
            "                                   top_up_limits       0.87      0.81      0.84        16\n",
            "                                 top_up_reverted       0.91      0.77      0.83        26\n",
            "                              topping_up_by_card       0.67      0.71      0.69        17\n",
            "                       transaction_charged_twice       0.93      0.78      0.85        32\n",
            "                            transfer_fee_charged       0.67      0.71      0.69        31\n",
            "                           transfer_into_account       0.70      0.84      0.76        19\n",
            "              transfer_not_received_by_recipient       0.90      0.63      0.75        30\n",
            "                                 transfer_timing       0.51      0.82      0.63        22\n",
            "                       unable_to_verify_identity       0.91      0.59      0.71        17\n",
            "                              verify_my_identity       0.53      0.47      0.50        17\n",
            "                          verify_source_of_funds       0.83      1.00      0.90        19\n",
            "                                   verify_top_up       0.81      1.00      0.89        21\n",
            "                        virtual_card_not_working       0.67      0.67      0.67         6\n",
            "                              visa_or_mastercard       1.00      0.87      0.93        23\n",
            "                             why_verify_identity       0.52      0.60      0.56        20\n",
            "                   wrong_amount_of_cash_received       0.84      0.81      0.83        32\n",
            "         wrong_exchange_rate_for_cash_withdrawal       0.94      0.59      0.72        29\n",
            "\n",
            "                                        accuracy                           0.78      1724\n",
            "                                       macro avg       0.78      0.77      0.77      1724\n",
            "                                    weighted avg       0.79      0.78      0.78      1724\n",
            "\n"
          ]
        }
      ]
    },
    {
      "cell_type": "markdown",
      "source": [
        "### Using SVM (Support Vector Machine) Model and TF-IDF Vectorizer"
      ],
      "metadata": {
        "id": "vZJQ1mi1Rx_d"
      }
    },
    {
      "cell_type": "markdown",
      "source": [
        "##### Using TF-IDF Vectorizer"
      ],
      "metadata": {
        "id": "hT64pcWdSbqP"
      }
    },
    {
      "cell_type": "code",
      "source": [
        "# TF-IDF Vectorizer and SVM model \n",
        "\n",
        "tfidfVectorizer = TfidfVectorizer().fit_transform(utterances['lemmatized_utterance'])\n",
        "X = np.array(tfidfVectorizer.todense())\n",
        "\n",
        "y = utterances['intent']\n",
        "X_train, X_test, y_train, y_test = train_test_split(X, y, test_size=0.2, stratify=y)\n",
        "\n",
        "SVM_classifier_model1 = SVC(kernel='linear', gamma='auto')\n",
        "\n",
        "#fit with features\n",
        "SVM_classifier_model1.fit(X_train, y_train)\n",
        "\n",
        "#get the predictions of X_test using pieline object\n",
        "y_pred = SVM_classifier_model1.predict(X_test)\n",
        "\n",
        "print('Accuracy:', accuracy_score(y_test, y_pred))\n",
        "print('F1 score:', f1_score(y_test, y_pred, average=\"macro\"))\n",
        "\n",
        "print (classification_report(y_test, y_pred))\n"
      ],
      "metadata": {
        "id": "pFemqt_HRxl-",
        "colab": {
          "base_uri": "https://localhost:8080/"
        },
        "outputId": "a7c6688e-3e19-4f1b-eb32-59cf1b99696e"
      },
      "execution_count": 120,
      "outputs": [
        {
          "output_type": "stream",
          "name": "stdout",
          "text": [
            "Accuracy: 0.845707656612529\n",
            "F1 score: 0.8410183655731164\n",
            "                                                  precision    recall  f1-score   support\n",
            "\n",
            "                           Refund_not_showing_up       0.76      0.86      0.81        29\n",
            "                                activate_my_card       0.96      0.93      0.95        28\n",
            "                                       age_limit       1.00      1.00      1.00        18\n",
            "                         apple_pay_or_google_pay       0.96      1.00      0.98        22\n",
            "                                     atm_support       0.75      0.86      0.80        14\n",
            "                                automatic_top_up       1.00      0.95      0.98        22\n",
            "         balance_not_updated_after_bank_transfer       0.72      0.68      0.70        31\n",
            "balance_not_updated_after_cheque_or_cash_deposit       0.89      0.94      0.91        33\n",
            "                         beneficiary_not_allowed       0.89      0.93      0.91        27\n",
            "                                 cancel_transfer       0.87      0.93      0.90        28\n",
            "                            card_about_to_expire       1.00      0.91      0.95        22\n",
            "                                 card_acceptance       0.57      0.44      0.50         9\n",
            "                                    card_arrival       0.62      0.89      0.73        27\n",
            "                          card_delivery_estimate       0.68      0.79      0.73        19\n",
            "                                    card_linking       0.96      0.92      0.94        24\n",
            "                                card_not_working       0.61      0.78      0.68        18\n",
            "                        card_payment_fee_charged       0.79      0.91      0.85        34\n",
            "                     card_payment_not_recognised       0.64      0.97      0.77        30\n",
            "                card_payment_wrong_exchange_rate       1.00      0.83      0.91        29\n",
            "                                  card_swallowed       1.00      0.67      0.80         9\n",
            "                          cash_withdrawal_charge       0.94      0.91      0.92        32\n",
            "                  cash_withdrawal_not_recognised       0.72      0.93      0.81        28\n",
            "                                      change_pin       1.00      0.86      0.92        21\n",
            "                                compromised_card       0.83      0.36      0.50        14\n",
            "                         contactless_not_working       1.00      0.67      0.80         6\n",
            "                                 country_support       0.80      0.91      0.85        22\n",
            "                           declined_card_payment       0.81      0.78      0.79        27\n",
            "                        declined_cash_withdrawal       0.89      0.77      0.83        31\n",
            "                               declined_transfer       0.95      0.78      0.86        23\n",
            "             direct_debit_payment_not_recognised       1.00      0.76      0.86        33\n",
            "                          disposable_card_limits       1.00      0.85      0.92        20\n",
            "                           edit_personal_details       0.95      1.00      0.98        21\n",
            "                                 exchange_charge       0.82      0.90      0.86        20\n",
            "                                   exchange_rate       0.90      1.00      0.95        19\n",
            "                                exchange_via_app       0.80      1.00      0.89        20\n",
            "                       extra_charge_on_statement       0.84      0.93      0.89        29\n",
            "                                 failed_transfer       0.69      0.92      0.79        24\n",
            "                           fiat_currency_support       1.00      0.90      0.95        21\n",
            "                     get_disposable_virtual_card       0.83      0.94      0.88        16\n",
            "                               get_physical_card       0.86      1.00      0.92        18\n",
            "                              getting_spare_card       0.79      0.68      0.73        22\n",
            "                            getting_virtual_card       0.94      1.00      0.97        16\n",
            "                             lost_or_stolen_card       0.60      0.69      0.64        13\n",
            "                            lost_or_stolen_phone       1.00      0.90      0.95        21\n",
            "                             order_physical_card       0.62      0.65      0.63        20\n",
            "                              passcode_forgotten       1.00      1.00      1.00        17\n",
            "                            pending_card_payment       0.93      0.93      0.93        28\n",
            "                         pending_cash_withdrawal       1.00      0.76      0.86        25\n",
            "                                  pending_top_up       0.86      0.69      0.77        26\n",
            "                                pending_transfer       0.87      0.77      0.82        26\n",
            "                                     pin_blocked       0.89      0.89      0.89        19\n",
            "                                 receiving_money       1.00      0.75      0.86        16\n",
            "                                  request_refund       0.87      0.67      0.75        30\n",
            "                          reverted_card_payment?       0.86      0.68      0.76        28\n",
            "                  supported_cards_and_currencies       0.86      0.82      0.84        22\n",
            "                               terminate_account       0.86      1.00      0.92        18\n",
            "                  top_up_by_bank_transfer_charge       0.88      0.79      0.83        19\n",
            "                           top_up_by_card_charge       0.94      0.89      0.92        19\n",
            "                        top_up_by_cash_or_cheque       0.94      0.79      0.86        19\n",
            "                                   top_up_failed       0.64      0.92      0.75        25\n",
            "                                   top_up_limits       1.00      1.00      1.00        16\n",
            "                                 top_up_reverted       0.90      0.69      0.78        26\n",
            "                              topping_up_by_card       0.67      0.59      0.62        17\n",
            "                       transaction_charged_twice       0.94      0.91      0.92        32\n",
            "                            transfer_fee_charged       0.85      0.74      0.79        31\n",
            "                           transfer_into_account       0.76      0.84      0.80        19\n",
            "              transfer_not_received_by_recipient       0.71      0.73      0.72        30\n",
            "                                 transfer_timing       0.75      0.82      0.78        22\n",
            "                       unable_to_verify_identity       0.80      0.71      0.75        17\n",
            "                              verify_my_identity       0.71      0.71      0.71        17\n",
            "                          verify_source_of_funds       0.83      1.00      0.90        19\n",
            "                                   verify_top_up       1.00      1.00      1.00        21\n",
            "                        virtual_card_not_working       1.00      0.83      0.91         6\n",
            "                              visa_or_mastercard       0.96      0.96      0.96        23\n",
            "                             why_verify_identity       0.67      0.60      0.63        20\n",
            "                   wrong_amount_of_cash_received       0.91      0.91      0.91        32\n",
            "         wrong_exchange_rate_for_cash_withdrawal       0.96      0.90      0.93        29\n",
            "\n",
            "                                        accuracy                           0.85      1724\n",
            "                                       macro avg       0.86      0.84      0.84      1724\n",
            "                                    weighted avg       0.86      0.85      0.85      1724\n",
            "\n"
          ]
        }
      ]
    },
    {
      "cell_type": "markdown",
      "source": [
        "##### Using Count Vectorizer"
      ],
      "metadata": {
        "id": "i8Fs_UPgSkGe"
      }
    },
    {
      "cell_type": "code",
      "source": [
        "# Count Vectorizer with unigram and bigram range and SVC model\n",
        "\n",
        "count_vectorizer = CountVectorizer(ngram_range=(1,2)).fit_transform(utterances['lemmatized_utterance'])\n",
        "X = np.array(count_vectorizer.todense())\n",
        "y = utterances['intent']\n",
        "X_train, X_test, y_train, y_test = train_test_split(X, y, test_size=0.2, stratify=y)\n",
        "\n",
        "SVM_classifier_mode2 = SVC(kernel='linear', gamma='auto')\n",
        "\n",
        "#fit with features\n",
        "SVM_classifier_mode2.fit(X_train, y_train)\n",
        "\n",
        "#get the predictions of X_test using pieline object\n",
        "y_pred = SVM_classifier_mode2.predict(X_test)\n",
        "\n",
        "print('Accuracy:', accuracy_score(y_test, y_pred))\n",
        "print('F1 score:', f1_score(y_test, y_pred, average=\"macro\"))\n",
        "\n",
        "print (classification_report(y_test, y_pred))\n"
      ],
      "metadata": {
        "colab": {
          "base_uri": "https://localhost:8080/"
        },
        "id": "BowA4_7OSmDf",
        "outputId": "7f306af0-671f-40ec-8d45-b3733e3e11c2"
      },
      "execution_count": 121,
      "outputs": [
        {
          "output_type": "stream",
          "name": "stdout",
          "text": [
            "Accuracy: 0.8230858468677494\n",
            "F1 score: 0.8185962862533057\n",
            "                                                  precision    recall  f1-score   support\n",
            "\n",
            "                           Refund_not_showing_up       0.93      0.90      0.91        29\n",
            "                                activate_my_card       1.00      0.86      0.92        28\n",
            "                                       age_limit       0.94      0.94      0.94        18\n",
            "                         apple_pay_or_google_pay       1.00      1.00      1.00        22\n",
            "                                     atm_support       0.58      0.79      0.67        14\n",
            "                                automatic_top_up       1.00      0.95      0.98        22\n",
            "         balance_not_updated_after_bank_transfer       0.65      0.73      0.69        30\n",
            "balance_not_updated_after_cheque_or_cash_deposit       1.00      0.97      0.98        33\n",
            "                         beneficiary_not_allowed       0.82      0.85      0.84        27\n",
            "                                 cancel_transfer       0.96      0.86      0.91        28\n",
            "                            card_about_to_expire       1.00      0.82      0.90        22\n",
            "                                 card_acceptance       0.38      0.67      0.48         9\n",
            "                                    card_arrival       0.78      0.93      0.85        27\n",
            "                          card_delivery_estimate       0.70      0.74      0.72        19\n",
            "                                    card_linking       0.95      0.88      0.91        24\n",
            "                                card_not_working       0.92      0.67      0.77        18\n",
            "                        card_payment_fee_charged       0.81      0.88      0.85        34\n",
            "                     card_payment_not_recognised       0.74      0.83      0.78        30\n",
            "                card_payment_wrong_exchange_rate       0.93      0.86      0.89        29\n",
            "                                  card_swallowed       0.75      0.67      0.71         9\n",
            "                          cash_withdrawal_charge       0.85      0.91      0.88        32\n",
            "                  cash_withdrawal_not_recognised       0.87      0.93      0.90        28\n",
            "                                      change_pin       1.00      0.95      0.98        21\n",
            "                                compromised_card       0.64      0.50      0.56        14\n",
            "                         contactless_not_working       1.00      0.83      0.91         6\n",
            "                                 country_support       0.69      0.91      0.78        22\n",
            "                           declined_card_payment       0.74      0.85      0.79        27\n",
            "                        declined_cash_withdrawal       0.78      0.81      0.79        31\n",
            "                               declined_transfer       0.89      0.70      0.78        23\n",
            "             direct_debit_payment_not_recognised       0.93      0.82      0.87        33\n",
            "                          disposable_card_limits       0.80      0.80      0.80        20\n",
            "                           edit_personal_details       0.90      0.90      0.90        21\n",
            "                                 exchange_charge       0.82      0.90      0.86        20\n",
            "                                   exchange_rate       0.86      1.00      0.93        19\n",
            "                                exchange_via_app       0.95      0.95      0.95        20\n",
            "                       extra_charge_on_statement       0.79      0.79      0.79        29\n",
            "                                 failed_transfer       0.75      0.50      0.60        24\n",
            "                           fiat_currency_support       0.77      0.81      0.79        21\n",
            "                     get_disposable_virtual_card       0.71      0.75      0.73        16\n",
            "                               get_physical_card       0.89      0.94      0.92        18\n",
            "                              getting_spare_card       0.68      0.77      0.72        22\n",
            "                            getting_virtual_card       0.88      0.94      0.91        16\n",
            "                             lost_or_stolen_card       0.67      0.77      0.71        13\n",
            "                            lost_or_stolen_phone       1.00      0.86      0.92        21\n",
            "                             order_physical_card       0.50      0.70      0.58        20\n",
            "                              passcode_forgotten       0.94      1.00      0.97        17\n",
            "                            pending_card_payment       0.82      0.82      0.82        28\n",
            "                         pending_cash_withdrawal       0.86      0.76      0.81        25\n",
            "                                  pending_top_up       0.72      0.81      0.76        26\n",
            "                                pending_transfer       0.83      0.73      0.78        26\n",
            "                                     pin_blocked       0.93      0.74      0.82        19\n",
            "                                 receiving_money       0.91      0.62      0.74        16\n",
            "                                  request_refund       0.93      0.90      0.92        30\n",
            "                          reverted_card_payment?       0.89      0.89      0.89        28\n",
            "                  supported_cards_and_currencies       0.84      0.73      0.78        22\n",
            "                               terminate_account       0.82      1.00      0.90        18\n",
            "                  top_up_by_bank_transfer_charge       0.88      0.74      0.80        19\n",
            "                           top_up_by_card_charge       0.81      0.89      0.85        19\n",
            "                        top_up_by_cash_or_cheque       1.00      0.89      0.94        19\n",
            "                                   top_up_failed       0.67      0.64      0.65        25\n",
            "                                   top_up_limits       0.78      0.88      0.82        16\n",
            "                                 top_up_reverted       0.84      0.81      0.82        26\n",
            "                              topping_up_by_card       0.93      0.76      0.84        17\n",
            "                       transaction_charged_twice       0.86      0.75      0.80        32\n",
            "                            transfer_fee_charged       0.86      0.77      0.81        31\n",
            "                           transfer_into_account       0.71      0.89      0.79        19\n",
            "              transfer_not_received_by_recipient       0.67      0.65      0.66        31\n",
            "                                 transfer_timing       0.66      0.86      0.75        22\n",
            "                       unable_to_verify_identity       0.78      0.82      0.80        17\n",
            "                              verify_my_identity       0.67      0.82      0.74        17\n",
            "                          verify_source_of_funds       0.74      0.74      0.74        19\n",
            "                                   verify_top_up       1.00      1.00      1.00        21\n",
            "                        virtual_card_not_working       1.00      0.67      0.80         6\n",
            "                              visa_or_mastercard       0.96      0.96      0.96        23\n",
            "                             why_verify_identity       0.80      0.60      0.69        20\n",
            "                   wrong_amount_of_cash_received       0.72      0.81      0.76        32\n",
            "         wrong_exchange_rate_for_cash_withdrawal       0.90      0.66      0.76        29\n",
            "\n",
            "                                        accuracy                           0.82      1724\n",
            "                                       macro avg       0.83      0.82      0.82      1724\n",
            "                                    weighted avg       0.83      0.82      0.82      1724\n",
            "\n"
          ]
        }
      ]
    },
    {
      "cell_type": "markdown",
      "source": [
        "### Using Random Forest (Reinforcement Learning) Model"
      ],
      "metadata": {
        "id": "K4Z0baHPHH4C"
      }
    },
    {
      "cell_type": "code",
      "source": [],
      "metadata": {
        "id": "l1oHhcusHPpW"
      },
      "execution_count": 120,
      "outputs": []
    },
    {
      "cell_type": "markdown",
      "source": [
        "### Using Gensim library for text classification"
      ],
      "metadata": {
        "id": "C_V03p09LBn3"
      }
    },
    {
      "cell_type": "code",
      "source": [],
      "metadata": {
        "id": "mFlBpk9WLMGS"
      },
      "execution_count": 120,
      "outputs": []
    },
    {
      "cell_type": "markdown",
      "source": [
        "### Performing NER (Named Entity Recognition"
      ],
      "metadata": {
        "id": "xAjlZ4thLK8J"
      }
    },
    {
      "cell_type": "code",
      "source": [],
      "metadata": {
        "id": "tDbZucUsSQgG"
      },
      "execution_count": 120,
      "outputs": []
    }
  ]
}